{
 "cells": [
  {
   "cell_type": "code",
   "execution_count": 1,
   "metadata": {
    "collapsed": true
   },
   "outputs": [],
   "source": [
    "import numpy as np"
   ]
  },
  {
   "cell_type": "code",
   "execution_count": 2,
   "metadata": {
    "collapsed": true
   },
   "outputs": [],
   "source": [
    "arr = np.arange(1,10)"
   ]
  },
  {
   "cell_type": "code",
   "execution_count": 3,
   "metadata": {},
   "outputs": [
    {
     "data": {
      "text/plain": [
       "array([1, 2, 3, 4, 5, 6, 7, 8, 9])"
      ]
     },
     "execution_count": 3,
     "metadata": {},
     "output_type": "execute_result"
    }
   ],
   "source": [
    "arr"
   ]
  },
  {
   "cell_type": "code",
   "execution_count": 4,
   "metadata": {},
   "outputs": [
    {
     "data": {
      "text/plain": [
       "array([ 1.        ,  1.41421356,  1.73205081,  2.        ,  2.23606798,\n",
       "        2.44948974,  2.64575131,  2.82842712,  3.        ])"
      ]
     },
     "execution_count": 4,
     "metadata": {},
     "output_type": "execute_result"
    }
   ],
   "source": [
    "#sqrt : 제곱근\n",
    "np.sqrt(arr)"
   ]
  },
  {
   "cell_type": "code",
   "execution_count": 5,
   "metadata": {},
   "outputs": [
    {
     "data": {
      "text/plain": [
       "array([ 0.        ,  0.30103   ,  0.47712125,  0.60205999,  0.69897   ,\n",
       "        0.77815125,  0.84509804,  0.90308999,  0.95424251])"
      ]
     },
     "execution_count": 5,
     "metadata": {},
     "output_type": "execute_result"
    }
   ],
   "source": [
    "#LOG10은 10을 밑수로 하는 특정 수의 대수\n",
    "np.log10(arr)"
   ]
  },
  {
   "cell_type": "code",
   "execution_count": 6,
   "metadata": {
    "collapsed": true
   },
   "outputs": [],
   "source": [
    "x = np.random.randn(8)\n",
    "y = np.random.randn(8)"
   ]
  },
  {
   "cell_type": "code",
   "execution_count": 7,
   "metadata": {},
   "outputs": [
    {
     "data": {
      "text/plain": [
       "array([-1.07216563,  0.46250896, -0.89675345, -0.62145223, -0.68422995,\n",
       "        1.0623905 ,  0.30596317, -0.2548364 ])"
      ]
     },
     "execution_count": 7,
     "metadata": {},
     "output_type": "execute_result"
    }
   ],
   "source": [
    "x"
   ]
  },
  {
   "cell_type": "code",
   "execution_count": 8,
   "metadata": {},
   "outputs": [
    {
     "data": {
      "text/plain": [
       "array([ 0.43271274,  0.71181991, -0.01548054, -0.04378067,  0.52437206,\n",
       "       -2.1335772 , -0.1112796 ,  0.28172228])"
      ]
     },
     "execution_count": 8,
     "metadata": {},
     "output_type": "execute_result"
    }
   ],
   "source": [
    "y"
   ]
  },
  {
   "cell_type": "code",
   "execution_count": 37,
   "metadata": {},
   "outputs": [
    {
     "data": {
      "text/plain": [
       "array([ 0.43271274,  0.71181991, -0.01548054, -0.04378067,  0.52437206,\n",
       "        1.0623905 ,  0.30596317,  0.28172228])"
      ]
     },
     "execution_count": 37,
     "metadata": {},
     "output_type": "execute_result"
    }
   ],
   "source": [
    "np.maximum(x,y)"
   ]
  },
  {
   "cell_type": "markdown",
   "metadata": {},
   "source": [
    "### 정수형 1차원 배열을 만들고, 다시 2차원으로 변환하고 더하기, 곱하기, sum() 계산해보기"
   ]
  },
  {
   "cell_type": "code",
   "execution_count": 49,
   "metadata": {
    "collapsed": true
   },
   "outputs": [],
   "source": [
    "x1 = np.arange(1,13).reshape(3,4)"
   ]
  },
  {
   "cell_type": "code",
   "execution_count": 50,
   "metadata": {},
   "outputs": [
    {
     "data": {
      "text/plain": [
       "array([[ 1,  2,  3,  4],\n",
       "       [ 5,  6,  7,  8],\n",
       "       [ 9, 10, 11, 12]])"
      ]
     },
     "execution_count": 50,
     "metadata": {},
     "output_type": "execute_result"
    }
   ],
   "source": [
    "x1"
   ]
  },
  {
   "cell_type": "code",
   "execution_count": 59,
   "metadata": {
    "collapsed": true
   },
   "outputs": [],
   "source": [
    "x2 = np.arange(12,0,-1)"
   ]
  },
  {
   "cell_type": "code",
   "execution_count": 61,
   "metadata": {},
   "outputs": [
    {
     "data": {
      "text/plain": [
       "array([12, 11, 10,  9,  8,  7,  6,  5,  4,  3,  2,  1])"
      ]
     },
     "execution_count": 61,
     "metadata": {},
     "output_type": "execute_result"
    }
   ],
   "source": [
    "x2"
   ]
  },
  {
   "cell_type": "code",
   "execution_count": 65,
   "metadata": {},
   "outputs": [],
   "source": [
    "x2 = x2.reshape(3,4)"
   ]
  },
  {
   "cell_type": "code",
   "execution_count": 66,
   "metadata": {},
   "outputs": [
    {
     "data": {
      "text/plain": [
       "array([[12, 11, 10,  9],\n",
       "       [ 8,  7,  6,  5],\n",
       "       [ 4,  3,  2,  1]])"
      ]
     },
     "execution_count": 66,
     "metadata": {},
     "output_type": "execute_result"
    }
   ],
   "source": [
    "x2"
   ]
  },
  {
   "cell_type": "code",
   "execution_count": 67,
   "metadata": {},
   "outputs": [
    {
     "data": {
      "text/plain": [
       "array([[13, 13, 13, 13],\n",
       "       [13, 13, 13, 13],\n",
       "       [13, 13, 13, 13]])"
      ]
     },
     "execution_count": 67,
     "metadata": {},
     "output_type": "execute_result"
    }
   ],
   "source": [
    "np.add(x1,x2)"
   ]
  },
  {
   "cell_type": "code",
   "execution_count": 68,
   "metadata": {},
   "outputs": [
    {
     "data": {
      "text/plain": [
       "array([[12, 22, 30, 36],\n",
       "       [40, 42, 42, 40],\n",
       "       [36, 30, 22, 12]])"
      ]
     },
     "execution_count": 68,
     "metadata": {},
     "output_type": "execute_result"
    }
   ],
   "source": [
    "np.multiply(x1,x2)"
   ]
  },
  {
   "cell_type": "code",
   "execution_count": 71,
   "metadata": {},
   "outputs": [
    {
     "data": {
      "text/plain": [
       "78"
      ]
     },
     "execution_count": 71,
     "metadata": {},
     "output_type": "execute_result"
    }
   ],
   "source": [
    "np.sum(x1)"
   ]
  },
  {
   "cell_type": "code",
   "execution_count": 74,
   "metadata": {},
   "outputs": [
    {
     "data": {
      "text/plain": [
       "78"
      ]
     },
     "execution_count": 74,
     "metadata": {},
     "output_type": "execute_result"
    }
   ],
   "source": [
    "x1.sum()"
   ]
  },
  {
   "cell_type": "code",
   "execution_count": 75,
   "metadata": {},
   "outputs": [
    {
     "data": {
      "text/plain": [
       "array([[ 1,  2,  3,  4],\n",
       "       [ 5,  6,  7,  8],\n",
       "       [ 9, 10, 11, 12]])"
      ]
     },
     "execution_count": 75,
     "metadata": {},
     "output_type": "execute_result"
    }
   ],
   "source": [
    "x1"
   ]
  },
  {
   "cell_type": "code",
   "execution_count": 73,
   "metadata": {},
   "outputs": [
    {
     "data": {
      "text/plain": [
       "array([15, 18, 21, 24])"
      ]
     },
     "execution_count": 73,
     "metadata": {},
     "output_type": "execute_result"
    }
   ],
   "source": [
    "x1.sum(axis=0)"
   ]
  },
  {
   "cell_type": "code",
   "execution_count": 76,
   "metadata": {},
   "outputs": [
    {
     "data": {
      "text/plain": [
       "array([10, 26, 42])"
      ]
     },
     "execution_count": 76,
     "metadata": {},
     "output_type": "execute_result"
    }
   ],
   "source": [
    "x1.sum(axis=1)"
   ]
  },
  {
   "cell_type": "code",
   "execution_count": 98,
   "metadata": {},
   "outputs": [
    {
     "data": {
      "text/plain": [
       "6.5"
      ]
     },
     "execution_count": 98,
     "metadata": {},
     "output_type": "execute_result"
    }
   ],
   "source": [
    "np.mean(x1)"
   ]
  },
  {
   "cell_type": "code",
   "execution_count": null,
   "metadata": {
    "collapsed": true
   },
   "outputs": [],
   "source": []
  },
  {
   "cell_type": "code",
   "execution_count": 10,
   "metadata": {
    "collapsed": true
   },
   "outputs": [],
   "source": [
    "#여기서부터는 통계관련 함수 설명\n",
    "arr = np.random.randn(5,4)"
   ]
  },
  {
   "cell_type": "code",
   "execution_count": 11,
   "metadata": {},
   "outputs": [
    {
     "data": {
      "text/plain": [
       "array([[ -2.27353483e+00,   1.13473655e+00,  -2.05883784e-01,\n",
       "          8.22752917e-01],\n",
       "       [  1.20728450e+00,  -1.07828374e+00,  -1.81970981e-01,\n",
       "         -1.81154830e-01],\n",
       "       [  8.77157361e-01,  -2.24891763e-03,   7.42690529e-01,\n",
       "         -2.70804580e-01],\n",
       "       [  4.54688291e-02,   1.43679838e+00,   8.74630835e-01,\n",
       "         -1.50198607e+00],\n",
       "       [ -7.47287578e-01,   4.29790609e-01,  -1.77868282e-01,\n",
       "          1.38301266e-02]])"
      ]
     },
     "execution_count": 11,
     "metadata": {},
     "output_type": "execute_result"
    }
   ],
   "source": [
    "arr"
   ]
  },
  {
   "cell_type": "code",
   "execution_count": 12,
   "metadata": {},
   "outputs": [
    {
     "data": {
      "text/plain": [
       "0.96411703496039569"
      ]
     },
     "execution_count": 12,
     "metadata": {},
     "output_type": "execute_result"
    }
   ],
   "source": [
    "arr.sum()"
   ]
  },
  {
   "cell_type": "code",
   "execution_count": 13,
   "metadata": {},
   "outputs": [
    {
     "data": {
      "text/plain": [
       "0.048205851748019786"
      ]
     },
     "execution_count": 13,
     "metadata": {},
     "output_type": "execute_result"
    }
   ],
   "source": [
    "arr.mean()"
   ]
  },
  {
   "cell_type": "code",
   "execution_count": 14,
   "metadata": {},
   "outputs": [
    {
     "data": {
      "text/plain": [
       "array([-0.89091173,  1.92079288,  1.05159832, -1.11736244])"
      ]
     },
     "execution_count": 14,
     "metadata": {},
     "output_type": "execute_result"
    }
   ],
   "source": [
    "#각 열(column) 별로 합계 구하기\n",
    "arr.sum(axis=0)"
   ]
  },
  {
   "cell_type": "code",
   "execution_count": 15,
   "metadata": {},
   "outputs": [
    {
     "data": {
      "text/plain": [
       "array([-0.52192915, -0.23412505,  1.34679439,  0.85491197, -0.48153512])"
      ]
     },
     "execution_count": 15,
     "metadata": {},
     "output_type": "execute_result"
    }
   ],
   "source": [
    "#각 행(row) 별로 합계 구하기\n",
    "arr.sum(axis=1)"
   ]
  },
  {
   "cell_type": "code",
   "execution_count": 16,
   "metadata": {},
   "outputs": [
    {
     "data": {
      "text/plain": [
       "array([[False,  True, False,  True],\n",
       "       [ True, False, False, False],\n",
       "       [ True, False,  True, False],\n",
       "       [ True,  True,  True, False],\n",
       "       [False,  True, False,  True]], dtype=bool)"
      ]
     },
     "execution_count": 16,
     "metadata": {},
     "output_type": "execute_result"
    }
   ],
   "source": [
    "arr > 0"
   ]
  },
  {
   "cell_type": "code",
   "execution_count": 97,
   "metadata": {},
   "outputs": [
    {
     "data": {
      "text/plain": [
       "8"
      ]
     },
     "execution_count": 97,
     "metadata": {},
     "output_type": "execute_result"
    }
   ],
   "source": [
    "(arr > 0).sum()"
   ]
  },
  {
   "cell_type": "markdown",
   "metadata": {},
   "source": [
    "### 정렬"
   ]
  },
  {
   "cell_type": "code",
   "execution_count": 78,
   "metadata": {
    "collapsed": true
   },
   "outputs": [],
   "source": [
    "#정렬 함수\n",
    "arr = np.random.randn(8)"
   ]
  },
  {
   "cell_type": "code",
   "execution_count": 79,
   "metadata": {},
   "outputs": [
    {
     "data": {
      "text/plain": [
       "array([-0.81650283,  0.14808001,  1.66910682,  0.45503798,  1.27138564,\n",
       "        0.45195273, -0.93115647, -0.93589393])"
      ]
     },
     "execution_count": 79,
     "metadata": {},
     "output_type": "execute_result"
    }
   ],
   "source": [
    "arr"
   ]
  },
  {
   "cell_type": "code",
   "execution_count": 80,
   "metadata": {},
   "outputs": [
    {
     "data": {
      "text/plain": [
       "array([-0.93589393, -0.93115647, -0.81650283,  0.14808001,  0.45195273,\n",
       "        0.45503798,  1.27138564,  1.66910682])"
      ]
     },
     "execution_count": 80,
     "metadata": {},
     "output_type": "execute_result"
    }
   ],
   "source": [
    "#오름차순\n",
    "np.sort(arr)"
   ]
  },
  {
   "cell_type": "code",
   "execution_count": 83,
   "metadata": {},
   "outputs": [
    {
     "data": {
      "text/plain": [
       "array([ 1.66910682,  1.27138564,  0.45503798,  0.45195273,  0.14808001,\n",
       "       -0.81650283, -0.93115647, -0.93589393])"
      ]
     },
     "execution_count": 83,
     "metadata": {},
     "output_type": "execute_result"
    }
   ],
   "source": [
    "#내림차순\n",
    "np.sort(arr)[::-1]"
   ]
  },
  {
   "cell_type": "code",
   "execution_count": 90,
   "metadata": {
    "collapsed": true
   },
   "outputs": [],
   "source": [
    "#2차원 배열 생성\n",
    "arr = np.random.randn(5,3)"
   ]
  },
  {
   "cell_type": "code",
   "execution_count": 91,
   "metadata": {},
   "outputs": [
    {
     "data": {
      "text/plain": [
       "array([[ 1.87857417,  0.42489316,  1.16587345],\n",
       "       [ 2.17067668, -0.25498552,  0.21721869],\n",
       "       [ 0.22506554, -0.44645007, -0.55354675],\n",
       "       [-0.91852759, -0.59995032,  0.63054435],\n",
       "       [-1.59173403, -0.52016744,  0.50669109]])"
      ]
     },
     "execution_count": 91,
     "metadata": {},
     "output_type": "execute_result"
    }
   ],
   "source": [
    "arr"
   ]
  },
  {
   "cell_type": "code",
   "execution_count": 92,
   "metadata": {},
   "outputs": [
    {
     "data": {
      "text/plain": [
       "array([[-1.59173403, -0.59995032, -0.55354675],\n",
       "       [-0.91852759, -0.52016744,  0.21721869],\n",
       "       [ 0.22506554, -0.44645007,  0.50669109],\n",
       "       [ 1.87857417, -0.25498552,  0.63054435],\n",
       "       [ 2.17067668,  0.42489316,  1.16587345]])"
      ]
     },
     "execution_count": 92,
     "metadata": {},
     "output_type": "execute_result"
    }
   ],
   "source": [
    "#행(row) 방향으로 sort 하기\n",
    "np.sort(arr,axis=0)"
   ]
  },
  {
   "cell_type": "code",
   "execution_count": 93,
   "metadata": {},
   "outputs": [
    {
     "data": {
      "text/plain": [
       "array([[ 0.42489316,  1.16587345,  1.87857417],\n",
       "       [-0.25498552,  0.21721869,  2.17067668],\n",
       "       [-0.55354675, -0.44645007,  0.22506554],\n",
       "       [-0.91852759, -0.59995032,  0.63054435],\n",
       "       [-1.59173403, -0.52016744,  0.50669109]])"
      ]
     },
     "execution_count": 93,
     "metadata": {},
     "output_type": "execute_result"
    }
   ],
   "source": [
    "#열(column) 방향으로 sort 하기\n",
    "np.sort(arr,axis=1)"
   ]
  },
  {
   "cell_type": "code",
   "execution_count": 26,
   "metadata": {
    "collapsed": true
   },
   "outputs": [],
   "source": [
    "large_arr = np.random.randn(150)"
   ]
  },
  {
   "cell_type": "code",
   "execution_count": 27,
   "metadata": {},
   "outputs": [
    {
     "data": {
      "text/plain": [
       "array([ -1.47069091e+00,   1.49240249e-01,   8.24010102e-01,\n",
       "        -3.99638816e-01,  -4.93799170e-01,   1.19692320e+00,\n",
       "         9.24120379e-01,   2.18306669e-01,  -1.17661103e+00,\n",
       "         4.91116689e-01,   1.43737689e-01,  -1.13945940e+00,\n",
       "         2.28875154e-01,  -5.45947874e-01,  -1.14698593e+00,\n",
       "        -1.54775264e+00,   1.04859356e+00,   1.70208212e+00,\n",
       "        -1.70843311e+00,  -1.30806804e+00,  -1.58053106e-01,\n",
       "        -1.05568045e+00,   1.24705015e+00,   7.83706068e-01,\n",
       "        -3.57655509e-01,   4.41957912e-01,   9.36583303e-01,\n",
       "         1.09344585e+00,  -9.60620325e-01,  -3.59963256e+00,\n",
       "        -6.49267323e-01,  -1.40433263e+00,  -2.21698129e-01,\n",
       "        -5.57674606e-01,  -5.49476091e-02,   4.58565285e-01,\n",
       "         2.94137085e-01,   3.80330512e-01,   4.15088831e-01,\n",
       "        -1.25112054e-01,  -9.91024727e-01,   1.48876229e+00,\n",
       "         1.32211174e-01,  -1.68034378e+00,  -8.46237812e-02,\n",
       "        -1.43667479e-01,   3.67744428e-02,   5.49089560e-01,\n",
       "         5.73112801e-01,  -1.40219644e+00,  -1.50630241e+00,\n",
       "         8.82871276e-01,   8.80154915e-01,   3.85058029e-01,\n",
       "        -1.34914410e-01,  -8.57797490e-01,   1.11113458e+00,\n",
       "         1.11558224e+00,  -2.32977985e-01,  -1.31496868e+00,\n",
       "         1.30789715e+00,  -2.58064897e-01,  -1.11667917e+00,\n",
       "        -1.11790689e+00,  -1.54406314e+00,   8.56030503e-01,\n",
       "        -2.44888457e+00,   6.96037206e-02,   1.05935526e+00,\n",
       "        -3.29017696e-01,  -6.20730747e-01,   9.57570251e-01,\n",
       "        -1.78580828e+00,   4.17873793e-01,   1.41510826e+00,\n",
       "         2.26735256e-01,   1.22029661e+00,   8.28735561e-01,\n",
       "         1.05580496e+00,   1.13146718e+00,  -1.40847363e+00,\n",
       "         5.90774695e-01,  -6.79148923e-02,   3.79501955e-01,\n",
       "         9.24833235e-01,  -4.14826659e-01,  -2.47421913e-01,\n",
       "         9.18453123e-01,   3.93004481e-01,   1.74438502e-01,\n",
       "        -7.24103443e-01,   7.18411483e-01,  -1.39984791e+00,\n",
       "        -6.84562755e-01,   2.44797882e-01,  -1.11972640e+00,\n",
       "         1.55300491e-01,   1.22277726e+00,  -6.11394065e-01,\n",
       "        -6.42162334e-01,   1.06187165e+00,  -7.64237132e-01,\n",
       "         3.86836020e-01,   6.71218224e-01,   3.85913347e-01,\n",
       "         4.75146012e-01,  -2.36597265e-01,  -1.68056036e+00,\n",
       "        -6.14091643e-01,  -1.58587790e+00,   1.12897765e+00,\n",
       "        -1.66755745e+00,   1.10365772e-01,   4.51981819e-01,\n",
       "         3.06628248e-01,   1.62554800e+00,   3.51420750e-01,\n",
       "         1.01371449e-03,   1.22360255e+00,  -1.47211563e-01,\n",
       "         2.81272319e-01,  -7.01564958e-01,   2.20069344e-02,\n",
       "         7.85518184e-02,   1.53959130e+00,  -5.21551290e-01,\n",
       "        -1.52067967e+00,   5.06916888e-01,   1.19848068e-01,\n",
       "        -8.65718956e-01,  -5.71900834e-01,  -1.02252884e+00,\n",
       "        -1.16047312e-01,  -1.76568754e+00,  -1.34443142e+00,\n",
       "        -7.68882278e-01,   8.79933992e-01,  -1.01878652e+00,\n",
       "        -1.32011553e+00,  -7.69948741e-01,  -4.33756133e-01,\n",
       "        -6.67893130e-01,   1.18761188e+00,  -1.16531968e-01,\n",
       "        -2.71470034e-01,   4.16015516e-01,   9.80445123e-01,\n",
       "         1.59295038e-01,   2.55250157e+00,  -2.15759638e-01])"
      ]
     },
     "execution_count": 27,
     "metadata": {},
     "output_type": "execute_result"
    }
   ],
   "source": [
    "large_arr"
   ]
  },
  {
   "cell_type": "code",
   "execution_count": 28,
   "metadata": {},
   "outputs": [
    {
     "data": {
      "text/plain": [
       "array([  2.55250157e+00,   1.70208212e+00,   1.62554800e+00,\n",
       "         1.53959130e+00,   1.48876229e+00,   1.41510826e+00,\n",
       "         1.30789715e+00,   1.24705015e+00,   1.22360255e+00,\n",
       "         1.22277726e+00,   1.22029661e+00,   1.19692320e+00,\n",
       "         1.18761188e+00,   1.13146718e+00,   1.12897765e+00,\n",
       "         1.11558224e+00,   1.11113458e+00,   1.09344585e+00,\n",
       "         1.06187165e+00,   1.05935526e+00,   1.05580496e+00,\n",
       "         1.04859356e+00,   9.80445123e-01,   9.57570251e-01,\n",
       "         9.36583303e-01,   9.24833235e-01,   9.24120379e-01,\n",
       "         9.18453123e-01,   8.82871276e-01,   8.80154915e-01,\n",
       "         8.79933992e-01,   8.56030503e-01,   8.28735561e-01,\n",
       "         8.24010102e-01,   7.83706068e-01,   7.18411483e-01,\n",
       "         6.71218224e-01,   5.90774695e-01,   5.73112801e-01,\n",
       "         5.49089560e-01,   5.06916888e-01,   4.91116689e-01,\n",
       "         4.75146012e-01,   4.58565285e-01,   4.51981819e-01,\n",
       "         4.41957912e-01,   4.17873793e-01,   4.16015516e-01,\n",
       "         4.15088831e-01,   3.93004481e-01,   3.86836020e-01,\n",
       "         3.85913347e-01,   3.85058029e-01,   3.80330512e-01,\n",
       "         3.79501955e-01,   3.51420750e-01,   3.06628248e-01,\n",
       "         2.94137085e-01,   2.81272319e-01,   2.44797882e-01,\n",
       "         2.28875154e-01,   2.26735256e-01,   2.18306669e-01,\n",
       "         1.74438502e-01,   1.59295038e-01,   1.55300491e-01,\n",
       "         1.49240249e-01,   1.43737689e-01,   1.32211174e-01,\n",
       "         1.19848068e-01,   1.10365772e-01,   7.85518184e-02,\n",
       "         6.96037206e-02,   3.67744428e-02,   2.20069344e-02,\n",
       "         1.01371449e-03,  -5.49476091e-02,  -6.79148923e-02,\n",
       "        -8.46237812e-02,  -1.16047312e-01,  -1.16531968e-01,\n",
       "        -1.25112054e-01,  -1.34914410e-01,  -1.43667479e-01,\n",
       "        -1.47211563e-01,  -1.58053106e-01,  -2.15759638e-01,\n",
       "        -2.21698129e-01,  -2.32977985e-01,  -2.36597265e-01,\n",
       "        -2.47421913e-01,  -2.58064897e-01,  -2.71470034e-01,\n",
       "        -3.29017696e-01,  -3.57655509e-01,  -3.99638816e-01,\n",
       "        -4.14826659e-01,  -4.33756133e-01,  -4.93799170e-01,\n",
       "        -5.21551290e-01,  -5.45947874e-01,  -5.57674606e-01,\n",
       "        -5.71900834e-01,  -6.11394065e-01,  -6.14091643e-01,\n",
       "        -6.20730747e-01,  -6.42162334e-01,  -6.49267323e-01,\n",
       "        -6.67893130e-01,  -6.84562755e-01,  -7.01564958e-01,\n",
       "        -7.24103443e-01,  -7.64237132e-01,  -7.68882278e-01,\n",
       "        -7.69948741e-01,  -8.57797490e-01,  -8.65718956e-01,\n",
       "        -9.60620325e-01,  -9.91024727e-01,  -1.01878652e+00,\n",
       "        -1.02252884e+00,  -1.05568045e+00,  -1.11667917e+00,\n",
       "        -1.11790689e+00,  -1.11972640e+00,  -1.13945940e+00,\n",
       "        -1.14698593e+00,  -1.17661103e+00,  -1.30806804e+00,\n",
       "        -1.31496868e+00,  -1.32011553e+00,  -1.34443142e+00,\n",
       "        -1.39984791e+00,  -1.40219644e+00,  -1.40433263e+00,\n",
       "        -1.40847363e+00,  -1.47069091e+00,  -1.50630241e+00,\n",
       "        -1.52067967e+00,  -1.54406314e+00,  -1.54775264e+00,\n",
       "        -1.58587790e+00,  -1.66755745e+00,  -1.68034378e+00,\n",
       "        -1.68056036e+00,  -1.70843311e+00,  -1.76568754e+00,\n",
       "        -1.78580828e+00,  -2.44888457e+00,  -3.59963256e+00])"
      ]
     },
     "execution_count": 28,
     "metadata": {},
     "output_type": "execute_result"
    }
   ],
   "source": [
    "np.sort(large_arr)[::-1]"
   ]
  },
  {
   "cell_type": "code",
   "execution_count": 29,
   "metadata": {},
   "outputs": [
    {
     "data": {
      "text/plain": [
       "1.2470501534260892"
      ]
     },
     "execution_count": 29,
     "metadata": {},
     "output_type": "execute_result"
    }
   ],
   "source": [
    "#상위 5% 에 해당되는 값을 가져옴\n",
    "np.sort(large_arr)[::-1][int(0.05 * len(large_arr))]"
   ]
  },
  {
   "cell_type": "code",
   "execution_count": 96,
   "metadata": {
    "collapsed": true
   },
   "outputs": [],
   "source": [
    "names = np.array([\"Charles\",\"Soyul\",\"Hayoung\",\"Charles\",\"Hayoung\",\"Soyul\",\"Soyul\"])\n",
    "ints = np.array([3,3,3,2,2,1,1,4,4])"
   ]
  },
  {
   "cell_type": "code",
   "execution_count": 31,
   "metadata": {},
   "outputs": [
    {
     "data": {
      "text/plain": [
       "array(['Charles', 'Hayoung', 'Soyul'],\n",
       "      dtype='<U7')"
      ]
     },
     "execution_count": 31,
     "metadata": {},
     "output_type": "execute_result"
    }
   ],
   "source": [
    "#중복된 값을 제거함\n",
    "np.unique(names)"
   ]
  },
  {
   "cell_type": "code",
   "execution_count": 32,
   "metadata": {},
   "outputs": [
    {
     "data": {
      "text/plain": [
       "array([1, 2, 3, 4])"
      ]
     },
     "execution_count": 32,
     "metadata": {},
     "output_type": "execute_result"
    }
   ],
   "source": [
    "np.unique(ints)"
   ]
  },
  {
   "cell_type": "code",
   "execution_count": 33,
   "metadata": {
    "collapsed": true
   },
   "outputs": [],
   "source": [
    "arr1 = np.random.randint(1,5,size=5)"
   ]
  },
  {
   "cell_type": "code",
   "execution_count": 34,
   "metadata": {},
   "outputs": [
    {
     "data": {
      "text/plain": [
       "array([4, 2, 1, 4, 3])"
      ]
     },
     "execution_count": 34,
     "metadata": {},
     "output_type": "execute_result"
    }
   ],
   "source": [
    "arr1"
   ]
  },
  {
   "cell_type": "code",
   "execution_count": 35,
   "metadata": {},
   "outputs": [
    {
     "data": {
      "text/plain": [
       "array([ 4,  6,  7, 11, 14], dtype=int32)"
      ]
     },
     "execution_count": 35,
     "metadata": {},
     "output_type": "execute_result"
    }
   ],
   "source": [
    "arr1.cumsum()"
   ]
  },
  {
   "cell_type": "code",
   "execution_count": 36,
   "metadata": {},
   "outputs": [
    {
     "data": {
      "text/plain": [
       "array([ 4,  8,  8, 32, 96], dtype=int32)"
      ]
     },
     "execution_count": 36,
     "metadata": {},
     "output_type": "execute_result"
    }
   ],
   "source": [
    "arr1.cumprod()"
   ]
  },
  {
   "cell_type": "code",
   "execution_count": null,
   "metadata": {
    "collapsed": true
   },
   "outputs": [],
   "source": []
  }
 ],
 "metadata": {
  "kernelspec": {
   "display_name": "Python 3",
   "language": "python",
   "name": "python3"
  },
  "language_info": {
   "codemirror_mode": {
    "name": "ipython",
    "version": 3
   },
   "file_extension": ".py",
   "mimetype": "text/x-python",
   "name": "python",
   "nbconvert_exporter": "python",
   "pygments_lexer": "ipython3",
   "version": "3.6.3"
  }
 },
 "nbformat": 4,
 "nbformat_minor": 2
}
