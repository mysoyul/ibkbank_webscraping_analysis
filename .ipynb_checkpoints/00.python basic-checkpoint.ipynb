{
 "cells": [
  {
   "cell_type": "markdown",
   "id": "732e800d",
   "metadata": {},
   "source": [
    "## 파이썬 기본 코드작성\n",
    "* python base 문법 \n",
    "* ctrl + enter : 해당 셀만 실행 \n",
    "* shift + enter : 해당 셀을 실행하고 , 커서를 아래로 이동, 하위 셀이 없으면 추가\n",
    "* alt + enter : 해당 셀을 실행하고, 무조건 하위 셀을 추가"
   ]
  },
  {
   "cell_type": "code",
   "execution_count": 2,
   "id": "3461374f",
   "metadata": {},
   "outputs": [
    {
     "data": {
      "text/plain": [
       "[10, 20, 30]"
      ]
     },
     "execution_count": 2,
     "metadata": {},
     "output_type": "execute_result"
    }
   ],
   "source": [
    "my_list = [10,20,30]\n",
    "my_list"
   ]
  },
  {
   "cell_type": "code",
   "execution_count": 3,
   "id": "66740429",
   "metadata": {},
   "outputs": [
    {
     "name": "stdout",
     "output_type": "stream",
     "text": [
      "['apple', 'banana', 'mango']\n"
     ]
    }
   ],
   "source": [
    "fruits = ['apple','banana','cherry','kiwi','mango']\n",
    "#과일이름에 a가 포함된 과일 리스트 만들기\n",
    "a_list = []\n",
    "for fruit in fruits:\n",
    "    if \"a\" in fruit:\n",
    "        a_list.append(fruit)\n",
    "\n",
    "print(a_list)        "
   ]
  },
  {
   "cell_type": "code",
   "execution_count": 4,
   "id": "df40a9f8",
   "metadata": {},
   "outputs": [
    {
     "name": "stdout",
     "output_type": "stream",
     "text": [
      "['apple', 'banana', 'mango']\n"
     ]
    }
   ],
   "source": [
    "#newlist = [expression for item in iterable if condition == True]\n",
    "a_list2 = [fruit for fruit in fruits if \"a\" in fruit]\n",
    "print(a_list2)"
   ]
  },
  {
   "cell_type": "code",
   "execution_count": 5,
   "id": "2455e400-e05f-46bd-97b5-2521db1479d9",
   "metadata": {},
   "outputs": [],
   "source": [
    "#default parameter value\n",
    "def mimus(a,b=10):\n",
    "    return a - b"
   ]
  },
  {
   "cell_type": "code",
   "execution_count": 7,
   "id": "78a41c7a-406a-4def-a42c-44f344e75d18",
   "metadata": {},
   "outputs": [
    {
     "data": {
      "text/plain": [
       "-7"
      ]
     },
     "execution_count": 7,
     "metadata": {},
     "output_type": "execute_result"
    }
   ],
   "source": [
    "mimus(3)"
   ]
  },
  {
   "cell_type": "code",
   "execution_count": 9,
   "id": "11235c25-7118-4006-b8ea-007832e01716",
   "metadata": {},
   "outputs": [
    {
     "data": {
      "text/plain": [
       "7"
      ]
     },
     "execution_count": 9,
     "metadata": {},
     "output_type": "execute_result"
    }
   ],
   "source": [
    "mimus(10,3)"
   ]
  },
  {
   "cell_type": "code",
   "execution_count": 12,
   "id": "cdafbbac-7c4e-46e0-8571-f51d5b90bae6",
   "metadata": {},
   "outputs": [],
   "source": [
    "#SyntaxError: non-default argument follows default argument\n",
    "# def minus2(a=10,b):\n",
    "#     return a - b"
   ]
  },
  {
   "cell_type": "code",
   "execution_count": 13,
   "id": "71c12ea0-f623-4c68-aeea-f6b8d1f4c92b",
   "metadata": {},
   "outputs": [],
   "source": [
    "my_value = 12494949\n",
    "def my_format(value):\n",
    "    return f'{value:,}'"
   ]
  },
  {
   "cell_type": "code",
   "execution_count": 15,
   "id": "a145d6a6-1549-4435-8501-6b8596afcac6",
   "metadata": {},
   "outputs": [
    {
     "data": {
      "text/plain": [
       "'12,494,949'"
      ]
     },
     "execution_count": 15,
     "metadata": {},
     "output_type": "execute_result"
    }
   ],
   "source": [
    "my_format(my_value)"
   ]
  },
  {
   "cell_type": "code",
   "execution_count": 22,
   "id": "012218a2-8eb4-4f9d-b140-00d86b95fcf8",
   "metadata": {},
   "outputs": [],
   "source": [
    "my_format2 = lambda val : f'{val:,}'"
   ]
  },
  {
   "cell_type": "code",
   "execution_count": 23,
   "id": "17a452b4-259f-4173-9803-4f89235d1b48",
   "metadata": {},
   "outputs": [
    {
     "data": {
      "text/plain": [
       "'12,494,949'"
      ]
     },
     "execution_count": 23,
     "metadata": {},
     "output_type": "execute_result"
    }
   ],
   "source": [
    "my_format2(my_value)"
   ]
  }
 ],
 "metadata": {
  "kernelspec": {
   "display_name": "Python 3",
   "language": "python",
   "name": "python3"
  },
  "language_info": {
   "codemirror_mode": {
    "name": "ipython",
    "version": 3
   },
   "file_extension": ".py",
   "mimetype": "text/x-python",
   "name": "python",
   "nbconvert_exporter": "python",
   "pygments_lexer": "ipython3",
   "version": "3.8.8"
  }
 },
 "nbformat": 4,
 "nbformat_minor": 5
}
