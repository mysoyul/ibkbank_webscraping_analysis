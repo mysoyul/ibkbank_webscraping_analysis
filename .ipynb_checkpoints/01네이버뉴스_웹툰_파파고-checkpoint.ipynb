{
 "cells": [
  {
   "cell_type": "code",
   "execution_count": 54,
   "id": "977ba3e8-91a3-4d75-b8e3-1c183cb7c3d0",
   "metadata": {},
   "outputs": [
    {
     "name": "stdout",
     "output_type": "stream",
     "text": [
      "Name: requests\n",
      "Version: 2.25.1\n",
      "Summary: Python HTTP for Humans.\n",
      "Home-page: https://requests.readthedocs.io\n",
      "Author: Kenneth Reitz\n",
      "Author-email: me@kennethreitz.org\n",
      "License: Apache 2.0\n",
      "Location: c:\\users\\vega2\\anaconda3\\lib\\site-packages\n",
      "Requires: urllib3, certifi, idna, chardet\n",
      "Required-by: Sphinx, jupyterlab-server, conda, conda-repo-cli, conda-build, anaconda-project, anaconda-client\n"
     ]
    }
   ],
   "source": [
    "!pip show requests"
   ]
  },
  {
   "cell_type": "code",
   "execution_count": 55,
   "id": "2663fc41-bc39-4d7c-b262-0b750475e930",
   "metadata": {},
   "outputs": [
    {
     "name": "stdout",
     "output_type": "stream",
     "text": [
      "Name: beautifulsoup4\n",
      "Version: 4.9.3\n",
      "Summary: Screen-scraping library\n",
      "Home-page: http://www.crummy.com/software/BeautifulSoup/bs4/\n",
      "Author: Leonard Richardson\n",
      "Author-email: leonardr@segfault.org\n",
      "License: MIT\n",
      "Location: c:\\users\\vega2\\anaconda3\\lib\\site-packages\n",
      "Requires: soupsieve\n",
      "Required-by: conda-build\n"
     ]
    }
   ],
   "source": [
    "!pip show beautifulsoup4"
   ]
  },
  {
   "cell_type": "markdown",
   "id": "42a4e6b2-ee1d-469b-9239-489e7d7f1eea",
   "metadata": {},
   "source": [
    "### 네이버 뉴스 제목 가져오기\n",
    "* user-agent 헤더 값을 반드시 설정"
   ]
  },
  {
   "cell_type": "code",
   "execution_count": 56,
   "id": "17ec778f-4134-4499-a84e-c8e0ed3bd4f9",
   "metadata": {},
   "outputs": [],
   "source": [
    "import requests\n",
    "from bs4 import BeautifulSoup\n",
    "from urllib.parse import urljoin\n"
   ]
  },
  {
   "cell_type": "code",
   "execution_count": 57,
   "id": "340f5904-d990-4624-b104-0c27fddd4e7c",
   "metadata": {},
   "outputs": [
    {
     "name": "stdout",
     "output_type": "stream",
     "text": [
      "200\n",
      "True\n"
     ]
    }
   ],
   "source": [
    "url = 'https://news.naver.com/'\n",
    "req_header_dict = {\n",
    "    'user-agent': 'Mozilla/5.0 (Windows NT 10.0; Win64; x64) AppleWebKit/537.36 (KHTML, like Gecko) Chrome/95.0.4638.69 Safari/537.36'\n",
    "}\n",
    "res = requests.get(url, headers=req_header_dict)\n",
    "\n",
    "print(res.status_code)\n",
    "print(res.ok)"
   ]
  },
  {
   "cell_type": "code",
   "execution_count": 58,
   "id": "fe944a51-27d5-4585-a86e-be762c17eba8",
   "metadata": {},
   "outputs": [
    {
     "name": "stdout",
     "output_type": "stream",
     "text": [
      "<class 'bs4.element.ResultSet'>\n",
      "1 - 시진핑 “기후변화·팬데믹 대응위해서는 중미 관… - https://news.naver.com/main/read.naver?mode=LSD&mid=shm&sid1=104&oid=011&aid=0003985779\n",
      "2 - 더 걷힐 세금이 19조? 10조?…돈풀기 선거에 고… - https://news.naver.com/main/read.naver?mode=LSD&mid=shm&sid1=101&oid=421&aid=0005727966\n",
      "3 - 애플과 소송 ‘포트나이트’ 게임 CEO “앱마켓 독점, 메타버스 저해” - https://news.naver.com/main/read.naver?mode=LSD&mid=shm&sid1=105&oid=028&aid=0002568037\n",
      "4 - 손준성 측 “공수처 압색 절차 위반”…공수처 “적법 집행” - https://news.naver.com/main/read.naver?mode=LSD&mid=shm&sid1=102&oid=056&aid=0011157803\n",
      "5 - 도이치모터스 권오수 회장, 주가조작 의혹에 묵묵부답 - https://news.naver.com/main/read.naver?mode=LSD&mid=shm&sid1=102&oid=028&aid=0002567967\n",
      "6 - SK, 백신 이어 치료제까지 글로벌 생산 주도 - https://news.naver.com/main/read.naver?mode=LSD&mid=shm&sid1=105&oid=015&aid=0004629213\n",
      "7 - 다주택자 역대 최대… 정부 대책 안 먹혔다 - https://news.naver.com/main/read.naver?mode=LSD&mid=shm&sid1=101&oid=081&aid=0003230522\n",
      "9 - 안철수 \"제2의 조국자녀 없을 것\" 메타버스에서 청년공약 발표 - https://news.naver.com/main/read.naver?mode=LSD&mid=shm&sid1=100&oid=014&aid=0004740840\n",
      "10 - 국민의힘 선대위 곧 윤곽…윤석열-이준석 내일 막판 조율 - https://news.naver.com/main/read.naver?mode=LSD&mid=shm&sid1=100&oid=056&aid=0011157954\n",
      "11 - 원톱 김종인+α…선대위 라인업 막판 조율 나선 윤석열 - https://news.naver.com/main/read.naver?mode=LSD&mid=shm&sid1=100&oid=032&aid=0003110571\n",
      "12 - 움직이는 ‘여권 책사’ 양정철…이재명 구원등판 주목 - https://news.naver.com/main/read.naver?mode=LSD&mid=shm&sid1=100&oid=032&aid=0003110570\n",
      "13 - 선관위, 진중권 인용 보도에 ‘주의’…野 “노골적인 與 선거 지원” - https://news.naver.com/main/read.naver?mode=LSD&mid=shm&sid1=100&oid=082&aid=0001127827\n",
      "14 - 조국 \"이재명 부인 향한 언론 '스토킹'…나와 딸 향하던 언론 생각나\" - https://news.naver.com/main/read.naver?mode=LSD&mid=shm&sid1=100&oid=088&aid=0000731333\n",
      "16 - 코로나 이후 ‘전 세계 공급망 병목’ 일상화···“세계화는 동력 상실, 블록화 현상 커질 것” - https://news.naver.com/main/read.naver?mode=LSD&mid=shm&sid1=101&oid=032&aid=0003110561\n",
      "17 - 종부세 공제액 올렸지만 공시가·세율도 인상… 납세자 10만명 늘 듯 - https://news.naver.com/main/read.naver?mode=LSD&mid=shm&sid1=101&oid=020&aid=0003394024\n",
      "18 - 비트코인 6만 달러 하회, 10% 가까이 폭락…암호화폐 일제히 급락 - https://news.naver.com/main/read.naver?mode=LSD&mid=shm&sid1=101&oid=015&aid=0004629330\n",
      "19 - 기재부 \"세수 의도적 과소 추계?\"…국정조사 거론 與에 '당혹' - https://news.naver.com/main/read.naver?mode=LSD&mid=shm&sid1=101&oid=448&aid=0000344117\n",
      "20 - 베일 벗는 'BMW iX'...플래그십 전기차, 럭셔리에 꽂히다 - https://news.naver.com/main/read.naver?mode=LSD&mid=shm&sid1=101&oid=011&aid=0003986094\n",
      "21 - 유럽패키지 1시간 만에 130억 '잭팟'…해외여행 수요 터졌다 - https://news.naver.com/main/read.naver?mode=LSD&mid=shm&sid1=101&oid=015&aid=0004629328\n",
      "22 - 동영상 기사 - https://news.naver.com/main/read.naver?mode=LSD&mid=shm&sid1=102&oid=056&aid=0011157957\n",
      "23 - ‘주가 조작 의혹’ 도이치모터스 권오수 회장 구속 기로 - https://news.naver.com/main/read.naver?mode=LSD&mid=shm&sid1=102&oid=056&aid=0011157957\n",
      "24 - “휴대폰 찾아줬으니 20만원 내라고요?” [사연뉴스] - https://news.naver.com/main/read.naver?mode=LSD&mid=shm&sid1=102&oid=005&aid=0001484755\n",
      "25 - 오세훈-서울시의회, 시정 질문 첫날부터 충돌 - https://news.naver.com/main/read.naver?mode=LSD&mid=shm&sid1=102&oid=052&aid=0001665923\n",
      "26 - [단독] 서울대어린이병원 의사 4명 돌파감염…'부스터샷' 확대되나 - https://news.naver.com/main/read.naver?mode=LSD&mid=shm&sid1=102&oid=448&aid=0000344122\n",
      "27 - 위중증 환자 495명 ‘한계치’ 육박…부스터샷 ‘돌파감염’ 첫 확인 - https://news.naver.com/main/read.naver?mode=LSD&mid=shm&sid1=102&oid=032&aid=0003110576\n",
      "28 - 독일 코로나19 사상 최고속도 확산…\"백신 미접종자 봉쇄 조치\" - https://news.naver.com/main/read.naver?mode=LSD&mid=shm&sid1=102&oid=001&aid=0012797516\n",
      "30 - 찬 바람 불면 늘어나는 안구건조증 완화하려면… - https://news.naver.com/main/read.naver?mode=LSD&mid=shm&sid1=103&oid=469&aid=0000641535\n",
      "31 - [종합뉴스 날씨]당분간 큰 일교차…동해안 대기 건조 - https://news.naver.com/main/read.naver?mode=LSD&mid=shm&sid1=103&oid=057&aid=0001621937\n",
      "32 - 미국서 야생사슴 코로나19 집단감염 확인... '바이러스 저장소' 가능성 얼마나 - https://news.naver.com/main/read.naver?mode=LSD&mid=shm&sid1=103&oid=584&aid=0000016752\n",
      "33 - 한쪽 코 막히고 가래 낀다면 '이 질환' 의심해야 - https://news.naver.com/main/read.naver?mode=LSD&mid=shm&sid1=103&oid=346&aid=0000045953\n",
      "34 - [날씨] 출근길 파주 '영하 2도'…\"큰 일교차 주의하세요\" - https://news.naver.com/main/read.naver?mode=LSD&mid=shm&sid1=103&oid=055&aid=0000933859\n",
      "35 - 7시간 이상 안 자는 당신…치매 심부전 위험 높아진다 - https://news.naver.com/main/read.naver?mode=LSD&mid=shm&sid1=103&oid=009&aid=0004880102\n",
      "37 - 화이자, '먹는 치료제' 복제약 허용 - https://news.naver.com/main/read.naver?mode=LSD&mid=shm&sid1=104&oid=014&aid=0004740841\n",
      "38 - 화이자, '먹는 치료제' 복제약 허용…머크 영향 받은 듯 - https://news.naver.com/main/read.naver?mode=LSD&mid=shm&sid1=104&oid=421&aid=0005728085\n",
      "39 - [포커스] 무서운 코로나 재확산…유럽, 국경 막고 방역강화 - https://news.naver.com/main/read.naver?mode=LSD&mid=shm&sid1=104&oid=448&aid=0000344123\n",
      "40 - “독도는 명백히 일본땅” 日정부, 韓경찰청장 독도 방문 강력 항의 - https://news.naver.com/main/read.naver?mode=LSD&mid=shm&sid1=104&oid=081&aid=0003230546\n",
      "41 - 바이든 “대만 안정 훼손 반대” 시진핑 “불장난하면 타 죽어” - https://news.naver.com/main/read.naver?mode=LSD&mid=shm&sid1=104&oid=032&aid=0003110560\n",
      "42 - 미중 첫 화상 회담...반갑다고 손 흔들고 곧바로 '본론' 직행 - https://news.naver.com/main/read.naver?mode=LSD&mid=shm&sid1=104&oid=052&aid=0001665922\n",
      "44 - 삼성전기·LG이노텍, 애플향 납품 확대에 ‘훨훨’ - https://news.naver.com/main/read.naver?mode=LSD&mid=shm&sid1=105&oid=018&aid=0005087568\n",
      "45 - [영상] LG 떠난 롤러블폰, 중국이 꿰찬다? 어떤 모습이길래 - https://news.naver.com/main/read.naver?mode=LSD&mid=shm&sid1=105&oid=016&aid=0001913440\n",
      "46 - \"삼성 폴더블폰 기술은 못 따라가\"…구글, 결국 무릎 꿇었다 - https://news.naver.com/main/read.naver?mode=LSD&mid=shm&sid1=105&oid=015&aid=0004629323\n",
      "47 - “소음·과속 배달, 얼마나 심하면” 민폐없는 ‘전기 오토바이’ 등장 - https://news.naver.com/main/read.naver?mode=LSD&mid=shm&sid1=105&oid=016&aid=0001913434\n",
      "48 - CDMO 전문기업 손잡는 SK, 유전자세포치료제 사업 가속 - https://news.naver.com/main/read.naver?mode=LSD&mid=shm&sid1=105&oid=029&aid=0002706405\n",
      "49 - ‘유럽 봉쇄’ 흔들리는 위드 코로나…‘성과 내는’ 韓 바이오에 기회 될까 - https://news.naver.com/main/read.naver?mode=LSD&mid=shm&sid1=105&oid=293&aid=0000036975\n",
      "51 - \"내년 1월 1인당 20만원 전국민지원금 지급\" 못 박은  … - https://news.naver.com/main/ranking/read.naver?mode=LSD&mid=shm&sid1=001&oid=469&aid=0000641510&rankingType=RANKING\n",
      "53 - 화이자 · 모더나, 코로나 백신으로 1초에 120만 원 번 … - https://news.naver.com/main/ranking/read.naver?mode=LSD&mid=shm&sid1=001&oid=055&aid=0000933787&rankingType=RANKING\n",
      "54 - 동영상기사 - https://news.naver.com/main/ranking/read.naver?mode=LSD&mid=shm&sid1=001&oid=437&aid=0000280960&rankingType=RANKING\n",
      "55 - [단독] 정부, 부스터샷 '간격' 당긴다…50대 5개월,  … - https://news.naver.com/main/ranking/read.naver?mode=LSD&mid=shm&sid1=001&oid=437&aid=0000280960&rankingType=RANKING\n",
      "57 - “삼성 베끼기 아니다?” 화웨이, 새 폴더블폰 어떻길래 - https://news.naver.com/main/ranking/read.naver?mode=LSD&mid=shm&sid1=001&oid=016&aid=0001913423&rankingType=RANKING\n",
      "58 - 동영상기사 - https://news.naver.com/main/ranking/read.naver?mode=LSD&mid=shm&sid1=001&oid=052&aid=0001665894&rankingType=RANKING\n",
      "59 - [단독] \"손준성 측, 선거법 판례도 검색\"...공수처,  … - https://news.naver.com/main/ranking/read.naver?mode=LSD&mid=shm&sid1=001&oid=052&aid=0001665894&rankingType=RANKING\n",
      "61 - 김정은, 35일만에 공개 활동…'20kg 감량' 무색하게  … - https://news.naver.com/main/ranking/read.naver?mode=LSD&mid=shm&sid1=001&oid=448&aid=0000344087&rankingType=RANKING\n",
      "63 - 공모가 1만1000원이던 주식이 8개월 만에 14만원…뭐하 … - https://news.naver.com/main/ranking/read.naver?mode=LSD&mid=shm&sid1=001&oid=009&aid=0004879938&rankingType=RANKING\n",
      "65 - [단독] 이재용의 '파격'…일 잘하면 연봉 팍팍 뛰고 '별 … - https://news.naver.com/main/ranking/read.naver?mode=LSD&mid=shm&sid1=001&oid=015&aid=0004629234&rankingType=RANKING\n",
      "67 - 황정음, 47억 신사동 대박···3년전 산 빌딩 110억에 … - https://news.naver.com/main/ranking/read.naver?mode=LSD&mid=shm&sid1=001&oid=025&aid=0003151221&rankingType=RANKING\n",
      "69 - '홍어준표 논란' 서민 \"호남인들보다 윤석열에 미안\"[이슈 … - https://news.naver.com/main/ranking/read.naver?mode=LSD&mid=shm&sid1=001&oid=079&aid=0003575631&rankingType=RANKING\n",
      "71 - 尹, 권성동 사무총장 확정…‘김종인 원톱 선대위’ 구성 막 … - https://news.naver.com/main/ranking/read.naver?mode=LSD&mid=shm&sid1=001&oid=021&aid=0002492581&rankingType=RANKING\n",
      "73 - 이준석 “이재명, 이견 있다고 진중권에게 ‘너 보수지’ 몰 … - https://news.naver.com/main/ranking/read.naver?mode=LSD&mid=shm&sid1=001&oid=366&aid=0000774308&rankingType=RANKING\n",
      "74 - 동영상기사 - https://news.naver.com/main/ranking/read.naver?mode=LSD&mid=shm&sid1=001&oid=056&aid=0011157831&rankingType=RANKING\n",
      "75 - ‘호텔을 생활치료센터로’…뒤늦게 알게 된 주민 반발 - https://news.naver.com/main/ranking/read.naver?mode=LSD&mid=shm&sid1=001&oid=056&aid=0011157831&rankingType=RANKING\n",
      "77 - 건보 지역 가입자, 이달부터 납부액 바뀐다… 34%는 오르 … - https://news.naver.com/main/ranking/read.naver?mode=LSD&mid=shm&sid1=001&oid=277&aid=0005000499&rankingType=RANKING\n",
      "79 - \"메타버스, 엄청난 투자기회…커질 수밖에 없다\" - https://news.naver.com/main/ranking/read.naver?mode=LSD&mid=shm&sid1=001&oid=092&aid=0002239249&rankingType=RANKING\n",
      "81 - \"강용석, 영상부터 삭제를\"···김부선 뿔난 영상 뭐길래 - https://news.naver.com/main/ranking/read.naver?mode=LSD&mid=shm&sid1=001&oid=011&aid=0003985959&rankingType=RANKING\n",
      "82 - 동영상기사 - https://news.naver.com/main/ranking/read.naver?mode=LSD&mid=shm&sid1=001&oid=449&aid=0000217951&rankingType=RANKING\n",
      "83 - [단독]윤석열, 김영희 전 MBC 부사장 선대위 영입 추진 - https://news.naver.com/main/ranking/read.naver?mode=LSD&mid=shm&sid1=001&oid=449&aid=0000217951&rankingType=RANKING\n",
      "85 - 구하라의 생전 유화 작품 10점, 오빠가 경매에 내놓은 이 … - https://news.naver.com/main/ranking/read.naver?mode=LSD&mid=shm&sid1=001&oid=023&aid=0003653391&rankingType=RANKING\n",
      "87 - '신음 논란' 여성 BJ \"남성 팬과 성관계 안해.. 조작 … - https://news.naver.com/main/ranking/read.naver?mode=LSD&mid=shm&sid1=001&oid=014&aid=0004740167&rankingType=RANKING\n",
      "89 - [단독]국민MC 유재석, 카카오엔터 주주됐다..\"유희열과  … - https://news.naver.com/main/ranking/read.naver?mode=LSD&mid=shm&sid1=001&oid=008&aid=0004670950&rankingType=RANKING\n",
      "91 - [속보]1·2차 화이자 접종 30대 '부스터샷'하고 돌파감 … - https://news.naver.com/main/ranking/read.naver?mode=LSD&mid=shm&sid1=001&oid=087&aid=0000868537&rankingType=RANKING\n",
      "93 - 더팩트 \"검은 복장 사진, 김혜경씨 아닌 수행원\" 사과…정 … - https://news.naver.com/main/ranking/read.naver?mode=LSD&mid=shm&sid1=001&oid=421&aid=0005727894&rankingType=RANKING\n",
      "94 - 동영상기사 - https://news.naver.com/main/ranking/read.naver?mode=LSD&mid=shm&sid1=001&oid=214&aid=0001160341&rankingType=RANKING\n",
      "95 - 김혜경 아니다‥\"차량 4대 동원 과잉 취재도 법적 대응\" - https://news.naver.com/main/ranking/read.naver?mode=LSD&mid=shm&sid1=001&oid=214&aid=0001160341&rankingType=RANKING\n",
      "97 - “다 합쳐서 949원, 실화냐?” KT 보상금에 들끓는 여 … - https://news.naver.com/main/ranking/read.naver?mode=LSD&mid=shm&sid1=001&oid=005&aid=0001484630&rankingType=RANKING\n",
      "98 - 동영상기사 - https://news.naver.com/main/ranking/read.naver?mode=LSD&mid=shm&sid1=001&oid=422&aid=0000514285&rankingType=RANKING\n",
      "99 - [SNS핫피플] \"BTS 온다\"…미 LA 숙박비 폭등에 공 … - https://news.naver.com/main/ranking/read.naver?mode=LSD&mid=shm&sid1=001&oid=422&aid=0000514285&rankingType=RANKING\n",
      "101 - \"파주 요양병원, 윤석열 장모가 주도한 것 맞다\" - https://news.naver.com/main/ranking/read.naver?mode=LSD&mid=shm&sid1=001&oid=047&aid=0002332869&rankingType=RANKING\n",
      "103 - “핸드폰 찾아주며 20만원 요구한 택시 기사… 1만원 주니 … - https://news.naver.com/main/ranking/read.naver?mode=LSD&mid=shm&sid1=001&oid=022&aid=0003638503&rankingType=RANKING\n",
      "105 - 고령사회 일본이 쌓여가는 성인용 기저귀를 '재활용'하는 방 … - https://news.naver.com/main/ranking/read.naver?mode=LSD&mid=shm&sid1=001&oid=032&aid=0003110536&rankingType=RANKING\n",
      "107 - 부스터샷 맞은지 한달 안 된 30대 2명 국내 첫 돌파감염 - https://news.naver.com/main/ranking/read.naver?mode=LSD&mid=shm&sid1=001&oid=028&aid=0002568071&rankingType=RANKING\n",
      "109 - 일본 정부, 한국 경찰청장 독도 방문에 \"강력히 항의했다\" … - https://news.naver.com/main/ranking/read.naver?mode=LSD&mid=shm&sid1=001&oid=001&aid=0012797452&rankingType=RANKING\n",
      "111 - 명성황후 시해 다음날 \"왕비 죽였다\"…日 외교관 추정 편지 … - https://news.naver.com/main/ranking/read.naver?mode=LSD&mid=shm&sid1=001&oid=003&aid=0010835112&rankingType=RANKING\n",
      "113 - 삼성 파운드리, 결국 테일러 가나…美 오스틴, 세금감면 신 … - https://news.naver.com/main/ranking/read.naver?mode=LSD&mid=shm&sid1=001&oid=138&aid=0002113653&rankingType=RANKING\n",
      "115 - [르포]\"연식 6년이하 중고차 매물 끊겨, 고객 뚝\"…매장 … - https://news.naver.com/main/ranking/read.naver?mode=LSD&mid=shm&sid1=001&oid=018&aid=0005086819&rankingType=RANKING\n",
      "117 - \"디즈니+ 고작 이것 뿐이야?\"…사실은 韓 사전심의에 '발 … - https://news.naver.com/main/ranking/read.naver?mode=LSD&mid=shm&sid1=001&oid=031&aid=0000636438&rankingType=RANKING\n",
      "119 - '주식 대박' 입사동기에 \"돈 빌려달라\" 거절당하자 흉기로 … - https://news.naver.com/main/ranking/read.naver?mode=LSD&mid=shm&sid1=001&oid=088&aid=0000731318&rankingType=RANKING\n",
      "121 - GTX-A노선 '날벼락'...\"삼성역 3년간 분리 운영\" - https://news.naver.com/main/ranking/read.naver?mode=LSD&mid=shm&sid1=001&oid=215&aid=0000997306&rankingType=RANKING\n",
      "123 - 부스터샷도 맞았는데… 30대 남성 2명, 추가 접종 뒤 돌 … - https://news.naver.com/main/ranking/read.naver?mode=LSD&mid=shm&sid1=001&oid=020&aid=0003394014&rankingType=RANKING\n",
      "125 - \"집값 떨어진다던 당신 말 믿었다가 벼락거지 됐잖아\"…부동 … - https://news.naver.com/main/ranking/read.naver?mode=LSD&mid=shm&sid1=001&oid=029&aid=0002706259&rankingType=RANKING\n",
      "127 - 대선 승자는 이미 결정됐다...단, 이재명도 윤석열도 아니 … - https://news.naver.com/main/ranking/read.naver?mode=LSD&mid=shm&sid1=001&oid=002&aid=0002219051&rankingType=RANKING\n",
      "129 - \"택시 기사가 휴대폰 찾아 준 사례금으로 20만원을 요구합 … - https://news.naver.com/main/ranking/read.naver?mode=LSD&mid=shm&sid1=001&oid=119&aid=0002548338&rankingType=RANKING\n",
      "131 - “모유, 안전한지 아빠가 먹어봐야지”…아기에게 양보하세요[ … - https://news.naver.com/main/ranking/read.naver?mode=LSD&mid=shm&sid1=001&oid=081&aid=0003230452&rankingType=RANKING\n",
      "133 - 제네시스 'GV70 전기차', 19일 광저우모터쇼 세계 최 … - https://news.naver.com/main/ranking/read.naver?mode=LSD&mid=shm&sid1=001&oid=030&aid=0002982201&rankingType=RANKING\n",
      "135 - '文 경호원' 최영재 \"아랍 왕족에 '백지수표' 제안받아\" - https://news.naver.com/main/ranking/read.naver?mode=LSD&mid=shm&sid1=001&oid=057&aid=0001621706&rankingType=RANKING\n",
      "137 - 부산 신규 확진자 100명 근접…전국 위중증 환자 500명 … - https://news.naver.com/main/ranking/read.naver?mode=LSD&mid=shm&sid1=001&oid=082&aid=0001127808&rankingType=RANKING\n",
      "139 - \"이재명, 대장동 몰랐으면 박근혜, 알았으면 이명박\" 진중 … - https://news.naver.com/main/ranking/read.naver?mode=LSD&mid=shm&sid1=001&oid=006&aid=0000110522&rankingType=RANKING\n",
      "141 - 뱃살 빼주는 호르몬, '이 음식' 먹으면 잘 나와 - https://news.naver.com/main/ranking/read.naver?mode=LSD&mid=shm&sid1=001&oid=346&aid=0000045910&rankingType=RANKING\n",
      "143 - [정정] 김혜경 씨 ‘낙상사고’ 후 첫 외출 포착 사진은  … - https://news.naver.com/main/ranking/read.naver?mode=LSD&mid=shm&sid1=001&oid=629&aid=0000116437&rankingType=RANKING\n",
      "145 - '4강' 중 원희룡만 OK…尹에 등 돌린 홍준표‧ … - https://news.naver.com/main/ranking/read.naver?mode=LSD&mid=shm&sid1=001&oid=586&aid=0000031287&rankingType=RANKING\n",
      "146 - 동영상기사 - https://news.naver.com/main/ranking/read.naver?mode=LSD&mid=shm&sid1=001&oid=374&aid=0000264679&rankingType=RANKING\n",
      "147 - 곧 종부세 고지서 발송 “집 한 채 있어도 종부세 두 배로 … - https://news.naver.com/main/ranking/read.naver?mode=LSD&mid=shm&sid1=001&oid=374&aid=0000264679&rankingType=RANKING\n",
      "149 - ‘유럽 봉쇄’ 흔들리는 위드 코로나…‘성과 내는’ 韓 바이 … - https://news.naver.com/main/ranking/read.naver?mode=LSD&mid=shm&sid1=001&oid=293&aid=0000036975&rankingType=RANKING\n",
      "151 - [심상정 인터뷰] “차악을 고민하지 말고 최선을 선택하시라 … - https://news.naver.com/main/ranking/read.naver?mode=LSD&mid=shm&sid1=001&oid=308&aid=0000029752&rankingType=RANKING\n",
      "153 - [변화] 법원 \"권익위의 카이스트 제보자 신분보장 요구 각 … - https://news.naver.com/main/ranking/read.naver?mode=LSD&mid=shm&sid1=001&oid=607&aid=0000000945&rankingType=RANKING\n",
      "155 - 野 \"'대장동비리'를 2011년 尹이 수사로 막았어야? ' … - https://news.naver.com/main/ranking/read.naver?mode=LSD&mid=shm&sid1=001&oid=123&aid=0002259776&rankingType=RANKING\n",
      "157 - [강석기의 과학카페] 음식은 암 치료에 얼마나 영향을 미칠 … - https://news.naver.com/main/ranking/read.naver?mode=LSD&mid=shm&sid1=001&oid=584&aid=0000016747&rankingType=RANKING\n",
      "159 - 박영선? 추미애? 민주당의 오세훈 대항마는 누구 - https://news.naver.com/main/ranking/read.naver?mode=LSD&mid=shm&sid1=001&oid=053&aid=0000029983&rankingType=RANKING\n",
      "161 - 김혜수가 ‘명품 직송’ 외치던 ‘발란’ 광고…프라다 광고  … - https://news.naver.com/main/ranking/read.naver?mode=LSD&mid=shm&sid1=001&oid=243&aid=0000018576&rankingType=RANKING\n",
      "163 - 희비 갈리는 전기차 대장주들…리비안, 자동차 시총 5위 ‘ … - https://news.naver.com/main/ranking/read.naver?mode=LSD&mid=shm&sid1=001&oid=024&aid=0000071561&rankingType=RANKING\n",
      "165 - Kim Jong-un reappears after mont … - https://news.naver.com/main/ranking/read.naver?mode=LSD&mid=shm&sid1=001&oid=044&aid=0000232310&rankingType=RANKING\n",
      "167 - 더는 ‘요가복 샤넬’이라 부르지 마라! - https://news.naver.com/main/ranking/read.naver?mode=LSD&mid=shm&sid1=001&oid=037&aid=0000029971&rankingType=RANKING\n",
      "169 - “집값 오르는 소리 들린다”…신흥 주거 타운으로 거듭나는  … - https://news.naver.com/main/ranking/read.naver?mode=LSD&mid=shm&sid1=001&oid=050&aid=0000059035&rankingType=RANKING\n",
      "171 - 여자들의 해방과 욕망을 찾아서: 섹스굿즈에서 한류까지 - https://news.naver.com/main/ranking/read.naver?mode=LSD&mid=shm&sid1=001&oid=007&aid=0000006942&rankingType=RANKING\n",
      "173 - 중앙일보 온라인 회원 20만명... 홈피 개편 2개월만 - https://news.naver.com/main/ranking/read.naver?mode=LSD&mid=shm&sid1=001&oid=127&aid=0000031807&rankingType=RANKING\n",
      "175 - 질병 아니라 ‘정신 고생’이라 부를게요 - https://news.naver.com/main/ranking/read.naver?mode=LSD&mid=shm&sid1=001&oid=036&aid=0000045663&rankingType=RANKING\n",
      "177 - 김장훈‧영탁 출연... 22일 '강남가족콘서트' … - https://news.naver.com/main/ranking/read.naver?mode=LSD&mid=shm&sid1=001&oid=310&aid=0000091999&rankingType=RANKING\n",
      "179 - Google-Apple 'duopoly' slammed f … - https://news.naver.com/main/ranking/read.naver?mode=LSD&mid=shm&sid1=001&oid=640&aid=0000018256&rankingType=RANKING\n",
      "181 - [단독] \"아직도 정신 못차렸나\"… 요소수 재고 현황 공개 … - https://news.naver.com/main/ranking/read.naver?mode=LSD&mid=shm&sid1=001&oid=417&aid=0000754992&rankingType=RANKING\n",
      "183 - 고구마에 깍두기 먹으면.. 몸에 어떤 변화가? - https://news.naver.com/main/ranking/read.naver?mode=LSD&mid=shm&sid1=001&oid=296&aid=0000052726&rankingType=RANKING\n",
      "185 - [Man&Wall] 경남의 자연암장 메카 의령 큰덤바위 - https://news.naver.com/main/ranking/read.naver?mode=LSD&mid=shm&sid1=001&oid=094&aid=0000009542&rankingType=RANKING\n",
      "187 - 그렇게 규제했는데…집값 더 벌어지고 다주택자 늘고 - https://news.naver.com/main/ranking/read.naver?mode=LSD&mid=shm&sid1=001&oid=648&aid=0000004832&rankingType=RANKING\n",
      "189 - [강혜미의 스타트업 카페](19)프리랜서는 프리랜서로 대우 … - https://news.naver.com/main/ranking/read.naver?mode=LSD&mid=shm&sid1=001&oid=033&aid=0000043301&rankingType=RANKING\n",
      "191 - 그렇게 규제했는데…집값 더 벌어지고 다주택자 늘고 - https://news.naver.com/main/ranking/read.naver?mode=LSD&mid=shm&sid1=001&oid=648&aid=0000004832&rankingType=RANKING\n",
      "193 - [강혜미의 스타트업 카페](19)프리랜서는 프리랜서로 대우 … - https://news.naver.com/main/ranking/read.naver?mode=LSD&mid=shm&sid1=001&oid=033&aid=0000043301&rankingType=RANKING\n",
      "195 - [우그그] 금광석 1톤에 금 5g, 폐휴대전화는 400g  … - https://news.naver.com/main/ranking/read.naver?mode=LSD&mid=shm&sid1=001&oid=262&aid=0000014954&rankingType=RANKING\n",
      "197 - 오늘 날씨는 '잎비' 내립니다…늦가을 큰 은행나무들의 선물 - https://news.naver.com/main/ranking/read.naver?mode=LSD&mid=shm&sid1=001&oid=353&aid=0000040909&rankingType=RANKING\n",
      "199 - 모유 아닌 가슴 분비물이 나온다? 이런 경우 ‘유방암 위험 … - https://news.naver.com/main/ranking/read.naver?mode=LSD&mid=shm&sid1=001&oid=145&aid=0000015592&rankingType=RANKING\n"
     ]
    }
   ],
   "source": [
    "if res.ok:\n",
    "    # 소스보기 했을 때 보여지는 텍스트\n",
    "    html = res.text\n",
    "    #BeautifulSoup 객체생성\n",
    "    soup = BeautifulSoup(html, 'html.parser')\n",
    "    #print(len(soup.select(\"a[href*='read.naver']\")))\n",
    "    atag_list = soup.select(\"a[href*='read.naver']\")\n",
    "    print(type(atag_list))\n",
    "    for idx, atag in enumerate(atag_list,1):\n",
    "        #print(type(atag))\n",
    "        if atag:\n",
    "            title = atag.text.strip()\n",
    "            href = urljoin(url, atag['href'])\n",
    "        if title:\n",
    "            print(f'{idx} - {title} - {href}')"
   ]
  },
  {
   "cell_type": "markdown",
   "id": "993a0d28-44c3-4119-9b6e-b93b5153d64f",
   "metadata": {},
   "source": [
    "### 웹툰 이미지 다운로드 & 업로드\n",
    "* referer 헤더 설정이 필요합니다."
   ]
  },
  {
   "cell_type": "code",
   "execution_count": 60,
   "id": "f4392dc2",
   "metadata": {},
   "outputs": [],
   "source": [
    "import requests\n",
    "import os"
   ]
  },
  {
   "cell_type": "code",
   "execution_count": 61,
   "id": "66e02bf1",
   "metadata": {},
   "outputs": [
    {
     "name": "stdout",
     "output_type": "stream",
     "text": [
      "200\n",
      "writing to 20211115143459_7181f6c9b607b12cf6f4da17353e77a3_IMAG01_1.jpg (135942) bytes\n",
      "200\n",
      "writing to 20211115143459_7181f6c9b607b12cf6f4da17353e77a3_IMAG01_2.jpg (177381) bytes\n",
      "200\n",
      "writing to 20211115143459_7181f6c9b607b12cf6f4da17353e77a3_IMAG01_3.jpg (137491) bytes\n"
     ]
    }
   ],
   "source": [
    "req_header = {\n",
    "    'referer':'https://comic.naver.com/webtoon/detail?titleId=780506&no=32&amp;weekday=tue'\n",
    "}\n",
    "img_url_list = ['https://image-comic.pstatic.net/webtoon/780506/32/20211115143459_7181f6c9b607b12cf6f4da17353e77a3_IMAG01_1.jpg',\n",
    "                'https://image-comic.pstatic.net/webtoon/780506/32/20211115143459_7181f6c9b607b12cf6f4da17353e77a3_IMAG01_2.jpg',\n",
    "                'https://image-comic.pstatic.net/webtoon/780506/32/20211115143459_7181f6c9b607b12cf6f4da17353e77a3_IMAG01_3.jpg']\n",
    "\n",
    "for img_url in img_url_list:\n",
    "    res = requests.get(img_url, headers=req_header)\n",
    "    print(res.status_code)\n",
    "    if res.ok:\n",
    "        #response 객체에 담겨진 binary data를 추출할때는 content 속성사용\n",
    "        img_data = res.content\n",
    "        file_name = os.path.basename(img_url)\n",
    "        \n",
    "        with open(file_name, 'wb') as file:\n",
    "            print(f'writing to {file_name} ({len(img_data)}) bytes')\n",
    "            file.write(img_data)"
   ]
  },
  {
   "cell_type": "markdown",
   "id": "2f663d6a-6d1e-4ca3-8df2-64445ee3d56b",
   "metadata": {},
   "source": [
    "### 이미지 업로드\n",
    "* http://httpbin.org/post  URL로 다운받은 img 파일을 업로드\n",
    "* requests의 post() 함수를 사용하고, files 속성에 image data를 지정한다"
   ]
  },
  {
   "cell_type": "code",
   "execution_count": 62,
   "id": "b98c6825",
   "metadata": {},
   "outputs": [
    {
     "name": "stdout",
     "output_type": "stream",
     "text": [
      "200\n"
     ]
    }
   ],
   "source": [
    "import requests\n",
    "\n",
    "upload_files_dict = {\n",
    "    'img1': open('f1.jpg','rb'),\n",
    "    'img2': open('f2.jpg','rb'),\n",
    "    'img3': open('f3.jpg','rb')\n",
    "}\n",
    "url = \"http://httpbin.org/post\"\n",
    "res = requests.post(url, files=upload_files_dict)\n",
    "print(res.status_code)"
   ]
  },
  {
   "cell_type": "code",
   "execution_count": 63,
   "id": "e3b52ea3",
   "metadata": {},
   "outputs": [],
   "source": [
    "img1_data = res.json()['files']['img1']\n",
    "#img1_data"
   ]
  },
  {
   "cell_type": "markdown",
   "id": "425f51bd-21c5-4a98-b813-48adeb458163",
   "metadata": {},
   "source": [
    "### 파파고 오픈 API 사용\n",
    "* urllib 내부 라이브러리를 사용한 코드"
   ]
  },
  {
   "cell_type": "code",
   "execution_count": 64,
   "id": "1c7bb98f",
   "metadata": {},
   "outputs": [
    {
     "name": "stdout",
     "output_type": "stream",
     "text": [
      "{\"message\":{\"@type\":\"response\",\"@service\":\"naverservice.nmt.proxy\",\"@version\":\"1.0.0\",\"result\":{\"srcLangType\":\"en\",\"tarLangType\":\"ko\",\"translatedText\":\"갑자기, 나는 예전의 절반도 되지 않았다.\",\"engineType\":\"N2MT\",\"pivot\":null}}}\n"
     ]
    }
   ],
   "source": [
    "import os\n",
    "import sys\n",
    "import urllib.request\n",
    "\n",
    "client_id = \"Txlmbz8_3MnvRcDWLoZo\" # 개발자센터에서 발급받은 Client ID 값\n",
    "client_secret = \"pmYRthuGCZ\" # 개발자센터에서 발급받은 Client Secret 값\n",
    "\n",
    "encText = urllib.parse.quote(\"Suddenly, I'm not half the man I used to be\")\n",
    "data = \"source=en&target=ko&text=\" + encText\n",
    "url = \"https://openapi.naver.com/v1/papago/n2mt\"\n",
    "\n",
    "request = urllib.request.Request(url)\n",
    "request.add_header(\"X-Naver-Client-Id\",client_id)\n",
    "request.add_header(\"X-Naver-Client-Secret\",client_secret)\n",
    "response = urllib.request.urlopen(request, data=data.encode(\"utf-8\"))\n",
    "rescode = response.getcode()\n",
    "if(rescode==200):\n",
    "    response_body = response.read()\n",
    "    print(response_body.decode('utf-8'))\n",
    "else:\n",
    "    print(\"Error Code:\" + rescode)"
   ]
  },
  {
   "cell_type": "markdown",
   "id": "36aa28ba-c3ae-4bb0-b9a1-f0d7082d5467",
   "metadata": {},
   "source": [
    "* requests를 사용한 코드로 변경하기"
   ]
  },
  {
   "cell_type": "code",
   "execution_count": 65,
   "id": "d7c50ee6",
   "metadata": {},
   "outputs": [
    {
     "name": "stdout",
     "output_type": "stream",
     "text": [
      "True\n",
      " 응답 헤더 : {'Server': 'nginx', 'Date': 'Tue, 16 Nov 2021 12:47:28 GMT', 'Content-Type': 'application/json; charset=utf-8', 'Transfer-Encoding': 'chunked', 'Connection': 'keep-alive', 'Keep-Alive': 'timeout=5', 'apigw-uuid': '16170b26-0798-44ee-a1d4-4dab81d7fd97', 'X-QUOTA': '43', 'Content-Encoding': 'gzip'}\n",
      " 요청 헤더 : {'User-Agent': 'python-requests/2.25.1', 'Accept-Encoding': 'gzip, deflate', 'Accept': '*/*', 'Connection': 'keep-alive', 'X-Naver-Client-Id': 'Txlmbz8_3MnvRcDWLoZo', 'X-Naver-Client-Secret': 'pmYRthuGCZ', 'Content-Length': '72', 'Content-Type': 'application/x-www-form-urlencoded'}\n",
      " 응답 코드 : 200\n"
     ]
    }
   ],
   "source": [
    "import requests\n",
    "\n",
    "client_id = \"Txlmbz8_3MnvRcDWLoZo\" # 개발자센터에서 발급받은 Client ID 값\n",
    "client_secret = \"pmYRthuGCZ\" # 개발자센터에서 발급받은 Client Secret 값\n",
    "url = \"https://openapi.naver.com/v1/papago/n2mt\"\n",
    "\n",
    "#request parameter(요청 파라미터)\n",
    "req_param_dict = {\n",
    "    \"source\":\"en\",\n",
    "    \"target\":\"ko\",\n",
    "    \"text\":\"Suddenly, I'm not half the man I used to be\"\n",
    "}\n",
    "#request header(요청 헤더)\n",
    "req_header_dict = {\n",
    "    \"X-Naver-Client-Id\":client_id,\n",
    "    \"X-Naver-Client-Secret\":client_secret\n",
    "}\n",
    "\n",
    "res = requests.post(url, data=req_param_dict, headers=req_header_dict)\n",
    "print(res.ok)\n",
    "print(f' 응답 헤더 : {res.headers}')\n",
    "print(f' 요청 헤더 : {res.request.headers}')\n",
    "print(f' 응답 코드 : {res.status_code}')  "
   ]
  },
  {
   "cell_type": "code",
   "execution_count": 66,
   "id": "22ba9985",
   "metadata": {},
   "outputs": [
    {
     "name": "stdout",
     "output_type": "stream",
     "text": [
      "<class 'str'>\n",
      "<class 'dict'>\n",
      "{\"message\":{\"@type\":\"response\",\"@service\":\"naverservice.nmt.proxy\",\"@version\":\"1.0.0\",\"result\":{\"srcLangType\":\"en\",\"tarLangType\":\"ko\",\"translatedText\":\"갑자기, 나는 예전의 절반도 되지 않았다.\",\"engineType\":\"N2MT\",\"pivot\":null}}}\n",
      "갑자기, 나는 예전의 절반도 되지 않았다.\n"
     ]
    }
   ],
   "source": [
    "if res.ok:\n",
    "    print(type(res.text))\n",
    "    print(type(res.json()))\n",
    "    print(res.text)\n",
    "    print(res.json()['message']['result']['translatedText'])"
   ]
  }
 ],
 "metadata": {
  "kernelspec": {
   "display_name": "Python 3",
   "language": "python",
   "name": "python3"
  },
  "language_info": {
   "codemirror_mode": {
    "name": "ipython",
    "version": 3
   },
   "file_extension": ".py",
   "mimetype": "text/x-python",
   "name": "python",
   "nbconvert_exporter": "python",
   "pygments_lexer": "ipython3",
   "version": "3.8.8"
  }
 },
 "nbformat": 4,
 "nbformat_minor": 5
}
