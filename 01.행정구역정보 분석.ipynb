{
 "cells": [
  {
   "cell_type": "markdown",
   "metadata": {},
   "source": [
    "### 행정구역정보(csv)를 읽고, 분석하기\n",
    "* read_csv() 함수로 csv 읽어오기\n",
    "* head(), tail(), info()\n",
    "* 특정행과 특정열을 선택하기 loc[], iloc[] 사용\n",
    "* 컬럼명 변경\n",
    "* 상관관계 분석\n",
    "* 시각화"
   ]
  },
  {
   "cell_type": "code",
   "execution_count": 1,
   "metadata": {},
   "outputs": [
    {
     "name": "stdout",
     "output_type": "stream",
     "text": [
      "Name: pandas\n",
      "Version: 1.2.5\n",
      "Summary: Powerful data structures for data analysis, time series, and statistics\n",
      "Home-page: https://pandas.pydata.org\n",
      "Author: None\n",
      "Author-email: None\n",
      "License: BSD\n",
      "Location: c:\\anaconda3\\lib\\site-packages\n",
      "Requires: numpy, pytz, python-dateutil\n",
      "Required-by: visions, statsmodels, seaborn, plotnine, phik, pandas-profiling, mizani\n"
     ]
    }
   ],
   "source": [
    "!pip show pandas"
   ]
  },
  {
   "cell_type": "code",
   "execution_count": null,
   "metadata": {},
   "outputs": [],
   "source": [
    "import pandas as pd\n",
    "\n",
    "data = pd.read_csv('data/data_draw_korea.csv')\n",
    "print(type(data))\n",
    "print(data.shape)\n",
    "data.head(3)"
   ]
  },
  {
   "cell_type": "code",
   "execution_count": null,
   "metadata": {},
   "outputs": [],
   "source": [
    "data.tail()"
   ]
  },
  {
   "cell_type": "code",
   "execution_count": null,
   "metadata": {},
   "outputs": [],
   "source": [
    "#컬럼명\n",
    "print(data.columns)\n",
    "#인덱스\n",
    "print(data.index)\n",
    "#값\n",
    "print(type(data.values))\n",
    "print(data.values)"
   ]
  },
  {
   "cell_type": "code",
   "execution_count": null,
   "metadata": {},
   "outputs": [],
   "source": [
    "data.info()"
   ]
  },
  {
   "cell_type": "code",
   "execution_count": null,
   "metadata": {},
   "outputs": [],
   "source": [
    "data.describe()"
   ]
  },
  {
   "cell_type": "code",
   "execution_count": null,
   "metadata": {},
   "outputs": [],
   "source": [
    "#인구수 컬럼의 집계함수\n",
    "print(type(data['인구수']))\n",
    "data['인구수']"
   ]
  },
  {
   "cell_type": "markdown",
   "metadata": {},
   "source": []
  },
  {
   "cell_type": "code",
   "execution_count": null,
   "metadata": {},
   "outputs": [],
   "source": []
  },
  {
   "cell_type": "code",
   "execution_count": 3,
   "metadata": {},
   "outputs": [],
   "source": [
    "# figure, ax1 = plt.subplots(nrows=1, ncols=1)\n",
    "# figure.set_size_inches(18,12)\n",
    "\n",
    "# sns.barplot(data=seoul_df, x=\"행정구역\", y=\"인구수\", ax=ax1)\n",
    "\n",
    "# ax1.get_yaxis().set_major_formatter(plt.FuncFormatter(lambda x, loc: \"{:,}\".format(int(x))))\n",
    "# ax1.set(ylabel='인구수')\n",
    "# for item in ax1.get_xticklabels(): \n",
    "#     item.set_rotation(90)\n",
    "    \n",
    "# for i, v in enumerate(seoul_df[\"인구수\"].iteritems()):        \n",
    "#     ax1.text(i ,v[1], \"{:,}\".format(v[1]), color='m', va ='bottom', rotation=45)\n",
    "# plt.tight_layout()"
   ]
  }
 ],
 "metadata": {
  "kernelspec": {
   "display_name": "Python 3",
   "language": "python",
   "name": "python3"
  },
  "language_info": {
   "codemirror_mode": {
    "name": "ipython",
    "version": 3
   },
   "file_extension": ".py",
   "mimetype": "text/x-python",
   "name": "python",
   "nbconvert_exporter": "python",
   "pygments_lexer": "ipython3",
   "version": "3.8.5"
  }
 },
 "nbformat": 4,
 "nbformat_minor": 4
}
