{
 "cells": [
  {
   "cell_type": "markdown",
   "id": "732e800d",
   "metadata": {},
   "source": [
    "## 파이썬 기본 코드작성\n",
    "* python base 문법 \n",
    "* ctrl + enter : 해당 셀만 실행 \n",
    "* shift + enter : 해당 셀을 실행하고 , 커서를 아래로 이동, 하위 셀이 없으면 추가\n",
    "* alt + enter : 해당 셀을 실행하고, 무조건 하위 셀을 추가"
   ]
  },
  {
   "cell_type": "code",
   "execution_count": 2,
   "id": "3461374f",
   "metadata": {},
   "outputs": [
    {
     "data": {
      "text/plain": [
       "[10, 20, 30]"
      ]
     },
     "execution_count": 2,
     "metadata": {},
     "output_type": "execute_result"
    }
   ],
   "source": [
    "my_list = [10,20,30]\n",
    "my_list"
   ]
  },
  {
   "cell_type": "code",
   "execution_count": 3,
   "id": "66740429",
   "metadata": {},
   "outputs": [
    {
     "name": "stdout",
     "output_type": "stream",
     "text": [
      "['apple', 'banana', 'mango']\n"
     ]
    }
   ],
   "source": [
    "fruits = ['apple','banana','cherry','kiwi','mango']\n",
    "#과일이름에 a가 포함된 과일 리스트 만들기\n",
    "a_list = []\n",
    "for fruit in fruits:\n",
    "    if \"a\" in fruit:\n",
    "        a_list.append(fruit)\n",
    "\n",
    "print(a_list)        "
   ]
  },
  {
   "cell_type": "code",
   "execution_count": 4,
   "id": "df40a9f8",
   "metadata": {},
   "outputs": [
    {
     "name": "stdout",
     "output_type": "stream",
     "text": [
      "['apple', 'banana', 'mango']\n"
     ]
    }
   ],
   "source": [
    "#newlist = [expression for item in iterable if condition == True]\n",
    "a_list2 = [fruit for fruit in fruits if \"a\" in fruit]\n",
    "print(a_list2)"
   ]
  },
  {
   "cell_type": "code",
   "execution_count": 5,
   "id": "2455e400-e05f-46bd-97b5-2521db1479d9",
   "metadata": {},
   "outputs": [],
   "source": [
    "#default parameter value\n",
    "def mimus(a,b=10):\n",
    "    return a - b"
   ]
  },
  {
   "cell_type": "code",
   "execution_count": 7,
   "id": "78a41c7a-406a-4def-a42c-44f344e75d18",
   "metadata": {},
   "outputs": [
    {
     "data": {
      "text/plain": [
       "-7"
      ]
     },
     "execution_count": 7,
     "metadata": {},
     "output_type": "execute_result"
    }
   ],
   "source": [
    "mimus(3)"
   ]
  },
  {
   "cell_type": "code",
   "execution_count": 9,
   "id": "11235c25-7118-4006-b8ea-007832e01716",
   "metadata": {},
   "outputs": [
    {
     "data": {
      "text/plain": [
       "7"
      ]
     },
     "execution_count": 9,
     "metadata": {},
     "output_type": "execute_result"
    }
   ],
   "source": [
    "mimus(10,3)"
   ]
  },
  {
   "cell_type": "code",
   "execution_count": 12,
   "id": "cdafbbac-7c4e-46e0-8571-f51d5b90bae6",
   "metadata": {},
   "outputs": [],
   "source": [
    "#SyntaxError: non-default argument follows default argument\n",
    "# def minus2(a=10,b):\n",
    "#     return a - b"
   ]
  },
  {
   "cell_type": "code",
   "execution_count": 13,
   "id": "71c12ea0-f623-4c68-aeea-f6b8d1f4c92b",
   "metadata": {},
   "outputs": [],
   "source": [
    "my_value = 12494949\n",
    "def my_format(value):\n",
    "    return f'{value:,}'"
   ]
  },
  {
   "cell_type": "code",
   "execution_count": 15,
   "id": "a145d6a6-1549-4435-8501-6b8596afcac6",
   "metadata": {},
   "outputs": [
    {
     "data": {
      "text/plain": [
       "'12,494,949'"
      ]
     },
     "execution_count": 15,
     "metadata": {},
     "output_type": "execute_result"
    }
   ],
   "source": [
    "my_format(my_value)"
   ]
  },
  {
   "cell_type": "code",
   "execution_count": 22,
   "id": "012218a2-8eb4-4f9d-b140-00d86b95fcf8",
   "metadata": {},
   "outputs": [],
   "source": [
    "# 람다함수, 익명함수\n",
    "my_format2 = lambda val : f'{val:,}'"
   ]
  },
  {
   "cell_type": "code",
   "execution_count": 23,
   "id": "17a452b4-259f-4173-9803-4f89235d1b48",
   "metadata": {},
   "outputs": [
    {
     "data": {
      "text/plain": [
       "'12,494,949'"
      ]
     },
     "execution_count": 23,
     "metadata": {},
     "output_type": "execute_result"
    }
   ],
   "source": [
    "my_format2(my_value)"
   ]
  },
  {
   "cell_type": "code",
   "execution_count": 25,
   "id": "bba85942-a998-498c-97c8-e7f2bf8264c2",
   "metadata": {},
   "outputs": [
    {
     "data": {
      "text/plain": [
       "<zip at 0x264d761f440>"
      ]
     },
     "execution_count": 25,
     "metadata": {},
     "output_type": "execute_result"
    }
   ],
   "source": [
    "dt_list = ['정당','선거구','당선횟수']\n",
    "dd_list = ['민주당','서울은평구','초선']\n",
    "\n",
    "zip(dt_list,dd_list)"
   ]
  },
  {
   "cell_type": "code",
   "execution_count": 27,
   "id": "ae94a525-643a-4071-8176-e465592b643a",
   "metadata": {},
   "outputs": [
    {
     "name": "stdout",
     "output_type": "stream",
     "text": [
      "('정당', '민주당')\n",
      "('선거구', '서울은평구')\n",
      "('당선횟수', '초선')\n"
     ]
    }
   ],
   "source": [
    "for data in zip(dt_list,dd_list):\n",
    "    print(data)"
   ]
  },
  {
   "cell_type": "code",
   "execution_count": 28,
   "id": "43c80f31-da91-441b-b9dc-ac28e78ec2f9",
   "metadata": {},
   "outputs": [
    {
     "data": {
      "text/plain": [
       "{'정당': '민주당', '선거구': '서울은평구', '당선횟수': '초선'}"
      ]
     },
     "execution_count": 28,
     "metadata": {},
     "output_type": "execute_result"
    }
   ],
   "source": [
    "dict(zip(dt_list,dd_list))"
   ]
  },
  {
   "cell_type": "code",
   "execution_count": 30,
   "id": "f4bab3ad-fb0a-4fd1-92e5-d6b41cbe0579",
   "metadata": {},
   "outputs": [
    {
     "name": "stdout",
     "output_type": "stream",
     "text": [
      "2021-11-18\n",
      "2021\n",
      "11\n",
      "18\n"
     ]
    }
   ],
   "source": [
    "from datetime import date\n",
    "\n",
    "today = date.today()\n",
    "print(today)\n",
    "print(today.year)\n",
    "print(today.month)\n",
    "print(today.day)"
   ]
  },
  {
   "cell_type": "code",
   "execution_count": 32,
   "id": "41a185fe-b96a-40ac-b46b-4f1d0d6021a5",
   "metadata": {},
   "outputs": [
    {
     "name": "stdout",
     "output_type": "stream",
     "text": [
      "1960-02-05 1960-12-01\n"
     ]
    }
   ],
   "source": [
    "birth_1 = date(1960,2,5)\n",
    "birth_2 = date(1960,12,1)\n",
    "print(birth_1, birth_2)"
   ]
  },
  {
   "cell_type": "code",
   "execution_count": 34,
   "id": "4778c60a-5126-44ae-b9a6-1d8806e383db",
   "metadata": {},
   "outputs": [
    {
     "data": {
      "text/plain": [
       "True"
      ]
     },
     "execution_count": 34,
     "metadata": {},
     "output_type": "execute_result"
    }
   ],
   "source": [
    "#True - 1, False - 0\n",
    "(2,5) < (12,1)"
   ]
  },
  {
   "cell_type": "code",
   "execution_count": 38,
   "id": "42a7af17-858e-42cc-9a53-07e488e807be",
   "metadata": {},
   "outputs": [
    {
     "data": {
      "text/plain": [
       "False"
      ]
     },
     "execution_count": 38,
     "metadata": {},
     "output_type": "execute_result"
    }
   ],
   "source": [
    "(today.month, today.day) < (birth_1.month, birth_1.day)  #0"
   ]
  },
  {
   "cell_type": "code",
   "execution_count": 40,
   "id": "a0428cc9-3a41-4af5-8270-8c1ced6a7039",
   "metadata": {},
   "outputs": [
    {
     "data": {
      "text/plain": [
       "True"
      ]
     },
     "execution_count": 40,
     "metadata": {},
     "output_type": "execute_result"
    }
   ],
   "source": [
    "(today.month, today.day) < (birth_2.month, birth_2.day) #1"
   ]
  },
  {
   "cell_type": "code",
   "execution_count": 42,
   "id": "3fbcb68b-757a-459c-8b2d-46d60ed86a7c",
   "metadata": {},
   "outputs": [
    {
     "name": "stdout",
     "output_type": "stream",
     "text": [
      "61\n"
     ]
    }
   ],
   "source": [
    "age = today.year - birth_1.year - ((today.month, today.day) < (birth_1.month, birth_1.day))\n",
    "print(age)"
   ]
  },
  {
   "cell_type": "code",
   "execution_count": 44,
   "id": "6c97fe79-8df1-4d81-8370-eb8f2e3f8b64",
   "metadata": {},
   "outputs": [
    {
     "name": "stdout",
     "output_type": "stream",
     "text": [
      "60\n"
     ]
    }
   ],
   "source": [
    "age = today.year - birth_2.year - ((today.month, today.day) < (birth_2.month, birth_2.day))\n",
    "print(age)"
   ]
  },
  {
   "cell_type": "code",
   "execution_count": 45,
   "id": "7661cd62-372b-41c3-a840-3a1839f0d41b",
   "metadata": {},
   "outputs": [],
   "source": [
    "import numpy as np "
   ]
  },
  {
   "cell_type": "code",
   "execution_count": 46,
   "id": "3fdac2d9-5255-4889-9b0a-3e5509bfd2c3",
   "metadata": {},
   "outputs": [
    {
     "data": {
      "text/plain": [
       "array([1, 2, 3, 4])"
      ]
     },
     "execution_count": 46,
     "metadata": {},
     "output_type": "execute_result"
    }
   ],
   "source": [
    "arr = np.array([1,2,3,4])\n",
    "arr"
   ]
  },
  {
   "cell_type": "code",
   "execution_count": 48,
   "id": "5b124600-7366-4696-97ce-508c31842b70",
   "metadata": {},
   "outputs": [
    {
     "name": "stdout",
     "output_type": "stream",
     "text": [
      "int32\n"
     ]
    },
    {
     "data": {
      "text/plain": [
       "(4,)"
      ]
     },
     "execution_count": 48,
     "metadata": {},
     "output_type": "execute_result"
    }
   ],
   "source": [
    "print(arr.dtype)\n",
    "arr.shape"
   ]
  },
  {
   "cell_type": "code",
   "execution_count": 50,
   "id": "8c6e8436-957c-42cf-9dd6-81f5dadfebe6",
   "metadata": {},
   "outputs": [
    {
     "data": {
      "text/plain": [
       "array([[ 1,  2,  3,  4],\n",
       "       [ 5,  6,  7,  8],\n",
       "       [ 9, 10, 11, 12],\n",
       "       [13, 14, 15, 16]])"
      ]
     },
     "execution_count": 50,
     "metadata": {},
     "output_type": "execute_result"
    }
   ],
   "source": [
    "arr2d =np.array( [[1,2,3,4],\n",
    "         [5,6,7,8],\n",
    "         [9,10,11,12],\n",
    "         [13,14,15,16]\n",
    "        ])\n",
    "arr2d"
   ]
  },
  {
   "cell_type": "code",
   "execution_count": 55,
   "id": "5e61fc95-8703-49d4-bbdb-9aa6de2a1bef",
   "metadata": {},
   "outputs": [
    {
     "data": {
      "text/plain": [
       "array([[ 5,  6,  7,  8],\n",
       "       [ 9, 10, 11, 12],\n",
       "       [13, 14, 15, 16]])"
      ]
     },
     "execution_count": 55,
     "metadata": {},
     "output_type": "execute_result"
    }
   ],
   "source": [
    "arr2d[1:]"
   ]
  },
  {
   "cell_type": "code",
   "execution_count": 57,
   "id": "eb42edc7-4861-47b2-a2f8-a9c2d389eea8",
   "metadata": {},
   "outputs": [
    {
     "data": {
      "text/plain": [
       "array([5, 6, 7, 8])"
      ]
     },
     "execution_count": 57,
     "metadata": {},
     "output_type": "execute_result"
    }
   ],
   "source": [
    "arr2d[1,:]"
   ]
  },
  {
   "cell_type": "code",
   "execution_count": 59,
   "id": "46d59df6-84fb-4bd7-a8b3-1354fef577ba",
   "metadata": {},
   "outputs": [
    {
     "data": {
      "text/plain": [
       "array([ 2,  6, 10, 14])"
      ]
     },
     "execution_count": 59,
     "metadata": {},
     "output_type": "execute_result"
    }
   ],
   "source": [
    "arr2d[:,1]"
   ]
  },
  {
   "cell_type": "code",
   "execution_count": 62,
   "id": "1c726b9f-4293-4ae3-8e1a-ecbcb1ca1eca",
   "metadata": {},
   "outputs": [
    {
     "data": {
      "text/plain": [
       "array([[ 6,  7],\n",
       "       [10, 11]])"
      ]
     },
     "execution_count": 62,
     "metadata": {},
     "output_type": "execute_result"
    }
   ],
   "source": [
    "arr2d[1:3,1:3]"
   ]
  },
  {
   "cell_type": "code",
   "execution_count": 63,
   "id": "3f23ef2a-c211-4090-8f42-f8cb501a5331",
   "metadata": {},
   "outputs": [
    {
     "data": {
      "text/plain": [
       "array([[ 1,  2,  3,  4],\n",
       "       [ 5,  6,  7,  8],\n",
       "       [ 9, 10, 11, 12],\n",
       "       [13, 14, 15, 16]])"
      ]
     },
     "execution_count": 63,
     "metadata": {},
     "output_type": "execute_result"
    }
   ],
   "source": [
    "arr2d"
   ]
  },
  {
   "cell_type": "code",
   "execution_count": 65,
   "id": "bf30fef9-4d8a-436e-bdcb-8874399c0460",
   "metadata": {},
   "outputs": [
    {
     "data": {
      "text/plain": [
       "array([28, 32, 36, 40])"
      ]
     },
     "execution_count": 65,
     "metadata": {},
     "output_type": "execute_result"
    }
   ],
   "source": [
    "arr2d.sum(axis=0)"
   ]
  },
  {
   "cell_type": "code",
   "execution_count": 67,
   "id": "e005fc87-06da-4d93-9b03-e660f6092b5e",
   "metadata": {},
   "outputs": [
    {
     "data": {
      "text/plain": [
       "array([10, 26, 42, 58])"
      ]
     },
     "execution_count": 67,
     "metadata": {},
     "output_type": "execute_result"
    }
   ],
   "source": [
    "arr2d.sum(axis=1)"
   ]
  }
 ],
 "metadata": {
  "kernelspec": {
   "display_name": "Python 3",
   "language": "python",
   "name": "python3"
  },
  "language_info": {
   "codemirror_mode": {
    "name": "ipython",
    "version": 3
   },
   "file_extension": ".py",
   "mimetype": "text/x-python",
   "name": "python",
   "nbconvert_exporter": "python",
   "pygments_lexer": "ipython3",
   "version": "3.8.8"
  }
 },
 "nbformat": 4,
 "nbformat_minor": 5
}
