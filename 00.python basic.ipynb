{
 "cells": [
  {
   "cell_type": "markdown",
   "id": "732e800d",
   "metadata": {},
   "source": [
    "## 파이썬 기본 코드작성\n",
    "* python base 문법 \n",
    "* ctrl + enter : 해당 셀만 실행 \n",
    "* shift + enter : 해당 셀을 실행하고 , 커서를 아래로 이동, 하위 셀이 없으면 추가\n",
    "* alt + enter : 해당 셀을 실행하고, 무조건 하위 셀을 추가"
   ]
  },
  {
   "cell_type": "code",
   "execution_count": 1,
   "id": "3461374f",
   "metadata": {},
   "outputs": [
    {
     "data": {
      "text/plain": [
       "[10, 20, 30]"
      ]
     },
     "execution_count": 1,
     "metadata": {},
     "output_type": "execute_result"
    }
   ],
   "source": [
    "my_list = [10,20,30]\n",
    "my_list"
   ]
  },
  {
   "cell_type": "code",
   "execution_count": null,
   "id": "66740429",
   "metadata": {},
   "outputs": [],
   "source": []
  }
 ],
 "metadata": {
  "kernelspec": {
   "display_name": "Python 3",
   "language": "python",
   "name": "python3"
  },
  "language_info": {
   "codemirror_mode": {
    "name": "ipython",
    "version": 3
   },
   "file_extension": ".py",
   "mimetype": "text/x-python",
   "name": "python",
   "nbconvert_exporter": "python",
   "pygments_lexer": "ipython3",
   "version": "3.8.8"
  }
 },
 "nbformat": 4,
 "nbformat_minor": 5
}
