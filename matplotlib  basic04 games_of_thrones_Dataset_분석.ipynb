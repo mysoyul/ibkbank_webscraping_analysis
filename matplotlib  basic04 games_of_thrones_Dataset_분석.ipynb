{
 "cells": [
  {
   "cell_type": "code",
   "execution_count": 4,
   "metadata": {},
   "outputs": [],
   "source": [
    "%matplotlib inline\n",
    "import matplotlib\n",
    "import matplotlib.pyplot as plt\n",
    "import pandas as pd\n",
    "import numpy as np"
   ]
  },
  {
   "cell_type": "code",
   "execution_count": 5,
   "metadata": {},
   "outputs": [],
   "source": [
    "battles = pd.read_csv(\"data/game-of-thrones/battles.csv\",sep=\",\")\n",
    "deaths = pd.read_csv(\"data/game-of-thrones/character-deaths.csv\",sep=\",\")"
   ]
  },
  {
   "cell_type": "code",
   "execution_count": 6,
   "metadata": {},
   "outputs": [
    {
     "data": {
      "text/html": [
       "<div>\n",
       "<style scoped>\n",
       "    .dataframe tbody tr th:only-of-type {\n",
       "        vertical-align: middle;\n",
       "    }\n",
       "\n",
       "    .dataframe tbody tr th {\n",
       "        vertical-align: top;\n",
       "    }\n",
       "\n",
       "    .dataframe thead th {\n",
       "        text-align: right;\n",
       "    }\n",
       "</style>\n",
       "<table border=\"1\" class=\"dataframe\">\n",
       "  <thead>\n",
       "    <tr style=\"text-align: right;\">\n",
       "      <th></th>\n",
       "      <th>name</th>\n",
       "      <th>year</th>\n",
       "      <th>battle_number</th>\n",
       "      <th>attacker_king</th>\n",
       "      <th>defender_king</th>\n",
       "      <th>attacker_1</th>\n",
       "      <th>attacker_2</th>\n",
       "      <th>attacker_3</th>\n",
       "      <th>attacker_4</th>\n",
       "      <th>defender_1</th>\n",
       "      <th>...</th>\n",
       "      <th>major_death</th>\n",
       "      <th>major_capture</th>\n",
       "      <th>attacker_size</th>\n",
       "      <th>defender_size</th>\n",
       "      <th>attacker_commander</th>\n",
       "      <th>defender_commander</th>\n",
       "      <th>summer</th>\n",
       "      <th>location</th>\n",
       "      <th>region</th>\n",
       "      <th>note</th>\n",
       "    </tr>\n",
       "  </thead>\n",
       "  <tbody>\n",
       "    <tr>\n",
       "      <th>0</th>\n",
       "      <td>Battle of the Golden Tooth</td>\n",
       "      <td>298</td>\n",
       "      <td>1</td>\n",
       "      <td>Joffrey/Tommen Baratheon</td>\n",
       "      <td>Robb Stark</td>\n",
       "      <td>Lannister</td>\n",
       "      <td>NaN</td>\n",
       "      <td>NaN</td>\n",
       "      <td>NaN</td>\n",
       "      <td>Tully</td>\n",
       "      <td>...</td>\n",
       "      <td>1.0</td>\n",
       "      <td>0.0</td>\n",
       "      <td>15000.0</td>\n",
       "      <td>4000.0</td>\n",
       "      <td>Jaime Lannister</td>\n",
       "      <td>Clement Piper, Vance</td>\n",
       "      <td>1.0</td>\n",
       "      <td>Golden Tooth</td>\n",
       "      <td>The Westerlands</td>\n",
       "      <td>NaN</td>\n",
       "    </tr>\n",
       "    <tr>\n",
       "      <th>1</th>\n",
       "      <td>Battle at the Mummer's Ford</td>\n",
       "      <td>298</td>\n",
       "      <td>2</td>\n",
       "      <td>Joffrey/Tommen Baratheon</td>\n",
       "      <td>Robb Stark</td>\n",
       "      <td>Lannister</td>\n",
       "      <td>NaN</td>\n",
       "      <td>NaN</td>\n",
       "      <td>NaN</td>\n",
       "      <td>Baratheon</td>\n",
       "      <td>...</td>\n",
       "      <td>1.0</td>\n",
       "      <td>0.0</td>\n",
       "      <td>NaN</td>\n",
       "      <td>120.0</td>\n",
       "      <td>Gregor Clegane</td>\n",
       "      <td>Beric Dondarrion</td>\n",
       "      <td>1.0</td>\n",
       "      <td>Mummer's Ford</td>\n",
       "      <td>The Riverlands</td>\n",
       "      <td>NaN</td>\n",
       "    </tr>\n",
       "    <tr>\n",
       "      <th>2</th>\n",
       "      <td>Battle of Riverrun</td>\n",
       "      <td>298</td>\n",
       "      <td>3</td>\n",
       "      <td>Joffrey/Tommen Baratheon</td>\n",
       "      <td>Robb Stark</td>\n",
       "      <td>Lannister</td>\n",
       "      <td>NaN</td>\n",
       "      <td>NaN</td>\n",
       "      <td>NaN</td>\n",
       "      <td>Tully</td>\n",
       "      <td>...</td>\n",
       "      <td>0.0</td>\n",
       "      <td>1.0</td>\n",
       "      <td>15000.0</td>\n",
       "      <td>10000.0</td>\n",
       "      <td>Jaime Lannister, Andros Brax</td>\n",
       "      <td>Edmure Tully, Tytos Blackwood</td>\n",
       "      <td>1.0</td>\n",
       "      <td>Riverrun</td>\n",
       "      <td>The Riverlands</td>\n",
       "      <td>NaN</td>\n",
       "    </tr>\n",
       "    <tr>\n",
       "      <th>3</th>\n",
       "      <td>Battle of the Green Fork</td>\n",
       "      <td>298</td>\n",
       "      <td>4</td>\n",
       "      <td>Robb Stark</td>\n",
       "      <td>Joffrey/Tommen Baratheon</td>\n",
       "      <td>Stark</td>\n",
       "      <td>NaN</td>\n",
       "      <td>NaN</td>\n",
       "      <td>NaN</td>\n",
       "      <td>Lannister</td>\n",
       "      <td>...</td>\n",
       "      <td>1.0</td>\n",
       "      <td>1.0</td>\n",
       "      <td>18000.0</td>\n",
       "      <td>20000.0</td>\n",
       "      <td>Roose Bolton, Wylis Manderly, Medger Cerwyn, H...</td>\n",
       "      <td>Tywin Lannister, Gregor Clegane, Kevan Lannist...</td>\n",
       "      <td>1.0</td>\n",
       "      <td>Green Fork</td>\n",
       "      <td>The Riverlands</td>\n",
       "      <td>NaN</td>\n",
       "    </tr>\n",
       "    <tr>\n",
       "      <th>4</th>\n",
       "      <td>Battle of the Whispering Wood</td>\n",
       "      <td>298</td>\n",
       "      <td>5</td>\n",
       "      <td>Robb Stark</td>\n",
       "      <td>Joffrey/Tommen Baratheon</td>\n",
       "      <td>Stark</td>\n",
       "      <td>Tully</td>\n",
       "      <td>NaN</td>\n",
       "      <td>NaN</td>\n",
       "      <td>Lannister</td>\n",
       "      <td>...</td>\n",
       "      <td>1.0</td>\n",
       "      <td>1.0</td>\n",
       "      <td>1875.0</td>\n",
       "      <td>6000.0</td>\n",
       "      <td>Robb Stark, Brynden Tully</td>\n",
       "      <td>Jaime Lannister</td>\n",
       "      <td>1.0</td>\n",
       "      <td>Whispering Wood</td>\n",
       "      <td>The Riverlands</td>\n",
       "      <td>NaN</td>\n",
       "    </tr>\n",
       "  </tbody>\n",
       "</table>\n",
       "<p>5 rows × 25 columns</p>\n",
       "</div>"
      ],
      "text/plain": [
       "                            name  year  battle_number  \\\n",
       "0     Battle of the Golden Tooth   298              1   \n",
       "1    Battle at the Mummer's Ford   298              2   \n",
       "2             Battle of Riverrun   298              3   \n",
       "3       Battle of the Green Fork   298              4   \n",
       "4  Battle of the Whispering Wood   298              5   \n",
       "\n",
       "              attacker_king             defender_king attacker_1 attacker_2  \\\n",
       "0  Joffrey/Tommen Baratheon                Robb Stark  Lannister        NaN   \n",
       "1  Joffrey/Tommen Baratheon                Robb Stark  Lannister        NaN   \n",
       "2  Joffrey/Tommen Baratheon                Robb Stark  Lannister        NaN   \n",
       "3                Robb Stark  Joffrey/Tommen Baratheon      Stark        NaN   \n",
       "4                Robb Stark  Joffrey/Tommen Baratheon      Stark      Tully   \n",
       "\n",
       "  attacker_3 attacker_4 defender_1  ... major_death  major_capture  \\\n",
       "0        NaN        NaN      Tully  ...         1.0            0.0   \n",
       "1        NaN        NaN  Baratheon  ...         1.0            0.0   \n",
       "2        NaN        NaN      Tully  ...         0.0            1.0   \n",
       "3        NaN        NaN  Lannister  ...         1.0            1.0   \n",
       "4        NaN        NaN  Lannister  ...         1.0            1.0   \n",
       "\n",
       "   attacker_size defender_size  \\\n",
       "0        15000.0        4000.0   \n",
       "1            NaN         120.0   \n",
       "2        15000.0       10000.0   \n",
       "3        18000.0       20000.0   \n",
       "4         1875.0        6000.0   \n",
       "\n",
       "                                  attacker_commander  \\\n",
       "0                                    Jaime Lannister   \n",
       "1                                     Gregor Clegane   \n",
       "2                       Jaime Lannister, Andros Brax   \n",
       "3  Roose Bolton, Wylis Manderly, Medger Cerwyn, H...   \n",
       "4                          Robb Stark, Brynden Tully   \n",
       "\n",
       "                                  defender_commander  summer         location  \\\n",
       "0                               Clement Piper, Vance     1.0     Golden Tooth   \n",
       "1                                   Beric Dondarrion     1.0    Mummer's Ford   \n",
       "2                      Edmure Tully, Tytos Blackwood     1.0         Riverrun   \n",
       "3  Tywin Lannister, Gregor Clegane, Kevan Lannist...     1.0       Green Fork   \n",
       "4                                    Jaime Lannister     1.0  Whispering Wood   \n",
       "\n",
       "            region note  \n",
       "0  The Westerlands  NaN  \n",
       "1   The Riverlands  NaN  \n",
       "2   The Riverlands  NaN  \n",
       "3   The Riverlands  NaN  \n",
       "4   The Riverlands  NaN  \n",
       "\n",
       "[5 rows x 25 columns]"
      ]
     },
     "execution_count": 6,
     "metadata": {},
     "output_type": "execute_result"
    }
   ],
   "source": [
    "battles.head()"
   ]
  },
  {
   "cell_type": "code",
   "execution_count": 7,
   "metadata": {},
   "outputs": [
    {
     "data": {
      "text/plain": [
       "Index(['name', 'year', 'battle_number', 'attacker_king', 'defender_king',\n",
       "       'attacker_1', 'attacker_2', 'attacker_3', 'attacker_4', 'defender_1',\n",
       "       'defender_2', 'defender_3', 'defender_4', 'attacker_outcome',\n",
       "       'battle_type', 'major_death', 'major_capture', 'attacker_size',\n",
       "       'defender_size', 'attacker_commander', 'defender_commander', 'summer',\n",
       "       'location', 'region', 'note'],\n",
       "      dtype='object')"
      ]
     },
     "execution_count": 7,
     "metadata": {},
     "output_type": "execute_result"
    }
   ],
   "source": [
    "battles.columns"
   ]
  },
  {
   "cell_type": "code",
   "execution_count": 8,
   "metadata": {},
   "outputs": [
    {
     "data": {
      "text/plain": [
       "array([298, 299, 300], dtype=int64)"
      ]
     },
     "execution_count": 8,
     "metadata": {},
     "output_type": "execute_result"
    }
   ],
   "source": [
    "battles['year'].unique()"
   ]
  },
  {
   "cell_type": "code",
   "execution_count": 9,
   "metadata": {},
   "outputs": [
    {
     "data": {
      "text/plain": [
       "Index(['Name', 'Allegiances', 'Death Year', 'Book of Death', 'Death Chapter',\n",
       "       'Book Intro Chapter', 'Gender', 'Nobility', 'GoT', 'CoK', 'SoS', 'FfC',\n",
       "       'DwD'],\n",
       "      dtype='object')"
      ]
     },
     "execution_count": 9,
     "metadata": {},
     "output_type": "execute_result"
    }
   ],
   "source": [
    "deaths.columns"
   ]
  },
  {
   "cell_type": "code",
   "execution_count": 10,
   "metadata": {},
   "outputs": [
    {
     "data": {
      "text/html": [
       "<div>\n",
       "<style scoped>\n",
       "    .dataframe tbody tr th:only-of-type {\n",
       "        vertical-align: middle;\n",
       "    }\n",
       "\n",
       "    .dataframe tbody tr th {\n",
       "        vertical-align: top;\n",
       "    }\n",
       "\n",
       "    .dataframe thead th {\n",
       "        text-align: right;\n",
       "    }\n",
       "</style>\n",
       "<table border=\"1\" class=\"dataframe\">\n",
       "  <thead>\n",
       "    <tr style=\"text-align: right;\">\n",
       "      <th></th>\n",
       "      <th>Name</th>\n",
       "      <th>Allegiances</th>\n",
       "      <th>Death Year</th>\n",
       "      <th>Book of Death</th>\n",
       "      <th>Death Chapter</th>\n",
       "      <th>Book Intro Chapter</th>\n",
       "      <th>Gender</th>\n",
       "      <th>Nobility</th>\n",
       "      <th>GoT</th>\n",
       "      <th>CoK</th>\n",
       "      <th>SoS</th>\n",
       "      <th>FfC</th>\n",
       "      <th>DwD</th>\n",
       "    </tr>\n",
       "  </thead>\n",
       "  <tbody>\n",
       "    <tr>\n",
       "      <th>0</th>\n",
       "      <td>Addam Marbrand</td>\n",
       "      <td>Lannister</td>\n",
       "      <td>NaN</td>\n",
       "      <td>NaN</td>\n",
       "      <td>NaN</td>\n",
       "      <td>56.0</td>\n",
       "      <td>1</td>\n",
       "      <td>1</td>\n",
       "      <td>1</td>\n",
       "      <td>1</td>\n",
       "      <td>1</td>\n",
       "      <td>1</td>\n",
       "      <td>0</td>\n",
       "    </tr>\n",
       "    <tr>\n",
       "      <th>1</th>\n",
       "      <td>Aegon Frey (Jinglebell)</td>\n",
       "      <td>None</td>\n",
       "      <td>299.0</td>\n",
       "      <td>3.0</td>\n",
       "      <td>51.0</td>\n",
       "      <td>49.0</td>\n",
       "      <td>1</td>\n",
       "      <td>1</td>\n",
       "      <td>0</td>\n",
       "      <td>0</td>\n",
       "      <td>1</td>\n",
       "      <td>0</td>\n",
       "      <td>0</td>\n",
       "    </tr>\n",
       "    <tr>\n",
       "      <th>2</th>\n",
       "      <td>Aegon Targaryen</td>\n",
       "      <td>House Targaryen</td>\n",
       "      <td>NaN</td>\n",
       "      <td>NaN</td>\n",
       "      <td>NaN</td>\n",
       "      <td>5.0</td>\n",
       "      <td>1</td>\n",
       "      <td>1</td>\n",
       "      <td>0</td>\n",
       "      <td>0</td>\n",
       "      <td>0</td>\n",
       "      <td>0</td>\n",
       "      <td>1</td>\n",
       "    </tr>\n",
       "    <tr>\n",
       "      <th>3</th>\n",
       "      <td>Adrack Humble</td>\n",
       "      <td>House Greyjoy</td>\n",
       "      <td>300.0</td>\n",
       "      <td>5.0</td>\n",
       "      <td>20.0</td>\n",
       "      <td>20.0</td>\n",
       "      <td>1</td>\n",
       "      <td>1</td>\n",
       "      <td>0</td>\n",
       "      <td>0</td>\n",
       "      <td>0</td>\n",
       "      <td>0</td>\n",
       "      <td>1</td>\n",
       "    </tr>\n",
       "    <tr>\n",
       "      <th>4</th>\n",
       "      <td>Aemon Costayne</td>\n",
       "      <td>Lannister</td>\n",
       "      <td>NaN</td>\n",
       "      <td>NaN</td>\n",
       "      <td>NaN</td>\n",
       "      <td>NaN</td>\n",
       "      <td>1</td>\n",
       "      <td>1</td>\n",
       "      <td>0</td>\n",
       "      <td>0</td>\n",
       "      <td>1</td>\n",
       "      <td>0</td>\n",
       "      <td>0</td>\n",
       "    </tr>\n",
       "  </tbody>\n",
       "</table>\n",
       "</div>"
      ],
      "text/plain": [
       "                      Name      Allegiances  Death Year  Book of Death  \\\n",
       "0           Addam Marbrand        Lannister         NaN            NaN   \n",
       "1  Aegon Frey (Jinglebell)             None       299.0            3.0   \n",
       "2          Aegon Targaryen  House Targaryen         NaN            NaN   \n",
       "3            Adrack Humble    House Greyjoy       300.0            5.0   \n",
       "4           Aemon Costayne        Lannister         NaN            NaN   \n",
       "\n",
       "   Death Chapter  Book Intro Chapter  Gender  Nobility  GoT  CoK  SoS  FfC  \\\n",
       "0            NaN                56.0       1         1    1    1    1    1   \n",
       "1           51.0                49.0       1         1    0    0    1    0   \n",
       "2            NaN                 5.0       1         1    0    0    0    0   \n",
       "3           20.0                20.0       1         1    0    0    0    0   \n",
       "4            NaN                 NaN       1         1    0    0    1    0   \n",
       "\n",
       "   DwD  \n",
       "0    0  \n",
       "1    0  \n",
       "2    1  \n",
       "3    1  \n",
       "4    0  "
      ]
     },
     "execution_count": 10,
     "metadata": {},
     "output_type": "execute_result"
    }
   ],
   "source": [
    "deaths.head()"
   ]
  },
  {
   "cell_type": "markdown",
   "metadata": {},
   "source": [
    "### 작품번호에 따른 인물들의 죽음 횟수 시각화하기"
   ]
  },
  {
   "cell_type": "code",
   "execution_count": 11,
   "metadata": {},
   "outputs": [
    {
     "data": {
      "text/plain": [
       "array([nan,  3.,  5.,  4.,  2.,  1.])"
      ]
     },
     "execution_count": 11,
     "metadata": {},
     "output_type": "execute_result"
    }
   ],
   "source": [
    "deaths['Book of Death'].unique()"
   ]
  },
  {
   "cell_type": "code",
   "execution_count": 12,
   "metadata": {},
   "outputs": [],
   "source": [
    "book_nums_to_death_count = deaths[\"Book of Death\"].value_counts().sort_index()"
   ]
  },
  {
   "cell_type": "code",
   "execution_count": 13,
   "metadata": {},
   "outputs": [
    {
     "data": {
      "text/plain": [
       "1.0    49\n",
       "2.0    73\n",
       "3.0    97\n",
       "4.0    27\n",
       "5.0    61\n",
       "Name: Book of Death, dtype: int64"
      ]
     },
     "execution_count": 13,
     "metadata": {},
     "output_type": "execute_result"
    }
   ],
   "source": [
    "book_nums_to_death_count"
   ]
  },
  {
   "cell_type": "code",
   "execution_count": 14,
   "metadata": {},
   "outputs": [
    {
     "data": {
      "text/plain": [
       "pandas.core.series.Series"
      ]
     },
     "execution_count": 14,
     "metadata": {},
     "output_type": "execute_result"
    }
   ],
   "source": [
    "type(book_nums_to_death_count)"
   ]
  },
  {
   "cell_type": "code",
   "execution_count": 15,
   "metadata": {},
   "outputs": [
    {
     "data": {
      "text/plain": [
       "(0.0, 120.0)"
      ]
     },
     "execution_count": 15,
     "metadata": {},
     "output_type": "execute_result"
    },
    {
     "data": {
      "image/png": "[encoded data removed]",
      "text/plain": [
       "<Figure size 432x288 with 1 Axes>"
      ]
     },
     "metadata": {
      "needs_background": "light"
     },
     "output_type": "display_data"
    }
   ],
   "source": [
    "plt.figure()\n",
    "# ax1 = book_nums_to_death_count.plot(color=\"k\", marker=\"o\", linestyle=\"--\")\n",
    "# ax1.set_xticks(np.arange(1, 6),[\"1Vol\",\"2Vol\",\"3Vol\",\"4Vol\",\"5Vol\"])\n",
    "# ax1.set_xlim([0, 6])\n",
    "# ax1.set_ylim([0, 120])\n",
    "\n",
    "plt.plot(book_nums_to_death_count,color=\"k\", marker=\"o\", linestyle=\"--\")\n",
    "plt.xticks(np.arange(1, 6),[\"1Vol\",\"2Vol\",\"3Vol\",\"4Vol\",\"5Vol\"])\n",
    "plt.xlabel(\"Number of Book\")\n",
    "plt.ylabel('Number of characters')\n",
    "plt.title('Number of deaths of characters according to Book number')\n",
    "plt.xlim([0, 6])\n",
    "plt.ylim([0, 120])\n",
    "#plt.tight_layout()"
   ]
  },
  {
   "cell_type": "code",
   "execution_count": 16,
   "metadata": {},
   "outputs": [
    {
     "data": {
      "text/html": [
       "<div>\n",
       "<style scoped>\n",
       "    .dataframe tbody tr th:only-of-type {\n",
       "        vertical-align: middle;\n",
       "    }\n",
       "\n",
       "    .dataframe tbody tr th {\n",
       "        vertical-align: top;\n",
       "    }\n",
       "\n",
       "    .dataframe thead th {\n",
       "        text-align: right;\n",
       "    }\n",
       "</style>\n",
       "<table border=\"1\" class=\"dataframe\">\n",
       "  <thead>\n",
       "    <tr style=\"text-align: right;\">\n",
       "      <th></th>\n",
       "      <th>name</th>\n",
       "      <th>year</th>\n",
       "      <th>battle_number</th>\n",
       "      <th>attacker_king</th>\n",
       "      <th>defender_king</th>\n",
       "      <th>attacker_1</th>\n",
       "      <th>attacker_2</th>\n",
       "      <th>attacker_3</th>\n",
       "      <th>attacker_4</th>\n",
       "      <th>defender_1</th>\n",
       "      <th>...</th>\n",
       "      <th>major_death</th>\n",
       "      <th>major_capture</th>\n",
       "      <th>attacker_size</th>\n",
       "      <th>defender_size</th>\n",
       "      <th>attacker_commander</th>\n",
       "      <th>defender_commander</th>\n",
       "      <th>summer</th>\n",
       "      <th>location</th>\n",
       "      <th>region</th>\n",
       "      <th>note</th>\n",
       "    </tr>\n",
       "  </thead>\n",
       "  <tbody>\n",
       "    <tr>\n",
       "      <th>0</th>\n",
       "      <td>Battle of the Golden Tooth</td>\n",
       "      <td>298</td>\n",
       "      <td>1</td>\n",
       "      <td>Joffrey/Tommen Baratheon</td>\n",
       "      <td>Robb Stark</td>\n",
       "      <td>Lannister</td>\n",
       "      <td>NaN</td>\n",
       "      <td>NaN</td>\n",
       "      <td>NaN</td>\n",
       "      <td>Tully</td>\n",
       "      <td>...</td>\n",
       "      <td>1.0</td>\n",
       "      <td>0.0</td>\n",
       "      <td>15000.0</td>\n",
       "      <td>4000.0</td>\n",
       "      <td>Jaime Lannister</td>\n",
       "      <td>Clement Piper, Vance</td>\n",
       "      <td>1.0</td>\n",
       "      <td>Golden Tooth</td>\n",
       "      <td>The Westerlands</td>\n",
       "      <td>NaN</td>\n",
       "    </tr>\n",
       "    <tr>\n",
       "      <th>1</th>\n",
       "      <td>Battle at the Mummer's Ford</td>\n",
       "      <td>298</td>\n",
       "      <td>2</td>\n",
       "      <td>Joffrey/Tommen Baratheon</td>\n",
       "      <td>Robb Stark</td>\n",
       "      <td>Lannister</td>\n",
       "      <td>NaN</td>\n",
       "      <td>NaN</td>\n",
       "      <td>NaN</td>\n",
       "      <td>Baratheon</td>\n",
       "      <td>...</td>\n",
       "      <td>1.0</td>\n",
       "      <td>0.0</td>\n",
       "      <td>NaN</td>\n",
       "      <td>120.0</td>\n",
       "      <td>Gregor Clegane</td>\n",
       "      <td>Beric Dondarrion</td>\n",
       "      <td>1.0</td>\n",
       "      <td>Mummer's Ford</td>\n",
       "      <td>The Riverlands</td>\n",
       "      <td>NaN</td>\n",
       "    </tr>\n",
       "    <tr>\n",
       "      <th>2</th>\n",
       "      <td>Battle of Riverrun</td>\n",
       "      <td>298</td>\n",
       "      <td>3</td>\n",
       "      <td>Joffrey/Tommen Baratheon</td>\n",
       "      <td>Robb Stark</td>\n",
       "      <td>Lannister</td>\n",
       "      <td>NaN</td>\n",
       "      <td>NaN</td>\n",
       "      <td>NaN</td>\n",
       "      <td>Tully</td>\n",
       "      <td>...</td>\n",
       "      <td>0.0</td>\n",
       "      <td>1.0</td>\n",
       "      <td>15000.0</td>\n",
       "      <td>10000.0</td>\n",
       "      <td>Jaime Lannister, Andros Brax</td>\n",
       "      <td>Edmure Tully, Tytos Blackwood</td>\n",
       "      <td>1.0</td>\n",
       "      <td>Riverrun</td>\n",
       "      <td>The Riverlands</td>\n",
       "      <td>NaN</td>\n",
       "    </tr>\n",
       "    <tr>\n",
       "      <th>3</th>\n",
       "      <td>Battle of the Green Fork</td>\n",
       "      <td>298</td>\n",
       "      <td>4</td>\n",
       "      <td>Robb Stark</td>\n",
       "      <td>Joffrey/Tommen Baratheon</td>\n",
       "      <td>Stark</td>\n",
       "      <td>NaN</td>\n",
       "      <td>NaN</td>\n",
       "      <td>NaN</td>\n",
       "      <td>Lannister</td>\n",
       "      <td>...</td>\n",
       "      <td>1.0</td>\n",
       "      <td>1.0</td>\n",
       "      <td>18000.0</td>\n",
       "      <td>20000.0</td>\n",
       "      <td>Roose Bolton, Wylis Manderly, Medger Cerwyn, H...</td>\n",
       "      <td>Tywin Lannister, Gregor Clegane, Kevan Lannist...</td>\n",
       "      <td>1.0</td>\n",
       "      <td>Green Fork</td>\n",
       "      <td>The Riverlands</td>\n",
       "      <td>NaN</td>\n",
       "    </tr>\n",
       "    <tr>\n",
       "      <th>4</th>\n",
       "      <td>Battle of the Whispering Wood</td>\n",
       "      <td>298</td>\n",
       "      <td>5</td>\n",
       "      <td>Robb Stark</td>\n",
       "      <td>Joffrey/Tommen Baratheon</td>\n",
       "      <td>Stark</td>\n",
       "      <td>Tully</td>\n",
       "      <td>NaN</td>\n",
       "      <td>NaN</td>\n",
       "      <td>Lannister</td>\n",
       "      <td>...</td>\n",
       "      <td>1.0</td>\n",
       "      <td>1.0</td>\n",
       "      <td>1875.0</td>\n",
       "      <td>6000.0</td>\n",
       "      <td>Robb Stark, Brynden Tully</td>\n",
       "      <td>Jaime Lannister</td>\n",
       "      <td>1.0</td>\n",
       "      <td>Whispering Wood</td>\n",
       "      <td>The Riverlands</td>\n",
       "      <td>NaN</td>\n",
       "    </tr>\n",
       "  </tbody>\n",
       "</table>\n",
       "<p>5 rows × 25 columns</p>\n",
       "</div>"
      ],
      "text/plain": [
       "                            name  year  battle_number  \\\n",
       "0     Battle of the Golden Tooth   298              1   \n",
       "1    Battle at the Mummer's Ford   298              2   \n",
       "2             Battle of Riverrun   298              3   \n",
       "3       Battle of the Green Fork   298              4   \n",
       "4  Battle of the Whispering Wood   298              5   \n",
       "\n",
       "              attacker_king             defender_king attacker_1 attacker_2  \\\n",
       "0  Joffrey/Tommen Baratheon                Robb Stark  Lannister        NaN   \n",
       "1  Joffrey/Tommen Baratheon                Robb Stark  Lannister        NaN   \n",
       "2  Joffrey/Tommen Baratheon                Robb Stark  Lannister        NaN   \n",
       "3                Robb Stark  Joffrey/Tommen Baratheon      Stark        NaN   \n",
       "4                Robb Stark  Joffrey/Tommen Baratheon      Stark      Tully   \n",
       "\n",
       "  attacker_3 attacker_4 defender_1  ... major_death  major_capture  \\\n",
       "0        NaN        NaN      Tully  ...         1.0            0.0   \n",
       "1        NaN        NaN  Baratheon  ...         1.0            0.0   \n",
       "2        NaN        NaN      Tully  ...         0.0            1.0   \n",
       "3        NaN        NaN  Lannister  ...         1.0            1.0   \n",
       "4        NaN        NaN  Lannister  ...         1.0            1.0   \n",
       "\n",
       "   attacker_size defender_size  \\\n",
       "0        15000.0        4000.0   \n",
       "1            NaN         120.0   \n",
       "2        15000.0       10000.0   \n",
       "3        18000.0       20000.0   \n",
       "4         1875.0        6000.0   \n",
       "\n",
       "                                  attacker_commander  \\\n",
       "0                                    Jaime Lannister   \n",
       "1                                     Gregor Clegane   \n",
       "2                       Jaime Lannister, Andros Brax   \n",
       "3  Roose Bolton, Wylis Manderly, Medger Cerwyn, H...   \n",
       "4                          Robb Stark, Brynden Tully   \n",
       "\n",
       "                                  defender_commander  summer         location  \\\n",
       "0                               Clement Piper, Vance     1.0     Golden Tooth   \n",
       "1                                   Beric Dondarrion     1.0    Mummer's Ford   \n",
       "2                      Edmure Tully, Tytos Blackwood     1.0         Riverrun   \n",
       "3  Tywin Lannister, Gregor Clegane, Kevan Lannist...     1.0       Green Fork   \n",
       "4                                    Jaime Lannister     1.0  Whispering Wood   \n",
       "\n",
       "            region note  \n",
       "0  The Westerlands  NaN  \n",
       "1   The Riverlands  NaN  \n",
       "2   The Riverlands  NaN  \n",
       "3   The Riverlands  NaN  \n",
       "4   The Riverlands  NaN  \n",
       "\n",
       "[5 rows x 25 columns]"
      ]
     },
     "execution_count": 16,
     "metadata": {},
     "output_type": "execute_result"
    }
   ],
   "source": [
    "battles.head()"
   ]
  },
  {
   "cell_type": "code",
   "execution_count": 17,
   "metadata": {},
   "outputs": [
    {
     "data": {
      "text/plain": [
       "Index(['name', 'year', 'battle_number', 'attacker_king', 'defender_king',\n",
       "       'attacker_1', 'attacker_2', 'attacker_3', 'attacker_4', 'defender_1',\n",
       "       'defender_2', 'defender_3', 'defender_4', 'attacker_outcome',\n",
       "       'battle_type', 'major_death', 'major_capture', 'attacker_size',\n",
       "       'defender_size', 'attacker_commander', 'defender_commander', 'summer',\n",
       "       'location', 'region', 'note'],\n",
       "      dtype='object')"
      ]
     },
     "execution_count": 17,
     "metadata": {},
     "output_type": "execute_result"
    }
   ],
   "source": [
    "battles.columns"
   ]
  },
  {
   "cell_type": "markdown",
   "metadata": {},
   "source": [
    "## 대규모 전투 상에서 공격군과 수비군 간의 병력 차이 시각화하기"
   ]
  },
  {
   "cell_type": "code",
   "execution_count": 18,
   "metadata": {},
   "outputs": [],
   "source": [
    "#name 컬럼을 인덱스로 설정함\n",
    "battles = battles.set_index([\"name\"])"
   ]
  },
  {
   "cell_type": "code",
   "execution_count": 19,
   "metadata": {},
   "outputs": [],
   "source": [
    "large_battles_mask = battles[\"attacker_size\"] + battles[\"defender_size\"] > 10000\n",
    "large_battles = battles.loc[large_battles_mask,[\"attacker_size\", \"defender_size\"]]"
   ]
  },
  {
   "cell_type": "code",
   "execution_count": 20,
   "metadata": {},
   "outputs": [
    {
     "data": {
      "text/plain": [
       "name\n",
       "Battle of the Golden Tooth        True\n",
       "Battle at the Mummer's Ford      False\n",
       "Battle of Riverrun                True\n",
       "Battle of the Green Fork          True\n",
       "Battle of the Whispering Wood    False\n",
       "dtype: bool"
      ]
     },
     "execution_count": 20,
     "metadata": {},
     "output_type": "execute_result"
    }
   ],
   "source": [
    "large_battles_mask.head()"
   ]
  },
  {
   "cell_type": "code",
   "execution_count": 21,
   "metadata": {},
   "outputs": [
    {
     "data": {
      "text/html": [
       "<div>\n",
       "<style scoped>\n",
       "    .dataframe tbody tr th:only-of-type {\n",
       "        vertical-align: middle;\n",
       "    }\n",
       "\n",
       "    .dataframe tbody tr th {\n",
       "        vertical-align: top;\n",
       "    }\n",
       "\n",
       "    .dataframe thead th {\n",
       "        text-align: right;\n",
       "    }\n",
       "</style>\n",
       "<table border=\"1\" class=\"dataframe\">\n",
       "  <thead>\n",
       "    <tr style=\"text-align: right;\">\n",
       "      <th></th>\n",
       "      <th>attacker_size</th>\n",
       "      <th>defender_size</th>\n",
       "    </tr>\n",
       "    <tr>\n",
       "      <th>name</th>\n",
       "      <th></th>\n",
       "      <th></th>\n",
       "    </tr>\n",
       "  </thead>\n",
       "  <tbody>\n",
       "    <tr>\n",
       "      <th>Battle of the Golden Tooth</th>\n",
       "      <td>15000.0</td>\n",
       "      <td>4000.0</td>\n",
       "    </tr>\n",
       "    <tr>\n",
       "      <th>Battle of Riverrun</th>\n",
       "      <td>15000.0</td>\n",
       "      <td>10000.0</td>\n",
       "    </tr>\n",
       "    <tr>\n",
       "      <th>Battle of the Green Fork</th>\n",
       "      <td>18000.0</td>\n",
       "      <td>20000.0</td>\n",
       "    </tr>\n",
       "    <tr>\n",
       "      <th>Battle of the Camps</th>\n",
       "      <td>6000.0</td>\n",
       "      <td>12625.0</td>\n",
       "    </tr>\n",
       "    <tr>\n",
       "      <th>Battle of Oxcross</th>\n",
       "      <td>6000.0</td>\n",
       "      <td>10000.0</td>\n",
       "    </tr>\n",
       "    <tr>\n",
       "      <th>Siege of Storm's End</th>\n",
       "      <td>5000.0</td>\n",
       "      <td>20000.0</td>\n",
       "    </tr>\n",
       "    <tr>\n",
       "      <th>Battle of the Fords</th>\n",
       "      <td>20000.0</td>\n",
       "      <td>10000.0</td>\n",
       "    </tr>\n",
       "    <tr>\n",
       "      <th>Battle of the Blackwater</th>\n",
       "      <td>21000.0</td>\n",
       "      <td>7250.0</td>\n",
       "    </tr>\n",
       "    <tr>\n",
       "      <th>Battle of Castle Black</th>\n",
       "      <td>100000.0</td>\n",
       "      <td>1240.0</td>\n",
       "    </tr>\n",
       "    <tr>\n",
       "      <th>Siege of Winterfell</th>\n",
       "      <td>5000.0</td>\n",
       "      <td>8000.0</td>\n",
       "    </tr>\n",
       "  </tbody>\n",
       "</table>\n",
       "</div>"
      ],
      "text/plain": [
       "                            attacker_size  defender_size\n",
       "name                                                    \n",
       "Battle of the Golden Tooth        15000.0         4000.0\n",
       "Battle of Riverrun                15000.0        10000.0\n",
       "Battle of the Green Fork          18000.0        20000.0\n",
       "Battle of the Camps                6000.0        12625.0\n",
       "Battle of Oxcross                  6000.0        10000.0\n",
       "Siege of Storm's End               5000.0        20000.0\n",
       "Battle of the Fords               20000.0        10000.0\n",
       "Battle of the Blackwater          21000.0         7250.0\n",
       "Battle of Castle Black           100000.0         1240.0\n",
       "Siege of Winterfell                5000.0         8000.0"
      ]
     },
     "execution_count": 21,
     "metadata": {},
     "output_type": "execute_result"
    }
   ],
   "source": [
    "large_battles"
   ]
  },
  {
   "cell_type": "code",
   "execution_count": 22,
   "metadata": {},
   "outputs": [
    {
     "data": {
      "text/plain": [
       "pandas.core.frame.DataFrame"
      ]
     },
     "execution_count": 22,
     "metadata": {},
     "output_type": "execute_result"
    }
   ],
   "source": [
    "type(large_battles)"
   ]
  },
  {
   "cell_type": "code",
   "execution_count": 23,
   "metadata": {},
   "outputs": [
    {
     "data": {
      "image/png": "[encoded data removed]",
      "text/plain": [
       "<Figure size 432x288 with 1 Axes>"
      ]
     },
     "metadata": {
      "needs_background": "light"
     },
     "output_type": "display_data"
    }
   ],
   "source": [
    "#fig = plt.figure(figsize=(20,20))\n",
    "ax2 = large_battles.plot(kind=\"barh\", stacked=True, fontsize=7, alpha=0.5)"
   ]
  },
  {
   "cell_type": "code",
   "execution_count": 24,
   "metadata": {},
   "outputs": [],
   "source": [
    "#fig = plt.figure()\n",
    "large_battles[\"attacker_pcts\"] = large_battles[\"attacker_size\"] / (large_battles[\"attacker_size\"] + large_battles[\"defender_size\"])\n",
    "large_battles[\"defender_pcts\"] = large_battles[\"defender_size\"] / (large_battles[\"attacker_size\"] + large_battles[\"defender_size\"])"
   ]
  },
  {
   "cell_type": "code",
   "execution_count": 25,
   "metadata": {},
   "outputs": [
    {
     "data": {
      "text/html": [
       "<div>\n",
       "<style scoped>\n",
       "    .dataframe tbody tr th:only-of-type {\n",
       "        vertical-align: middle;\n",
       "    }\n",
       "\n",
       "    .dataframe tbody tr th {\n",
       "        vertical-align: top;\n",
       "    }\n",
       "\n",
       "    .dataframe thead th {\n",
       "        text-align: right;\n",
       "    }\n",
       "</style>\n",
       "<table border=\"1\" class=\"dataframe\">\n",
       "  <thead>\n",
       "    <tr style=\"text-align: right;\">\n",
       "      <th></th>\n",
       "      <th>attacker_size</th>\n",
       "      <th>defender_size</th>\n",
       "      <th>attacker_pcts</th>\n",
       "      <th>defender_pcts</th>\n",
       "    </tr>\n",
       "    <tr>\n",
       "      <th>name</th>\n",
       "      <th></th>\n",
       "      <th></th>\n",
       "      <th></th>\n",
       "      <th></th>\n",
       "    </tr>\n",
       "  </thead>\n",
       "  <tbody>\n",
       "    <tr>\n",
       "      <th>Battle of the Golden Tooth</th>\n",
       "      <td>15000.0</td>\n",
       "      <td>4000.0</td>\n",
       "      <td>0.789474</td>\n",
       "      <td>0.210526</td>\n",
       "    </tr>\n",
       "    <tr>\n",
       "      <th>Battle of Riverrun</th>\n",
       "      <td>15000.0</td>\n",
       "      <td>10000.0</td>\n",
       "      <td>0.600000</td>\n",
       "      <td>0.400000</td>\n",
       "    </tr>\n",
       "    <tr>\n",
       "      <th>Battle of the Green Fork</th>\n",
       "      <td>18000.0</td>\n",
       "      <td>20000.0</td>\n",
       "      <td>0.473684</td>\n",
       "      <td>0.526316</td>\n",
       "    </tr>\n",
       "    <tr>\n",
       "      <th>Battle of the Camps</th>\n",
       "      <td>6000.0</td>\n",
       "      <td>12625.0</td>\n",
       "      <td>0.322148</td>\n",
       "      <td>0.677852</td>\n",
       "    </tr>\n",
       "    <tr>\n",
       "      <th>Battle of Oxcross</th>\n",
       "      <td>6000.0</td>\n",
       "      <td>10000.0</td>\n",
       "      <td>0.375000</td>\n",
       "      <td>0.625000</td>\n",
       "    </tr>\n",
       "    <tr>\n",
       "      <th>Siege of Storm's End</th>\n",
       "      <td>5000.0</td>\n",
       "      <td>20000.0</td>\n",
       "      <td>0.200000</td>\n",
       "      <td>0.800000</td>\n",
       "    </tr>\n",
       "    <tr>\n",
       "      <th>Battle of the Fords</th>\n",
       "      <td>20000.0</td>\n",
       "      <td>10000.0</td>\n",
       "      <td>0.666667</td>\n",
       "      <td>0.333333</td>\n",
       "    </tr>\n",
       "    <tr>\n",
       "      <th>Battle of the Blackwater</th>\n",
       "      <td>21000.0</td>\n",
       "      <td>7250.0</td>\n",
       "      <td>0.743363</td>\n",
       "      <td>0.256637</td>\n",
       "    </tr>\n",
       "    <tr>\n",
       "      <th>Battle of Castle Black</th>\n",
       "      <td>100000.0</td>\n",
       "      <td>1240.0</td>\n",
       "      <td>0.987752</td>\n",
       "      <td>0.012248</td>\n",
       "    </tr>\n",
       "    <tr>\n",
       "      <th>Siege of Winterfell</th>\n",
       "      <td>5000.0</td>\n",
       "      <td>8000.0</td>\n",
       "      <td>0.384615</td>\n",
       "      <td>0.615385</td>\n",
       "    </tr>\n",
       "  </tbody>\n",
       "</table>\n",
       "</div>"
      ],
      "text/plain": [
       "                            attacker_size  defender_size  attacker_pcts  \\\n",
       "name                                                                      \n",
       "Battle of the Golden Tooth        15000.0         4000.0       0.789474   \n",
       "Battle of Riverrun                15000.0        10000.0       0.600000   \n",
       "Battle of the Green Fork          18000.0        20000.0       0.473684   \n",
       "Battle of the Camps                6000.0        12625.0       0.322148   \n",
       "Battle of Oxcross                  6000.0        10000.0       0.375000   \n",
       "Siege of Storm's End               5000.0        20000.0       0.200000   \n",
       "Battle of the Fords               20000.0        10000.0       0.666667   \n",
       "Battle of the Blackwater          21000.0         7250.0       0.743363   \n",
       "Battle of Castle Black           100000.0         1240.0       0.987752   \n",
       "Siege of Winterfell                5000.0         8000.0       0.384615   \n",
       "\n",
       "                            defender_pcts  \n",
       "name                                       \n",
       "Battle of the Golden Tooth       0.210526  \n",
       "Battle of Riverrun               0.400000  \n",
       "Battle of the Green Fork         0.526316  \n",
       "Battle of the Camps              0.677852  \n",
       "Battle of Oxcross                0.625000  \n",
       "Siege of Storm's End             0.800000  \n",
       "Battle of the Fords              0.333333  \n",
       "Battle of the Blackwater         0.256637  \n",
       "Battle of Castle Black           0.012248  \n",
       "Siege of Winterfell              0.615385  "
      ]
     },
     "execution_count": 25,
     "metadata": {},
     "output_type": "execute_result"
    }
   ],
   "source": [
    "large_battles"
   ]
  },
  {
   "cell_type": "code",
   "execution_count": 26,
   "metadata": {},
   "outputs": [
    {
     "data": {
      "text/plain": [
       "<Figure size 2160x2160 with 0 Axes>"
      ]
     },
     "metadata": {},
     "output_type": "display_data"
    },
    {
     "data": {
      "image/png": "[encoded data removed]",
      "text/plain": [
       "<Figure size 432x288 with 1 Axes>"
      ]
     },
     "metadata": {
      "needs_background": "light"
     },
     "output_type": "display_data"
    }
   ],
   "source": [
    "plt.figure(figsize=(30,30))\n",
    "#plt.plot(large_battles[[\"attacker_pcts\", \"defender_pcts\"]],kind=\"barh\", stacked=True, fontsize=7,alpha=0.5)\n",
    "ax3 = large_battles[[\"attacker_pcts\", \"defender_pcts\"]].plot(kind=\"barh\", stacked=True,alpha=0.5)\n"
   ]
  },
  {
   "cell_type": "code",
   "execution_count": 27,
   "metadata": {},
   "outputs": [
    {
     "data": {
      "text/html": [
       "<div>\n",
       "<style scoped>\n",
       "    .dataframe tbody tr th:only-of-type {\n",
       "        vertical-align: middle;\n",
       "    }\n",
       "\n",
       "    .dataframe tbody tr th {\n",
       "        vertical-align: top;\n",
       "    }\n",
       "\n",
       "    .dataframe thead th {\n",
       "        text-align: right;\n",
       "    }\n",
       "</style>\n",
       "<table border=\"1\" class=\"dataframe\">\n",
       "  <thead>\n",
       "    <tr style=\"text-align: right;\">\n",
       "      <th></th>\n",
       "      <th>year</th>\n",
       "      <th>battle_number</th>\n",
       "      <th>attacker_king</th>\n",
       "      <th>defender_king</th>\n",
       "      <th>attacker_1</th>\n",
       "      <th>attacker_2</th>\n",
       "      <th>attacker_3</th>\n",
       "      <th>attacker_4</th>\n",
       "      <th>defender_1</th>\n",
       "      <th>defender_2</th>\n",
       "      <th>...</th>\n",
       "      <th>major_death</th>\n",
       "      <th>major_capture</th>\n",
       "      <th>attacker_size</th>\n",
       "      <th>defender_size</th>\n",
       "      <th>attacker_commander</th>\n",
       "      <th>defender_commander</th>\n",
       "      <th>summer</th>\n",
       "      <th>location</th>\n",
       "      <th>region</th>\n",
       "      <th>note</th>\n",
       "    </tr>\n",
       "    <tr>\n",
       "      <th>name</th>\n",
       "      <th></th>\n",
       "      <th></th>\n",
       "      <th></th>\n",
       "      <th></th>\n",
       "      <th></th>\n",
       "      <th></th>\n",
       "      <th></th>\n",
       "      <th></th>\n",
       "      <th></th>\n",
       "      <th></th>\n",
       "      <th></th>\n",
       "      <th></th>\n",
       "      <th></th>\n",
       "      <th></th>\n",
       "      <th></th>\n",
       "      <th></th>\n",
       "      <th></th>\n",
       "      <th></th>\n",
       "      <th></th>\n",
       "      <th></th>\n",
       "      <th></th>\n",
       "    </tr>\n",
       "  </thead>\n",
       "  <tbody>\n",
       "    <tr>\n",
       "      <th>Battle of the Golden Tooth</th>\n",
       "      <td>298</td>\n",
       "      <td>1</td>\n",
       "      <td>Joffrey/Tommen Baratheon</td>\n",
       "      <td>Robb Stark</td>\n",
       "      <td>Lannister</td>\n",
       "      <td>NaN</td>\n",
       "      <td>NaN</td>\n",
       "      <td>NaN</td>\n",
       "      <td>Tully</td>\n",
       "      <td>NaN</td>\n",
       "      <td>...</td>\n",
       "      <td>1.0</td>\n",
       "      <td>0.0</td>\n",
       "      <td>15000.0</td>\n",
       "      <td>4000.0</td>\n",
       "      <td>Jaime Lannister</td>\n",
       "      <td>Clement Piper, Vance</td>\n",
       "      <td>1.0</td>\n",
       "      <td>Golden Tooth</td>\n",
       "      <td>The Westerlands</td>\n",
       "      <td>NaN</td>\n",
       "    </tr>\n",
       "    <tr>\n",
       "      <th>Battle at the Mummer's Ford</th>\n",
       "      <td>298</td>\n",
       "      <td>2</td>\n",
       "      <td>Joffrey/Tommen Baratheon</td>\n",
       "      <td>Robb Stark</td>\n",
       "      <td>Lannister</td>\n",
       "      <td>NaN</td>\n",
       "      <td>NaN</td>\n",
       "      <td>NaN</td>\n",
       "      <td>Baratheon</td>\n",
       "      <td>NaN</td>\n",
       "      <td>...</td>\n",
       "      <td>1.0</td>\n",
       "      <td>0.0</td>\n",
       "      <td>NaN</td>\n",
       "      <td>120.0</td>\n",
       "      <td>Gregor Clegane</td>\n",
       "      <td>Beric Dondarrion</td>\n",
       "      <td>1.0</td>\n",
       "      <td>Mummer's Ford</td>\n",
       "      <td>The Riverlands</td>\n",
       "      <td>NaN</td>\n",
       "    </tr>\n",
       "    <tr>\n",
       "      <th>Battle of Riverrun</th>\n",
       "      <td>298</td>\n",
       "      <td>3</td>\n",
       "      <td>Joffrey/Tommen Baratheon</td>\n",
       "      <td>Robb Stark</td>\n",
       "      <td>Lannister</td>\n",
       "      <td>NaN</td>\n",
       "      <td>NaN</td>\n",
       "      <td>NaN</td>\n",
       "      <td>Tully</td>\n",
       "      <td>NaN</td>\n",
       "      <td>...</td>\n",
       "      <td>0.0</td>\n",
       "      <td>1.0</td>\n",
       "      <td>15000.0</td>\n",
       "      <td>10000.0</td>\n",
       "      <td>Jaime Lannister, Andros Brax</td>\n",
       "      <td>Edmure Tully, Tytos Blackwood</td>\n",
       "      <td>1.0</td>\n",
       "      <td>Riverrun</td>\n",
       "      <td>The Riverlands</td>\n",
       "      <td>NaN</td>\n",
       "    </tr>\n",
       "    <tr>\n",
       "      <th>Battle of the Green Fork</th>\n",
       "      <td>298</td>\n",
       "      <td>4</td>\n",
       "      <td>Robb Stark</td>\n",
       "      <td>Joffrey/Tommen Baratheon</td>\n",
       "      <td>Stark</td>\n",
       "      <td>NaN</td>\n",
       "      <td>NaN</td>\n",
       "      <td>NaN</td>\n",
       "      <td>Lannister</td>\n",
       "      <td>NaN</td>\n",
       "      <td>...</td>\n",
       "      <td>1.0</td>\n",
       "      <td>1.0</td>\n",
       "      <td>18000.0</td>\n",
       "      <td>20000.0</td>\n",
       "      <td>Roose Bolton, Wylis Manderly, Medger Cerwyn, H...</td>\n",
       "      <td>Tywin Lannister, Gregor Clegane, Kevan Lannist...</td>\n",
       "      <td>1.0</td>\n",
       "      <td>Green Fork</td>\n",
       "      <td>The Riverlands</td>\n",
       "      <td>NaN</td>\n",
       "    </tr>\n",
       "    <tr>\n",
       "      <th>Battle of the Whispering Wood</th>\n",
       "      <td>298</td>\n",
       "      <td>5</td>\n",
       "      <td>Robb Stark</td>\n",
       "      <td>Joffrey/Tommen Baratheon</td>\n",
       "      <td>Stark</td>\n",
       "      <td>Tully</td>\n",
       "      <td>NaN</td>\n",
       "      <td>NaN</td>\n",
       "      <td>Lannister</td>\n",
       "      <td>NaN</td>\n",
       "      <td>...</td>\n",
       "      <td>1.0</td>\n",
       "      <td>1.0</td>\n",
       "      <td>1875.0</td>\n",
       "      <td>6000.0</td>\n",
       "      <td>Robb Stark, Brynden Tully</td>\n",
       "      <td>Jaime Lannister</td>\n",
       "      <td>1.0</td>\n",
       "      <td>Whispering Wood</td>\n",
       "      <td>The Riverlands</td>\n",
       "      <td>NaN</td>\n",
       "    </tr>\n",
       "  </tbody>\n",
       "</table>\n",
       "<p>5 rows × 24 columns</p>\n",
       "</div>"
      ],
      "text/plain": [
       "                               year  battle_number             attacker_king  \\\n",
       "name                                                                           \n",
       "Battle of the Golden Tooth      298              1  Joffrey/Tommen Baratheon   \n",
       "Battle at the Mummer's Ford     298              2  Joffrey/Tommen Baratheon   \n",
       "Battle of Riverrun              298              3  Joffrey/Tommen Baratheon   \n",
       "Battle of the Green Fork        298              4                Robb Stark   \n",
       "Battle of the Whispering Wood   298              5                Robb Stark   \n",
       "\n",
       "                                          defender_king attacker_1 attacker_2  \\\n",
       "name                                                                            \n",
       "Battle of the Golden Tooth                   Robb Stark  Lannister        NaN   \n",
       "Battle at the Mummer's Ford                  Robb Stark  Lannister        NaN   \n",
       "Battle of Riverrun                           Robb Stark  Lannister        NaN   \n",
       "Battle of the Green Fork       Joffrey/Tommen Baratheon      Stark        NaN   \n",
       "Battle of the Whispering Wood  Joffrey/Tommen Baratheon      Stark      Tully   \n",
       "\n",
       "                              attacker_3 attacker_4 defender_1 defender_2  \\\n",
       "name                                                                        \n",
       "Battle of the Golden Tooth           NaN        NaN      Tully        NaN   \n",
       "Battle at the Mummer's Ford          NaN        NaN  Baratheon        NaN   \n",
       "Battle of Riverrun                   NaN        NaN      Tully        NaN   \n",
       "Battle of the Green Fork             NaN        NaN  Lannister        NaN   \n",
       "Battle of the Whispering Wood        NaN        NaN  Lannister        NaN   \n",
       "\n",
       "                               ...  major_death  major_capture attacker_size  \\\n",
       "name                           ...                                             \n",
       "Battle of the Golden Tooth     ...          1.0            0.0       15000.0   \n",
       "Battle at the Mummer's Ford    ...          1.0            0.0           NaN   \n",
       "Battle of Riverrun             ...          0.0            1.0       15000.0   \n",
       "Battle of the Green Fork       ...          1.0            1.0       18000.0   \n",
       "Battle of the Whispering Wood  ...          1.0            1.0        1875.0   \n",
       "\n",
       "                              defender_size  \\\n",
       "name                                          \n",
       "Battle of the Golden Tooth           4000.0   \n",
       "Battle at the Mummer's Ford           120.0   \n",
       "Battle of Riverrun                  10000.0   \n",
       "Battle of the Green Fork            20000.0   \n",
       "Battle of the Whispering Wood        6000.0   \n",
       "\n",
       "                                                              attacker_commander  \\\n",
       "name                                                                               \n",
       "Battle of the Golden Tooth                                       Jaime Lannister   \n",
       "Battle at the Mummer's Ford                                       Gregor Clegane   \n",
       "Battle of Riverrun                                  Jaime Lannister, Andros Brax   \n",
       "Battle of the Green Fork       Roose Bolton, Wylis Manderly, Medger Cerwyn, H...   \n",
       "Battle of the Whispering Wood                          Robb Stark, Brynden Tully   \n",
       "\n",
       "                                                              defender_commander  \\\n",
       "name                                                                               \n",
       "Battle of the Golden Tooth                                  Clement Piper, Vance   \n",
       "Battle at the Mummer's Ford                                     Beric Dondarrion   \n",
       "Battle of Riverrun                                 Edmure Tully, Tytos Blackwood   \n",
       "Battle of the Green Fork       Tywin Lannister, Gregor Clegane, Kevan Lannist...   \n",
       "Battle of the Whispering Wood                                    Jaime Lannister   \n",
       "\n",
       "                               summer         location           region note  \n",
       "name                                                                          \n",
       "Battle of the Golden Tooth        1.0     Golden Tooth  The Westerlands  NaN  \n",
       "Battle at the Mummer's Ford       1.0    Mummer's Ford   The Riverlands  NaN  \n",
       "Battle of Riverrun                1.0         Riverrun   The Riverlands  NaN  \n",
       "Battle of the Green Fork          1.0       Green Fork   The Riverlands  NaN  \n",
       "Battle of the Whispering Wood     1.0  Whispering Wood   The Riverlands  NaN  \n",
       "\n",
       "[5 rows x 24 columns]"
      ]
     },
     "execution_count": 27,
     "metadata": {},
     "output_type": "execute_result"
    }
   ],
   "source": [
    "battles.head()"
   ]
  },
  {
   "cell_type": "markdown",
   "metadata": {},
   "source": [
    "### 전체 전투 중 각 가문의 개입 빈도 시각화하기"
   ]
  },
  {
   "cell_type": "code",
   "execution_count": 28,
   "metadata": {},
   "outputs": [],
   "source": [
    "#attacker_1, 2,3,4, defender_1,2,3,4 열\n",
    "col_names = battles.columns[4:12]\n",
    "#NaN을 None 으로 replace\n",
    "house_names = battles[col_names].fillna(\"None\").values"
   ]
  },
  {
   "cell_type": "code",
   "execution_count": 29,
   "metadata": {},
   "outputs": [
    {
     "data": {
      "text/plain": [
       "Index(['attacker_1', 'attacker_2', 'attacker_3', 'attacker_4', 'defender_1',\n",
       "       'defender_2', 'defender_3', 'defender_4'],\n",
       "      dtype='object')"
      ]
     },
     "execution_count": 29,
     "metadata": {},
     "output_type": "execute_result"
    }
   ],
   "source": [
    "col_names"
   ]
  },
  {
   "cell_type": "code",
   "execution_count": 30,
   "metadata": {},
   "outputs": [
    {
     "data": {
      "text/plain": [
       "array([['Lannister', 'None', 'None', 'None', 'Tully', 'None', 'None',\n",
       "        'None'],\n",
       "       ['Lannister', 'None', 'None', 'None', 'Baratheon', 'None', 'None',\n",
       "        'None'],\n",
       "       ['Lannister', 'None', 'None', 'None', 'Tully', 'None', 'None',\n",
       "        'None'],\n",
       "       ['Stark', 'None', 'None', 'None', 'Lannister', 'None', 'None',\n",
       "        'None'],\n",
       "       ['Stark', 'Tully', 'None', 'None', 'Lannister', 'None', 'None',\n",
       "        'None'],\n",
       "       ['Stark', 'Tully', 'None', 'None', 'Lannister', 'None', 'None',\n",
       "        'None'],\n",
       "       ['Lannister', 'None', 'None', 'None', 'Darry', 'None', 'None',\n",
       "        'None'],\n",
       "       ['Greyjoy', 'None', 'None', 'None', 'Stark', 'None', 'None',\n",
       "        'None'],\n",
       "       ['Greyjoy', 'None', 'None', 'None', 'Stark', 'None', 'None',\n",
       "        'None'],\n",
       "       ['Greyjoy', 'None', 'None', 'None', 'Stark', 'None', 'None',\n",
       "        'None'],\n",
       "       ['Stark', 'None', 'None', 'None', 'Greyjoy', 'None', 'None',\n",
       "        'None'],\n",
       "       ['Greyjoy', 'None', 'None', 'None', 'Stark', 'None', 'None',\n",
       "        'None'],\n",
       "       ['Greyjoy', 'None', 'None', 'None', 'Stark', 'None', 'None',\n",
       "        'None'],\n",
       "       ['Bolton', 'Greyjoy', 'None', 'None', 'Stark', 'None', 'None',\n",
       "        'None'],\n",
       "       ['Stark', 'Tully', 'None', 'None', 'Lannister', 'None', 'None',\n",
       "        'None'],\n",
       "       ['Baratheon', 'None', 'None', 'None', 'Baratheon', 'None', 'None',\n",
       "        'None'],\n",
       "       ['Lannister', 'None', 'None', 'None', 'Tully', 'None', 'None',\n",
       "        'None'],\n",
       "       ['Stark', 'None', 'None', 'None', 'Lannister', 'None', 'None',\n",
       "        'None'],\n",
       "       ['Stark', 'None', 'None', 'None', 'Lannister', 'None', 'None',\n",
       "        'None'],\n",
       "       ['Baratheon', 'None', 'None', 'None', 'Lannister', 'None', 'None',\n",
       "        'None'],\n",
       "       ['Darry', 'None', 'None', 'None', 'Lannister', 'None', 'None',\n",
       "        'None'],\n",
       "       ['Stark', 'None', 'None', 'None', 'Lannister', 'None', 'None',\n",
       "        'None'],\n",
       "       ['Brotherhood without Banners', 'None', 'None', 'None',\n",
       "        'Brave Companions', 'None', 'None', 'None'],\n",
       "       ['Lannister', 'None', 'None', 'None', 'Stark', 'None', 'None',\n",
       "        'None'],\n",
       "       ['Lannister', 'None', 'None', 'None', 'Brave Companions', 'None',\n",
       "        'None', 'None'],\n",
       "       ['Frey', 'Bolton', 'None', 'None', 'Stark', 'None', 'None',\n",
       "        'None'],\n",
       "       ['Frey', 'None', 'None', 'None', 'Mallister', 'None', 'None',\n",
       "        'None'],\n",
       "       ['Free folk', 'Thenns', 'Giants', 'None', \"Night's Watch\",\n",
       "        'Baratheon', 'None', 'None'],\n",
       "       ['Bolton', 'None', 'None', 'None', 'Greyjoy', 'None', 'None',\n",
       "        'None'],\n",
       "       ['Brave Companions', 'None', 'None', 'None', 'None', 'None',\n",
       "        'None', 'None'],\n",
       "       ['Baratheon', 'Karstark', 'Mormont', 'Glover', 'Greyjoy', 'None',\n",
       "        'None', 'None'],\n",
       "       ['Greyjoy', 'None', 'None', 'None', 'Tyrell', 'None', 'None',\n",
       "        'None'],\n",
       "       ['Greyjoy', 'None', 'None', 'None', 'Tyrell', 'None', 'None',\n",
       "        'None'],\n",
       "       ['Baratheon', 'None', 'None', 'None', 'Baratheon', 'None', 'None',\n",
       "        'None'],\n",
       "       ['Baratheon', 'None', 'None', 'None', 'Baratheon', 'None', 'None',\n",
       "        'None'],\n",
       "       ['Lannister', 'Frey', 'None', 'None', 'Tully', 'None', 'None',\n",
       "        'None'],\n",
       "       ['Bracken', 'Lannister', 'None', 'None', 'Blackwood', 'None',\n",
       "        'None', 'None'],\n",
       "       ['Baratheon', 'Karstark', 'Mormont', 'Glover', 'Bolton', 'Frey',\n",
       "        'None', 'None']], dtype=object)"
      ]
     },
     "execution_count": 30,
     "metadata": {},
     "output_type": "execute_result"
    }
   ],
   "source": [
    "house_names"
   ]
  },
  {
   "cell_type": "code",
   "execution_count": 31,
   "metadata": {},
   "outputs": [],
   "source": [
    "#unique한 house_names 이름을 저장함\n",
    "house_names = np.unique(house_names)\n",
    "#None 제거\n",
    "house_names = house_names[house_names != \"None\"]\n",
    "#전투에 참여한 가문명을 Series 로 생성\n",
    "houses_to_battle_counts_ser = pd.Series(0, index=house_names)"
   ]
  },
  {
   "cell_type": "code",
   "execution_count": 32,
   "metadata": {},
   "outputs": [
    {
     "data": {
      "text/plain": [
       "array(['Baratheon', 'Blackwood', 'Bolton', 'Bracken', 'Brave Companions',\n",
       "       'Brotherhood without Banners', 'Darry', 'Free folk', 'Frey',\n",
       "       'Giants', 'Glover', 'Greyjoy', 'Karstark', 'Lannister',\n",
       "       'Mallister', 'Mormont', \"Night's Watch\", 'Stark', 'Thenns',\n",
       "       'Tully', 'Tyrell'], dtype=object)"
      ]
     },
     "execution_count": 32,
     "metadata": {},
     "output_type": "execute_result"
    }
   ],
   "source": [
    "house_names"
   ]
  },
  {
   "cell_type": "code",
   "execution_count": 33,
   "metadata": {},
   "outputs": [
    {
     "data": {
      "text/plain": [
       "Baratheon                      0\n",
       "Blackwood                      0\n",
       "Bolton                         0\n",
       "Bracken                        0\n",
       "Brave Companions               0\n",
       "Brotherhood without Banners    0\n",
       "Darry                          0\n",
       "Free folk                      0\n",
       "Frey                           0\n",
       "Giants                         0\n",
       "Glover                         0\n",
       "Greyjoy                        0\n",
       "Karstark                       0\n",
       "Lannister                      0\n",
       "Mallister                      0\n",
       "Mormont                        0\n",
       "Night's Watch                  0\n",
       "Stark                          0\n",
       "Thenns                         0\n",
       "Tully                          0\n",
       "Tyrell                         0\n",
       "dtype: int64"
      ]
     },
     "execution_count": 33,
     "metadata": {},
     "output_type": "execute_result"
    }
   ],
   "source": [
    "houses_to_battle_counts_ser"
   ]
  },
  {
   "cell_type": "code",
   "execution_count": 34,
   "metadata": {},
   "outputs": [],
   "source": [
    "for col in col_names:\n",
    "    houses_to_battle_counts_ser = houses_to_battle_counts_ser.add(battles[col].value_counts(), fill_value=0)\n",
    "    #print(col,battles[col].value_counts())"
   ]
  },
  {
   "cell_type": "code",
   "execution_count": 35,
   "metadata": {},
   "outputs": [
    {
     "data": {
      "text/plain": [
       "Blackwood                       1.0\n",
       "Thenns                          1.0\n",
       "Bracken                         1.0\n",
       "Night's Watch                   1.0\n",
       "Brotherhood without Banners     1.0\n",
       "Free folk                       1.0\n",
       "Mallister                       1.0\n",
       "Giants                          1.0\n",
       "Glover                          2.0\n",
       "Mormont                         2.0\n",
       "Karstark                        2.0\n",
       "Tyrell                          2.0\n",
       "Darry                           2.0\n",
       "Brave Companions                3.0\n",
       "Frey                            4.0\n",
       "Bolton                          4.0\n",
       "Tully                           7.0\n",
       "Greyjoy                        11.0\n",
       "Baratheon                      11.0\n",
       "Stark                          16.0\n",
       "Lannister                      18.0\n",
       "dtype: float64"
      ]
     },
     "execution_count": 35,
     "metadata": {},
     "output_type": "execute_result"
    }
   ],
   "source": [
    "houses_to_battle_counts_ser.sort_values()"
   ]
  },
  {
   "cell_type": "code",
   "execution_count": 36,
   "metadata": {},
   "outputs": [
    {
     "name": "stdout",
     "output_type": "stream",
     "text": [
      "[13.  3.  0.  1.  0.  2.  0.  0.  1.  1.]\n",
      "<BarContainer object of 10 artists>\n",
      "Rectangle(xy=(1, 0), width=1.7, height=13, angle=0)\n",
      "Rectangle(xy=(2.7, 0), width=1.7, height=3, angle=0)\n",
      "Rectangle(xy=(4.4, 0), width=1.7, height=0, angle=0)\n",
      "Rectangle(xy=(6.1, 0), width=1.7, height=1, angle=0)\n",
      "Rectangle(xy=(7.8, 0), width=1.7, height=0, angle=0)\n",
      "Rectangle(xy=(9.5, 0), width=1.7, height=2, angle=0)\n",
      "Rectangle(xy=(11.2, 0), width=1.7, height=0, angle=0)\n",
      "Rectangle(xy=(12.9, 0), width=1.7, height=0, angle=0)\n",
      "Rectangle(xy=(14.6, 0), width=1.7, height=1, angle=0)\n",
      "Rectangle(xy=(16.3, 0), width=1.7, height=1, angle=0)\n"
     ]
    },
    {
     "data": {
      "image/png": "[encoded data removed]",
      "text/plain": [
       "<Figure size 432x288 with 1 Axes>"
      ]
     },
     "metadata": {
      "needs_background": "light"
     },
     "output_type": "display_data"
    }
   ],
   "source": [
    "fig = plt.figure()\n",
    "#ax5 = houses_to_battle_counts_ser.hist(bins=10)\n",
    "n,bins,patches = plt.hist(houses_to_battle_counts_ser,bins=10,alpha=0.5,color='#EDD834',)\n",
    "print(n)\n",
    "print(patches)\n",
    "for p in patches:\n",
    "    print(p)\n",
    "#plt.ylim(0,18)\n",
    "plt.grid()"
   ]
  },
  {
   "cell_type": "code",
   "execution_count": 37,
   "metadata": {},
   "outputs": [
    {
     "data": {
      "text/plain": [
       "array([13.,  3.,  0.,  1.,  0.,  2.,  0.,  0.,  1.,  1.])"
      ]
     },
     "execution_count": 37,
     "metadata": {},
     "output_type": "execute_result"
    }
   ],
   "source": [
    "n"
   ]
  },
  {
   "cell_type": "code",
   "execution_count": 38,
   "metadata": {},
   "outputs": [
    {
     "data": {
      "text/plain": [
       "array([ 1. ,  2.7,  4.4,  6.1,  7.8,  9.5, 11.2, 12.9, 14.6, 16.3, 18. ])"
      ]
     },
     "execution_count": 38,
     "metadata": {},
     "output_type": "execute_result"
    }
   ],
   "source": [
    "bins"
   ]
  },
  {
   "cell_type": "code",
   "execution_count": null,
   "metadata": {},
   "outputs": [],
   "source": []
  }
 ],
 "metadata": {
  "kernelspec": {
   "display_name": "Python 3",
   "language": "python",
   "name": "python3"
  },
  "language_info": {
   "codemirror_mode": {
    "name": "ipython",
    "version": 3
   },
   "file_extension": ".py",
   "mimetype": "text/x-python",
   "name": "python",
   "nbconvert_exporter": "python",
   "pygments_lexer": "ipython3",
   "version": "3.8.5"
  }
 },
 "nbformat": 4,
 "nbformat_minor": 2
}
