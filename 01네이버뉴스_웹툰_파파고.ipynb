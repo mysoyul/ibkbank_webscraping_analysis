{
 "cells": [
  {
   "cell_type": "code",
   "execution_count": 2,
   "id": "977ba3e8-91a3-4d75-b8e3-1c183cb7c3d0",
   "metadata": {},
   "outputs": [
    {
     "name": "stdout",
     "output_type": "stream",
     "text": [
      "Name: requests\n",
      "Version: 2.25.1\n",
      "Summary: Python HTTP for Humans.\n",
      "Home-page: https://requests.readthedocs.io\n",
      "Author: Kenneth Reitz\n",
      "Author-email: me@kennethreitz.org\n",
      "License: Apache 2.0\n",
      "Location: c:\\users\\vega2\\anaconda3\\lib\\site-packages\n",
      "Requires: chardet, certifi, urllib3, idna\n",
      "Required-by: Sphinx, jupyterlab-server, conda, conda-repo-cli, conda-build, anaconda-project, anaconda-client\n"
     ]
    }
   ],
   "source": [
    "!pip show requests"
   ]
  },
  {
   "cell_type": "code",
   "execution_count": 3,
   "id": "2663fc41-bc39-4d7c-b262-0b750475e930",
   "metadata": {},
   "outputs": [
    {
     "name": "stdout",
     "output_type": "stream",
     "text": [
      "Name: beautifulsoup4\n",
      "Version: 4.9.3\n",
      "Summary: Screen-scraping library\n",
      "Home-page: http://www.crummy.com/software/BeautifulSoup/bs4/\n",
      "Author: Leonard Richardson\n",
      "Author-email: leonardr@segfault.org\n",
      "License: MIT\n",
      "Location: c:\\users\\vega2\\anaconda3\\lib\\site-packages\n",
      "Requires: soupsieve\n",
      "Required-by: conda-build\n"
     ]
    }
   ],
   "source": [
    "!pip show beautifulsoup4"
   ]
  },
  {
   "cell_type": "markdown",
   "id": "42a4e6b2-ee1d-469b-9239-489e7d7f1eea",
   "metadata": {},
   "source": [
    "### 네이버 뉴스 제목 가져오기\n",
    "* user-agent 헤더 값을 반드시 설정"
   ]
  },
  {
   "cell_type": "code",
   "execution_count": 26,
   "id": "17ec778f-4134-4499-a84e-c8e0ed3bd4f9",
   "metadata": {},
   "outputs": [],
   "source": [
    "import requests\n",
    "from bs4 import BeautifulSoup\n",
    "from urllib.parse import urljoin\n"
   ]
  },
  {
   "cell_type": "code",
   "execution_count": 10,
   "id": "340f5904-d990-4624-b104-0c27fddd4e7c",
   "metadata": {},
   "outputs": [],
   "source": [
    "url = 'https://news.naver.com/'\n",
    "req_header_dict = {\n",
    "    'user-agent': 'Mozilla/5.0 (Windows NT 10.0; Win64; x64) AppleWebKit/537.36 (KHTML, like Gecko) Chrome/95.0.4638.69 Safari/537.36'\n",
    "}\n",
    "res = requests.get(url, headers=req_header_dict)\n",
    "\n",
    "print(res.status_code)\n",
    "print(res.ok)"
   ]
  },
  {
   "cell_type": "code",
   "execution_count": 27,
   "id": "fe944a51-27d5-4585-a86e-be762c17eba8",
   "metadata": {},
   "outputs": [
    {
     "name": "stdout",
     "output_type": "stream",
     "text": [
      "<class 'bs4.element.ResultSet'>\n",
      "1 - ‘도이치모터스 주가 조작’ 권오수, 영장실질심사… - https://news.naver.com/main/read.naver?mode=LSD&mid=shm&sid1=102&oid=023&aid=0003653362\n",
      "2 - “산업용 요소수 차량용 전환 여부, 추가 실험 진… - https://news.naver.com/main/read.naver?mode=LSD&mid=shm&sid1=105&oid=056&aid=0011157630\n",
      "3 - 민주당 \"초과세수 50조 넘는데 직무유기...홍남기 사과하라\" - https://news.naver.com/main/read.naver?mode=LSD&mid=shm&sid1=100&oid=437&aid=0000280936\n",
      "4 - 이철희 “文대통령 퇴임 때 ‘문전박대’ 소망”…무슨 의미? - https://news.naver.com/main/read.naver?mode=LSD&mid=shm&sid1=100&oid=020&aid=0003393893\n",
      "5 - 러시아, ‘요격 시험’이라며 자국 인공위성 ‘미사일’로 부숴 - https://news.naver.com/main/read.naver?mode=LSD&mid=shm&sid1=101&oid=011&aid=0003985723\n",
      "6 - 경기남부경찰, 수능날 105곳서 '수험생 태워주기' 제공 - https://news.naver.com/main/read.naver?mode=LSD&mid=shm&sid1=102&oid=001&aid=0012795499\n",
      "7 - 고통받는 M세대...집값 폭등에 30대 집주인만 줄었다 - https://news.naver.com/main/read.naver?mode=LSD&mid=shm&sid1=101&oid=008&aid=0004671083\n",
      "9 - 與, 윤석열 겨냥 “대장동 숨은 몸통 비호” 공세 - https://news.naver.com/main/read.naver?mode=LSD&mid=shm&sid1=100&oid=081&aid=0003230386\n",
      "10 - 추미애 \"윤석열 봐주기 수사…국회 법왜곡죄 통과시켜야\" - https://news.naver.com/main/read.naver?mode=LSD&mid=shm&sid1=100&oid=018&aid=0005087228\n",
      "11 - 이준석 \"이재명, 자신에 비판적이면 보수?\" - https://news.naver.com/main/read.naver?mode=LSD&mid=shm&sid1=100&oid=586&aid=0000031263\n",
      "12 - 황교익, 돌연 지지 철회?…“이재명 지지한 적 없어” - https://news.naver.com/main/read.naver?mode=LSD&mid=shm&sid1=100&oid=005&aid=0001484652\n",
      "13 - 오세훈 \"시의회서 답변 기회 구걸 않겠다\"…민주당과 설전 - https://news.naver.com/main/read.naver?mode=LSD&mid=shm&sid1=100&oid=001&aid=0012796241\n",
      "14 - 단호한 홍준표 \"이준석 내치면 대선 진다\" - https://news.naver.com/main/read.naver?mode=LSD&mid=shm&sid1=100&oid=018&aid=0005087222\n",
      "16 - 가상자산 거래소 빗썸, '나 홀로' 사업자 승인 보류…왜? - https://news.naver.com/main/read.naver?mode=LSD&mid=shm&sid1=101&oid=629&aid=0000116354\n",
      "17 - 아파트 대신 오피스텔 사는 수요자 들었다! ‘청라국제도시 아아파크’ 눈길 - https://news.naver.com/main/read.naver?mode=LSD&mid=shm&sid1=101&oid=011&aid=0003985858\n",
      "18 - 시행 30년 지났지만 노후생활비 수준 못미치는 국민연금…200만원↑수령자 고작 960명 - https://news.naver.com/main/read.naver?mode=LSD&mid=shm&sid1=101&oid=022&aid=0003638562\n",
      "19 - '아파트→빌라, 전세→월세'…옮겨가는 풍선효과 - https://news.naver.com/main/read.naver?mode=LSD&mid=shm&sid1=101&oid=277&aid=0005000344\n",
      "20 - \"전기차 시장 확대 위해 가격 다운·충전 인프라 확보 시급\" - https://news.naver.com/main/read.naver?mode=LSD&mid=shm&sid1=101&oid=421&aid=0005727013\n",
      "21 - 유재석, 카카오엔터 주주 됐다…”유희열과 유증참여” - https://news.naver.com/main/read.naver?mode=LSD&mid=shm&sid1=101&oid=009&aid=0004879793\n",
      "23 - 시민단체들 “오세훈 서울시장, 시민 참여 예산 삭감 철회해야” - https://news.naver.com/main/read.naver?mode=LSD&mid=shm&sid1=102&oid=056&aid=0011157700\n",
      "24 - 평창 코로나19 확진자 발생 - https://news.naver.com/main/read.naver?mode=LSD&mid=shm&sid1=102&oid=087&aid=0000868524\n",
      "25 - 부산서 87명 확진…확진자 지속 증가에 ‘방역 경고등’ - https://news.naver.com/main/read.naver?mode=LSD&mid=shm&sid1=102&oid=005&aid=0001484653\n",
      "26 - 폐쇄됐던 대구 신천지 교회 다시 열리나...법원, 대구시장에 시설폐쇄 명령 취소 권고 - https://news.naver.com/main/read.naver?mode=LSD&mid=shm&sid1=102&oid=366&aid=0000774200\n",
      "27 - 평택시, 안중~수원 광교 운행 6800번 직행좌석 개통 - https://news.naver.com/main/read.naver?mode=LSD&mid=shm&sid1=102&oid=003&aid=0010835203\n",
      "28 - 방역당국 \"아직 의료체계 여력 있다\" - https://news.naver.com/main/read.naver?mode=LSD&mid=shm&sid1=102&oid=586&aid=0000031268\n",
      "30 - “다이어트 성공 위해 먹어라”?…‘예방적 먹기’의 효과 - https://news.naver.com/main/read.naver?mode=LSD&mid=shm&sid1=103&oid=022&aid=0003638561\n",
      "31 - 차량용 반도체 공급난에…일부 기능 빼고 출고하는 완성車업계 - https://news.naver.com/main/read.naver?mode=LSD&mid=shm&sid1=103&oid=243&aid=0000018580\n",
      "32 - [날씨] 전국 쾌청한 가을…미세먼지 '보통' - https://news.naver.com/main/read.naver?mode=LSD&mid=shm&sid1=103&oid=422&aid=0000514214\n",
      "33 - [날씨] 오늘 맑고 선선...수능일, 입시 추위 없어 - https://news.naver.com/main/read.naver?mode=LSD&mid=shm&sid1=103&oid=052&aid=0001665692\n",
      "34 - 멍냥이 오줌으로 요소수를? 계산해봤다 - https://news.naver.com/main/read.naver?mode=LSD&mid=shm&sid1=103&oid=028&aid=0002567998\n",
      "35 - [오후날씨 꿀팁] 온화한 오후…수능일, 중부엔 약한 비 - https://news.naver.com/main/read.naver?mode=LSD&mid=shm&sid1=103&oid=056&aid=0011157689\n",
      "36 - 동영상 기사 - https://news.naver.com/main/read.naver?mode=LSD&mid=shm&sid1=104&oid=422&aid=0000514226\n",
      "37 - 러시아 요격미사일에 위성 산산조각…미·영 \"무책임\" - https://news.naver.com/main/read.naver?mode=LSD&mid=shm&sid1=104&oid=422&aid=0000514226\n",
      "38 - 중, 위드코로나 추세에도 '마이웨이'…\"고립되지 않을 것\" - https://news.naver.com/main/read.naver?mode=LSD&mid=shm&sid1=104&oid=001&aid=0012796182\n",
      "39 - Fed 전현직 이사들 \"미국 인플레 위험…테이퍼링 속도 높여야\" - https://news.naver.com/main/read.naver?mode=LSD&mid=shm&sid1=104&oid=277&aid=0005000337\n",
      "40 - 캐나다 서부 지역에 물폭탄…7000여명 대피 등 피해 속출 - https://news.naver.com/main/read.naver?mode=LSD&mid=shm&sid1=104&oid=421&aid=0005726953\n",
      "41 - 국경 연 태국, 영화 '비치' 촬영지 마야 베이도 3년만에 재개방 - https://news.naver.com/main/read.naver?mode=LSD&mid=shm&sid1=104&oid=001&aid=0012796138\n",
      "42 - 일본 부스터 샷 내달 개시·교차 접종 허용하기로 - https://news.naver.com/main/read.naver?mode=LSD&mid=shm&sid1=104&oid=001&aid=0012796120\n",
      "44 - '안테나' 판 유희열, 70억 카카오엔터에 베팅…'절친' 유재석도 동참 - https://news.naver.com/main/read.naver?mode=LSD&mid=shm&sid1=105&oid=421&aid=0005727053\n",
      "45 - 희귀한 롱다리 오징어 ‘빅핀오징어’ 포착 - https://news.naver.com/main/read.naver?mode=LSD&mid=shm&sid1=105&oid=092&aid=0002239300\n",
      "46 - '나는 한국인이다' 에픽게임즈 CEO, 韓방문해 '공정한 룰' 촉구 - https://news.naver.com/main/read.naver?mode=LSD&mid=shm&sid1=105&oid=277&aid=0005000335\n",
      "47 - 페이스북, 소리소문없이 '메타버스 기업' 사냥 - https://news.naver.com/main/read.naver?mode=LSD&mid=shm&sid1=105&oid=092&aid=0002239299\n",
      "48 - \"안녕하게요\" \"매직한 하루 되시길\" 디즈니플러스의 엉성한 고객상담은 진짜였다 - https://news.naver.com/main/read.naver?mode=LSD&mid=shm&sid1=105&oid=032&aid=0003110458\n",
      "49 - ‘4004 칩’ 50주년...인텔은 그때의 ‘왕관’을 되찾을 수 있을까 - https://news.naver.com/main/read.naver?mode=LSD&mid=shm&sid1=105&oid=293&aid=0000036967\n",
      "51 - \"왕비 시해…생각보다 간단\" 을미사변 日외교관 추정 편지  … - https://news.naver.com/main/ranking/read.naver?mode=LSD&mid=shm&sid1=001&oid=001&aid=0012795740&rankingType=RANKING\n",
      "53 - “불법 자막보다 못한 수준” 한국 상륙 디즈니 ‘불만 폭발 … - https://news.naver.com/main/ranking/read.naver?mode=LSD&mid=shm&sid1=001&oid=016&aid=0001912945&rankingType=RANKING\n",
      "55 - '경기 안방'도 놓치는 이재명... 윤석열과 지지율 자꾸  … - https://news.naver.com/main/ranking/read.naver?mode=LSD&mid=shm&sid1=001&oid=469&aid=0000641349&rankingType=RANKING\n",
      "57 - 1시간30분을 10분으로 단축···'국내 최장' 보령해저터 … - https://news.naver.com/main/ranking/read.naver?mode=LSD&mid=shm&sid1=001&oid=032&aid=0003110445&rankingType=RANKING\n",
      "59 - \"강용석, 영상 안지우면 법원 간다\" 김부선 뿔난 영상 뭐 … - https://news.naver.com/main/ranking/read.naver?mode=LSD&mid=shm&sid1=001&oid=025&aid=0003151074&rankingType=RANKING\n",
      "61 - \"커피값 300원 올렸더니 손님이…\" 동네 커피숍의 '호소 … - https://news.naver.com/main/ranking/read.naver?mode=LSD&mid=shm&sid1=001&oid=015&aid=0004628871&rankingType=RANKING\n",
      "63 - '돌아온 수능' 영어 듣기평가 시간엔 \"항공기 이·착륙 잠 … - https://news.naver.com/main/ranking/read.naver?mode=LSD&mid=shm&sid1=001&oid=052&aid=0001665658&rankingType=RANKING\n",
      "65 - \"사전 예약만 1조5000억원 들어왔다\"…테슬라 잡을 무서 … - https://news.naver.com/main/ranking/read.naver?mode=LSD&mid=shm&sid1=001&oid=009&aid=0004879655&rankingType=RANKING\n",
      "67 - 국민연금 월 200만원 이상 수령자, 2018년 10명→올 … - https://news.naver.com/main/ranking/read.naver?mode=LSD&mid=shm&sid1=001&oid=056&aid=0011157473&rankingType=RANKING\n",
      "69 - 진중권 “직장인은 아내가 몇바늘 꼬맨다고 하루 쉬지 않는다 … - https://news.naver.com/main/ranking/read.naver?mode=LSD&mid=shm&sid1=001&oid=022&aid=0003638466&rankingType=RANKING\n",
      "71 - '文 경호원' 최영재 \"아랍 왕족에 '백지수표' 제안받아\" - https://news.naver.com/main/ranking/read.naver?mode=LSD&mid=shm&sid1=001&oid=057&aid=0001621706&rankingType=RANKING\n",
      "73 - \"아빠가 꽉 안아줬어요\"…경비행기 추락 11세 소녀 생존 - https://news.naver.com/main/ranking/read.naver?mode=LSD&mid=shm&sid1=001&oid=215&aid=0000997253&rankingType=RANKING\n",
      "75 - \"여가부 해체\" 전효성 낯뜨거운 사진 띄운 신남성연대 논란 - https://news.naver.com/main/ranking/read.naver?mode=LSD&mid=shm&sid1=001&oid=011&aid=0003985675&rankingType=RANKING\n",
      "77 - 이재명 측 “검은 망토女 김혜경 아냐…수행원” - https://news.naver.com/main/ranking/read.naver?mode=LSD&mid=shm&sid1=001&oid=020&aid=0003393896&rankingType=RANKING\n",
      "79 - 이철희 청 정무수석 \"문 대통령 퇴임 때 '문전박대' 받길 … - https://news.naver.com/main/ranking/read.naver?mode=LSD&mid=shm&sid1=001&oid=055&aid=0000933715&rankingType=RANKING\n",
      "80 - 동영상기사 - https://news.naver.com/main/ranking/read.naver?mode=LSD&mid=shm&sid1=001&oid=374&aid=0000264628&rankingType=RANKING\n",
      "81 - 오후 2시부터 요소수 재고 공개…산업용 전환 사용 추가 기 … - https://news.naver.com/main/ranking/read.naver?mode=LSD&mid=shm&sid1=001&oid=374&aid=0000264628&rankingType=RANKING\n",
      "83 - [단독]  법무부만이 아니었다…부천·안산·제주서도 얼굴 정 … - https://news.naver.com/main/ranking/read.naver?mode=LSD&mid=shm&sid1=001&oid=028&aid=0002567954&rankingType=RANKING\n",
      "85 - 식당 쑥대밭 만든 중학생 10명…담배 나무라자 몰려왔다 - https://news.naver.com/main/ranking/read.naver?mode=LSD&mid=shm&sid1=001&oid=437&aid=0000280922&rankingType=RANKING\n",
      "87 - “떨어진 옷장에 하반신 마비된 아내…5개월째 사과 없어” - https://news.naver.com/main/ranking/read.naver?mode=LSD&mid=shm&sid1=001&oid=005&aid=0001484609&rankingType=RANKING\n",
      "89 - [NFT 감별사] ‘에스파’로 성공한 SM의 메타버스 실험 … - https://news.naver.com/main/ranking/read.naver?mode=LSD&mid=shm&sid1=001&oid=138&aid=0002113627&rankingType=RANKING\n",
      "91 - 文 경호원 출신 최영재 “아랍 왕족에 백지수표 제안 받았다 … - https://news.naver.com/main/ranking/read.naver?mode=LSD&mid=shm&sid1=001&oid=023&aid=0003653332&rankingType=RANKING\n",
      "93 - 독일, 걷잡을 수 없이 퍼지는 코로나19…\"유례없는 속도\" - https://news.naver.com/main/ranking/read.naver?mode=LSD&mid=shm&sid1=001&oid=277&aid=0004999956&rankingType=RANKING\n",
      "95 - 이재명측 \"올블랙 외출 사진, 김혜경씨 아닌 김씨 수행원\" - https://news.naver.com/main/ranking/read.naver?mode=LSD&mid=shm&sid1=001&oid=421&aid=0005726634&rankingType=RANKING\n",
      "97 - 배달까지 40분...퉁퉁 불어버린 면요리, 고객이 남긴 ‘ … - https://news.naver.com/main/ranking/read.naver?mode=LSD&mid=shm&sid1=001&oid=081&aid=0003230188&rankingType=RANKING\n",
      "99 - [르포]\"연식 6년이하 중고차 매물 끊겨, 고객 뚝\"…매장 … - https://news.naver.com/main/ranking/read.naver?mode=LSD&mid=shm&sid1=001&oid=018&aid=0005086819&rankingType=RANKING\n",
      "101 - \"우리가 명성황후 시해‥생각보다 간단\" 일본 외교관 추정  … - https://news.naver.com/main/ranking/read.naver?mode=LSD&mid=shm&sid1=001&oid=214&aid=0001160241&rankingType=RANKING\n",
      "103 - 김동연 “서울대 학부 지방 이전하겠다…학종 폐지, 수능 2 … - https://news.naver.com/main/ranking/read.naver?mode=LSD&mid=shm&sid1=001&oid=366&aid=0000774166&rankingType=RANKING\n",
      "104 - 동영상기사 - https://news.naver.com/main/ranking/read.naver?mode=LSD&mid=shm&sid1=001&oid=422&aid=0000514195&rankingType=RANKING\n",
      "105 - 이재명, 예결소위 의원들과 오찬…윤석열, 선대위 구상 - https://news.naver.com/main/ranking/read.naver?mode=LSD&mid=shm&sid1=001&oid=422&aid=0000514195&rankingType=RANKING\n",
      "107 - 경찰, 이재명 후보 아내 김혜경씨 취재기자들에게 '스토킹  … - https://news.naver.com/main/ranking/read.naver?mode=LSD&mid=shm&sid1=001&oid=003&aid=0010834838&rankingType=RANKING\n",
      "109 - 고민정, '경희대 분교' 논란에 \"평가절하 아냐…'을들의  … - https://news.naver.com/main/ranking/read.naver?mode=LSD&mid=shm&sid1=001&oid=031&aid=0000636321&rankingType=RANKING\n",
      "111 - ‘제2 테슬라' 루시드, 사전예약자 1만7천명 돌파 - https://news.naver.com/main/ranking/read.naver?mode=LSD&mid=shm&sid1=001&oid=092&aid=0002239282&rankingType=RANKING\n",
      "113 - [속보] 중수본 \"확진자 점진적으로 증가 양상…수목금 상황 … - https://news.naver.com/main/ranking/read.naver?mode=LSD&mid=shm&sid1=001&oid=082&aid=0001127697&rankingType=RANKING\n",
      "115 - 文대통령, 임기 말 지지율 고공행진…靑 이철희 \"문재인 효 … - https://news.naver.com/main/ranking/read.naver?mode=LSD&mid=shm&sid1=001&oid=629&aid=0000116319&rankingType=RANKING\n",
      "117 - '신음 논란' 여성 BJ \"남성 팬과 성관계 안해.. 조작 … - https://news.naver.com/main/ranking/read.naver?mode=LSD&mid=shm&sid1=001&oid=014&aid=0004740167&rankingType=RANKING\n",
      "118 - 동영상기사 - https://news.naver.com/main/ranking/read.naver?mode=LSD&mid=shm&sid1=001&oid=449&aid=0000217901&rankingType=RANKING\n",
      "119 - 민주당, 김혜경 소문 배후로 “윤석열 캠프와 무관치 않다” - https://news.naver.com/main/ranking/read.naver?mode=LSD&mid=shm&sid1=001&oid=449&aid=0000217901&rankingType=RANKING\n",
      "121 - 제네시스 'GV70 전기차', 19일 광저우모터쇼 세계 최 … - https://news.naver.com/main/ranking/read.naver?mode=LSD&mid=shm&sid1=001&oid=030&aid=0002982201&rankingType=RANKING\n",
      "123 - \"파주 요양병원, 윤석열 장모가 주도한 것 맞다\" - https://news.naver.com/main/ranking/read.naver?mode=LSD&mid=shm&sid1=001&oid=047&aid=0002332869&rankingType=RANKING\n",
      "125 - [속보] 김남국 \"김혜경씨 관련 가짜뉴스 제보 479건…내 … - https://news.naver.com/main/ranking/read.naver?mode=LSD&mid=shm&sid1=001&oid=088&aid=0000731190&rankingType=RANKING\n",
      "127 - [단독]국민MC 유재석, 카카오엔터 주주됐다..\"유희열과  … - https://news.naver.com/main/ranking/read.naver?mode=LSD&mid=shm&sid1=001&oid=008&aid=0004670950&rankingType=RANKING\n",
      "129 - 새로운 넷플릭스 시청법…쇼파에 누워 \"알렉사, 뭐 좀 틀어 … - https://news.naver.com/main/ranking/read.naver?mode=LSD&mid=shm&sid1=001&oid=293&aid=0000036966&rankingType=RANKING\n",
      "131 - 윤석열 52.7% vs 이재명 34.8%…양자대결 격차 1 … - https://news.naver.com/main/ranking/read.naver?mode=LSD&mid=shm&sid1=001&oid=079&aid=0003575413&rankingType=RANKING\n",
      "133 - [영상] 종부세 납세 대상자 76만명 걱정하는 태영호 - https://news.naver.com/main/ranking/read.naver?mode=LSD&mid=shm&sid1=001&oid=006&aid=0000110513&rankingType=RANKING\n",
      "135 - \"택시 기사가 휴대폰 찾아 준 사례금으로 20만원을 요구합 … - https://news.naver.com/main/ranking/read.naver?mode=LSD&mid=shm&sid1=001&oid=119&aid=0002548338&rankingType=RANKING\n",
      "137 - \"집값 떨어진다던 당신 말 믿었다가 벼락거지 됐잖아\"…부동 … - https://news.naver.com/main/ranking/read.naver?mode=LSD&mid=shm&sid1=001&oid=029&aid=0002706259&rankingType=RANKING\n",
      "139 - 더는 ‘요가복 샤넬’이라 부르지 마라! - https://news.naver.com/main/ranking/read.naver?mode=LSD&mid=shm&sid1=001&oid=037&aid=0000029971&rankingType=RANKING\n",
      "141 - 몸속 염증 없애는 생활습관 4 - https://news.naver.com/main/ranking/read.naver?mode=LSD&mid=shm&sid1=001&oid=296&aid=0000052725&rankingType=RANKING\n",
      "143 - 여자들의 해방과 욕망을 찾아서: 섹스굿즈에서 한류까지 - https://news.naver.com/main/ranking/read.naver?mode=LSD&mid=shm&sid1=001&oid=007&aid=0000006942&rankingType=RANKING\n",
      "145 - 尹, 권성동 사무총장 확정…‘김종인 원톱 선대위’ 구성 막 … - https://news.naver.com/main/ranking/read.naver?mode=LSD&mid=shm&sid1=001&oid=021&aid=0002492581&rankingType=RANKING\n",
      "147 - 이재명, 진중권에 \"보수논객\"…이준석 \"하다하다 이제…웃기 … - https://news.naver.com/main/ranking/read.naver?mode=LSD&mid=shm&sid1=001&oid=448&aid=0000344070&rankingType=RANKING\n",
      "149 - 윤석열 45.4% vs 이재명 34.1%…당선 가능성도 尹 … - https://news.naver.com/main/ranking/read.naver?mode=LSD&mid=shm&sid1=001&oid=586&aid=0000031252&rankingType=RANKING\n",
      "151 - 김장훈‧영탁 출연... 22일 '강남가족콘서트' … - https://news.naver.com/main/ranking/read.naver?mode=LSD&mid=shm&sid1=001&oid=310&aid=0000091999&rankingType=RANKING\n",
      "153 - [심상정 인터뷰] “차악을 고민하지 말고 최선을 선택하시라 … - https://news.naver.com/main/ranking/read.naver?mode=LSD&mid=shm&sid1=001&oid=308&aid=0000029752&rankingType=RANKING\n",
      "155 - “딸이 엄마 뺨 때린 것, 왜 기사가 되나요” - https://news.naver.com/main/ranking/read.naver?mode=LSD&mid=shm&sid1=001&oid=036&aid=0000045664&rankingType=RANKING\n",
      "157 - Vaccines from abroad don't cut i … - https://news.naver.com/main/ranking/read.naver?mode=LSD&mid=shm&sid1=001&oid=640&aid=0000018204&rankingType=RANKING\n",
      "159 - [속보]산업용 요소수 차량용으로 전환 사용 불가…추가실험  … - https://news.naver.com/main/ranking/read.naver?mode=LSD&mid=shm&sid1=001&oid=087&aid=0000868522&rankingType=RANKING\n",
      "161 - 대선 승자는 이미 결정됐다...단, 이재명도 윤석열도 아니 … - https://news.naver.com/main/ranking/read.naver?mode=LSD&mid=shm&sid1=001&oid=002&aid=0002219051&rankingType=RANKING\n",
      "163 - 김동연 “李는 경제 기본도 모르고, 尹은 과거만 재단하던  … - https://news.naver.com/main/ranking/read.naver?mode=LSD&mid=shm&sid1=001&oid=053&aid=0000029981&rankingType=RANKING\n",
      "165 - 국내 코로나 백신·치료제 임상시험 참가자는 방역패스 예외 - https://news.naver.com/main/ranking/read.naver?mode=LSD&mid=shm&sid1=001&oid=584&aid=0000016725&rankingType=RANKING\n",
      "167 - [CEO워치]'저격수에서 표적된' 김헌동, 험로는 지금부터 - https://news.naver.com/main/ranking/read.naver?mode=LSD&mid=shm&sid1=001&oid=648&aid=0000004827&rankingType=RANKING\n",
      "169 - “집값 오르는 소리 들린다”…신흥 주거 타운으로 거듭나는  … - https://news.naver.com/main/ranking/read.naver?mode=LSD&mid=shm&sid1=001&oid=050&aid=0000059035&rankingType=RANKING\n",
      "171 - 가계대출 대란 속 은행은 호시절...3분기 누적 순익 15 … - https://news.naver.com/main/ranking/read.naver?mode=LSD&mid=shm&sid1=001&oid=123&aid=0002259715&rankingType=RANKING\n",
      "173 - 중앙일보 온라인 회원 20만명... 홈피 개편 2개월만 - https://news.naver.com/main/ranking/read.naver?mode=LSD&mid=shm&sid1=001&oid=127&aid=0000031807&rankingType=RANKING\n",
      "175 - 답십리·을지로·세운지구…서울 도심 초역세권에 오피스텔 분양 … - https://news.naver.com/main/ranking/read.naver?mode=LSD&mid=shm&sid1=001&oid=024&aid=0000071553&rankingType=RANKING\n",
      "177 - [강혜미의 스타트업 카페](19)프리랜서는 프리랜서로 대우 … - https://news.naver.com/main/ranking/read.naver?mode=LSD&mid=shm&sid1=001&oid=033&aid=0000043301&rankingType=RANKING\n",
      "179 - 뱃살 빼주는 호르몬, '이 음식' 먹으면 잘 나와 - https://news.naver.com/main/ranking/read.naver?mode=LSD&mid=shm&sid1=001&oid=346&aid=0000045910&rankingType=RANKING\n",
      "181 - 정청래 \"이해찬, 선대위 이끌 것… 김종인만큼 강하다\" - https://news.naver.com/main/ranking/read.naver?mode=LSD&mid=shm&sid1=001&oid=417&aid=0000754880&rankingType=RANKING\n",
      "183 - 대장동 머니, 쌍방울 전 대표에게로...'주가조작' 전 부 … - https://news.naver.com/main/ranking/read.naver?mode=LSD&mid=shm&sid1=001&oid=607&aid=0000000942&rankingType=RANKING\n",
      "185 - [Feature] From bugs to delicacie … - https://news.naver.com/main/ranking/read.naver?mode=LSD&mid=shm&sid1=001&oid=044&aid=0000232281&rankingType=RANKING\n",
      "187 - [우그그] 금광석 1톤에 금 5g, 폐휴대전화는 400g  … - https://news.naver.com/main/ranking/read.naver?mode=LSD&mid=shm&sid1=001&oid=262&aid=0000014954&rankingType=RANKING\n",
      "189 - [Man&Wall] 경남의 자연암장 메카 의령 큰덤바위 - https://news.naver.com/main/ranking/read.naver?mode=LSD&mid=shm&sid1=001&oid=094&aid=0000009542&rankingType=RANKING\n",
      "191 - [우그그] 금광석 1톤에 금 5g, 폐휴대전화는 400g  … - https://news.naver.com/main/ranking/read.naver?mode=LSD&mid=shm&sid1=001&oid=262&aid=0000014954&rankingType=RANKING\n",
      "193 - [Man&Wall] 경남의 자연암장 메카 의령 큰덤바위 - https://news.naver.com/main/ranking/read.naver?mode=LSD&mid=shm&sid1=001&oid=094&aid=0000009542&rankingType=RANKING\n",
      "195 - 김혜수가 ‘명품 직송’ 외치던 ‘발란’ 광고…프라다 광고  … - https://news.naver.com/main/ranking/read.naver?mode=LSD&mid=shm&sid1=001&oid=243&aid=0000018576&rankingType=RANKING\n",
      "197 - 오늘 날씨는 '잎비' 내립니다…늦가을 큰 은행나무들의 선물 - https://news.naver.com/main/ranking/read.naver?mode=LSD&mid=shm&sid1=001&oid=353&aid=0000040909&rankingType=RANKING\n",
      "199 - 제주 반짝 명소 '이매진드 랜드스케이프 제주' 눈길 - https://news.naver.com/main/ranking/read.naver?mode=LSD&mid=shm&sid1=001&oid=145&aid=0000015599&rankingType=RANKING\n"
     ]
    }
   ],
   "source": [
    "if res.ok:\n",
    "    # 소스보기 했을 때 보여지는 텍스트\n",
    "    html = res.text\n",
    "    #BeautifulSoup 객체생성\n",
    "    soup = BeautifulSoup(html, 'html.parser')\n",
    "    #print(len(soup.select(\"a[href*='read.naver']\")))\n",
    "    atag_list = soup.select(\"a[href*='read.naver']\")\n",
    "    print(type(atag_list))\n",
    "    for idx, atag in enumerate(atag_list,1):\n",
    "        #print(type(atag))\n",
    "        if atag:\n",
    "            title = atag.text.strip()\n",
    "            href = urljoin(url, atag['href'])\n",
    "        if title:\n",
    "            print(f'{idx} - {title} - {href}')"
   ]
  },
  {
   "cell_type": "code",
   "execution_count": null,
   "id": "65bde413",
   "metadata": {},
   "outputs": [],
   "source": [
    "### 웹툰 이미지 다운로드 & 업로드\n",
    "* referer 헤더 설정이 필요합니다."
   ]
  },
  {
   "cell_type": "code",
   "execution_count": null,
   "id": "f4392dc2",
   "metadata": {},
   "outputs": [],
   "source": [
    "import requests\n",
    "import os"
   ]
  },
  {
   "cell_type": "code",
   "execution_count": null,
   "id": "66e02bf1",
   "metadata": {},
   "outputs": [],
   "source": [
    "req_header = {\n",
    "    'referer':'https://comic.naver.com/webtoon/detail?titleId=780506&no=32&amp;weekday=tue'\n",
    "}\n",
    "img_url_list = ['https://image-comic.pstatic.net/webtoon/780506/32/20211115143459_7181f6c9b607b12cf6f4da17353e77a3_IMAG01_1.jpg',\n",
    "                'https://image-comic.pstatic.net/webtoon/780506/32/20211115143459_7181f6c9b607b12cf6f4da17353e77a3_IMAG01_2.jpg',\n",
    "                'https://image-comic.pstatic.net/webtoon/780506/32/20211115143459_7181f6c9b607b12cf6f4da17353e77a3_IMAG01_3.jpg']\n",
    "\n",
    "for img_url in img_url_list:\n",
    "    res = requests.get(img_url, headers=req_header)\n",
    "    print(res.status_code)\n",
    "    if res.ok:\n",
    "        #response 객체에 담겨진 binary data를 추출할때는 content 속성사용\n",
    "        img_data = res.content\n",
    "        file_name = os.path.basename(img_url)\n",
    "        \n",
    "        with open(file_name, 'wb') as file:\n",
    "            print(f'writing to {file_name} ({len(img_data)}) bytes')\n",
    "            file.write(img_data)"
   ]
  },
  {
   "cell_type": "code",
   "execution_count": null,
   "id": "716f70b9",
   "metadata": {},
   "outputs": [],
   "source": [
    "### 이미지 업로드\n",
    "* http://httpbin.org/post  URL로 다운받은 img 파일을 업로드\n",
    "* requests의 post() 함수를 사용하고, files 속성에 image data를 지정한다"
   ]
  },
  {
   "cell_type": "code",
   "execution_count": null,
   "id": "b98c6825",
   "metadata": {},
   "outputs": [],
   "source": [
    "import requests\n",
    "\n",
    "upload_files_dict = {\n",
    "    'img1': open('f1.jpg','rb'),\n",
    "    'img2': open('f2.jpg','rb'),\n",
    "    'img3': open('f3.jpg','rb')\n",
    "}\n",
    "url = \"http://httpbin.org/post\"\n",
    "res = requests.post(url, files=upload_files_dict)\n",
    "print(res.status_code)"
   ]
  },
  {
   "cell_type": "code",
   "execution_count": null,
   "id": "e3b52ea3",
   "metadata": {},
   "outputs": [],
   "source": [
    "img1_data = res.json()['files']['img1']\n",
    "#img1_data"
   ]
  },
  {
   "cell_type": "code",
   "execution_count": null,
   "id": "be8f7686",
   "metadata": {},
   "outputs": [],
   "source": [
    "### 파파고 오픈 API 사용\n",
    "* urllib 내부 라이브러리를 사용한 코드"
   ]
  },
  {
   "cell_type": "code",
   "execution_count": null,
   "id": "1c7bb98f",
   "metadata": {},
   "outputs": [],
   "source": [
    "import os\n",
    "import sys\n",
    "import urllib.request\n",
    "\n",
    "client_id = \"Txlmbz8_3MnvRcDWLoZo\" # 개발자센터에서 발급받은 Client ID 값\n",
    "client_secret = \"pmYRthuGCZ\" # 개발자센터에서 발급받은 Client Secret 값\n",
    "\n",
    "encText = urllib.parse.quote(\"Suddenly, I'm not half the man I used to be\")\n",
    "data = \"source=en&target=ko&text=\" + encText\n",
    "url = \"https://openapi.naver.com/v1/papago/n2mt\"\n",
    "\n",
    "request = urllib.request.Request(url)\n",
    "request.add_header(\"X-Naver-Client-Id\",client_id)\n",
    "request.add_header(\"X-Naver-Client-Secret\",client_secret)\n",
    "response = urllib.request.urlopen(request, data=data.encode(\"utf-8\"))\n",
    "rescode = response.getcode()\n",
    "if(rescode==200):\n",
    "    response_body = response.read()\n",
    "    print(response_body.decode('utf-8'))\n",
    "else:\n",
    "    print(\"Error Code:\" + rescode)"
   ]
  },
  {
   "cell_type": "code",
   "execution_count": null,
   "id": "dc6184b5",
   "metadata": {},
   "outputs": [],
   "source": [
    "* requests를 사용한 코드로 변경하기"
   ]
  },
  {
   "cell_type": "code",
   "execution_count": null,
   "id": "d7c50ee6",
   "metadata": {},
   "outputs": [],
   "source": [
    "import requests\n",
    "\n",
    "client_id = \"Txlmbz8_3MnvRcDWLoZo\" # 개발자센터에서 발급받은 Client ID 값\n",
    "client_secret = \"pmYRthuGCZ\" # 개발자센터에서 발급받은 Client Secret 값\n",
    "url = \"https://openapi.naver.com/v1/papago/n2mt\"\n",
    "\n",
    "#request parameter(요청 파라미터)\n",
    "req_param_dict = {\n",
    "    \"source\":\"en\",\n",
    "    \"target\":\"ko\",\n",
    "    \"text\":\"Suddenly, I'm not half the man I used to be\"\n",
    "}\n",
    "#request header(요청 헤더)\n",
    "req_header_dict = {\n",
    "    \"X-Naver-Client-Id\":client_id,\n",
    "    \"X-Naver-Client-Secret\":client_secret\n",
    "}\n",
    "\n",
    "res = requests.post(url, data=req_param_dict, headers=req_header_dict)\n",
    "print(res.ok)\n",
    "print(f' 응답 헤더 : {res.headers}')\n",
    "print(f' 요청 헤더 : {res.request.headers}')\n",
    "print(f' 응답 코드 : {res.status_code}')  "
   ]
  },
  {
   "cell_type": "code",
   "execution_count": null,
   "id": "22ba9985",
   "metadata": {},
   "outputs": [],
   "source": [
    "if res.ok:\n",
    "    print(type(res.text))\n",
    "    print(type(res.json()))\n",
    "    print(res.text)\n",
    "    print(res.json()['message']['result']['translatedText'])"
   ]
  }
 ],
 "metadata": {
  "kernelspec": {
   "display_name": "Python 3",
   "language": "python",
   "name": "python3"
  },
  "language_info": {
   "codemirror_mode": {
    "name": "ipython",
    "version": 3
   },
   "file_extension": ".py",
   "mimetype": "text/x-python",
   "name": "python",
   "nbconvert_exporter": "python",
   "pygments_lexer": "ipython3",
   "version": "3.8.8"
  }
 },
 "nbformat": 4,
 "nbformat_minor": 5
}
